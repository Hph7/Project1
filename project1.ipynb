{
 "cells": [
  {
   "cell_type": "code",
   "execution_count": 24,
   "metadata": {},
   "outputs": [],
   "source": [
    "# Dependencies\n",
    "import requests\n",
    "import json\n",
    "import pandas as pd\n",
    "import matplotlib.pyplot as plt\n",
    "\n",
    "# import csv data files\n",
    "education_file = \"Resources/education.csv\"\n",
    "childmarriage_file = \"Resources/childmarriage.csv\"\n",
    "\n",
    "# create dataframes for each\n",
    "education_file_df = pd.read_csv(education_file, encoding=\"ISO-8859-1\")\n",
    "childmarriage_file_df = pd.read_csv(childmarriage_file, encoding=\"ISO-8859-1\")\n",
    "countries_df = pd.read_html('https://developers.google.com/public-data/docs/canonical/countries_csv')\n",
    "\n",
    "#education_file_df.head()\n",
    "#childmarriage_file_df.head()\n",
    "#countries_df[0]"
   ]
  },
  {
   "cell_type": "code",
   "execution_count": 25,
   "metadata": {},
   "outputs": [
    {
     "data": {
      "text/html": [
       "<div>\n",
       "<style scoped>\n",
       "    .dataframe tbody tr th:only-of-type {\n",
       "        vertical-align: middle;\n",
       "    }\n",
       "\n",
       "    .dataframe tbody tr th {\n",
       "        vertical-align: top;\n",
       "    }\n",
       "\n",
       "    .dataframe thead th {\n",
       "        text-align: right;\n",
       "    }\n",
       "</style>\n",
       "<table border=\"1\" class=\"dataframe\">\n",
       "  <thead>\n",
       "    <tr style=\"text-align: right;\">\n",
       "      <th></th>\n",
       "      <th>LOCATION</th>\n",
       "      <th>Country</th>\n",
       "      <th>TIME</th>\n",
       "      <th>Value</th>\n",
       "    </tr>\n",
       "  </thead>\n",
       "  <tbody>\n",
       "    <tr>\n",
       "      <td>0</td>\n",
       "      <td>MAR</td>\n",
       "      <td>Morocco</td>\n",
       "      <td>1982</td>\n",
       "      <td>0.53256</td>\n",
       "    </tr>\n",
       "    <tr>\n",
       "      <td>1</td>\n",
       "      <td>MAR</td>\n",
       "      <td>Morocco</td>\n",
       "      <td>1994</td>\n",
       "      <td>0.64434</td>\n",
       "    </tr>\n",
       "    <tr>\n",
       "      <td>2</td>\n",
       "      <td>MAR</td>\n",
       "      <td>Morocco</td>\n",
       "      <td>2004</td>\n",
       "      <td>0.74865</td>\n",
       "    </tr>\n",
       "    <tr>\n",
       "      <td>3</td>\n",
       "      <td>MAR</td>\n",
       "      <td>Morocco</td>\n",
       "      <td>2008</td>\n",
       "      <td>0.81461</td>\n",
       "    </tr>\n",
       "    <tr>\n",
       "      <td>4</td>\n",
       "      <td>MAR</td>\n",
       "      <td>Morocco</td>\n",
       "      <td>2009</td>\n",
       "      <td>0.83185</td>\n",
       "    </tr>\n",
       "  </tbody>\n",
       "</table>\n",
       "</div>"
      ],
      "text/plain": [
       "  LOCATION  Country  TIME    Value\n",
       "0      MAR  Morocco  1982  0.53256\n",
       "1      MAR  Morocco  1994  0.64434\n",
       "2      MAR  Morocco  2004  0.74865\n",
       "3      MAR  Morocco  2008  0.81461\n",
       "4      MAR  Morocco  2009  0.83185"
      ]
     },
     "execution_count": 25,
     "metadata": {},
     "output_type": "execute_result"
    }
   ],
   "source": [
    "filtered_education = education_file_df.filter([\"Indicator\"== \"Youth literacy rate, population 15-24 years, both sexes (%)\",\n",
    "                                              \"LOCATION\", \"Country\",\"TIME\", \"Value\"])\n",
    "filtered_education.head()                       "
   ]
  },
  {
   "cell_type": "code",
   "execution_count": 26,
   "metadata": {},
   "outputs": [
    {
     "data": {
      "text/html": [
       "<div>\n",
       "<style scoped>\n",
       "    .dataframe tbody tr th:only-of-type {\n",
       "        vertical-align: middle;\n",
       "    }\n",
       "\n",
       "    .dataframe tbody tr th {\n",
       "        vertical-align: top;\n",
       "    }\n",
       "\n",
       "    .dataframe thead th {\n",
       "        text-align: right;\n",
       "    }\n",
       "</style>\n",
       "<table border=\"1\" class=\"dataframe\">\n",
       "  <thead>\n",
       "    <tr style=\"text-align: right;\">\n",
       "      <th></th>\n",
       "      <th>Country</th>\n",
       "      <th>Indicator</th>\n",
       "      <th>Sex</th>\n",
       "      <th>Time Period</th>\n",
       "      <th>Current Age</th>\n",
       "      <th>Observation Value</th>\n",
       "      <th>Unit of Measure</th>\n",
       "      <th>The period of time for which data are provided</th>\n",
       "    </tr>\n",
       "  </thead>\n",
       "  <tbody>\n",
       "    <tr>\n",
       "      <td>0</td>\n",
       "      <td>Botswana</td>\n",
       "      <td>Percentage of women (aged 20-24 years) married...</td>\n",
       "      <td>Female</td>\n",
       "      <td>1988</td>\n",
       "      <td>20 to 24 years old</td>\n",
       "      <td>10.0</td>\n",
       "      <td>%</td>\n",
       "      <td>1988</td>\n",
       "    </tr>\n",
       "    <tr>\n",
       "      <td>1</td>\n",
       "      <td>Uzbekistan</td>\n",
       "      <td>Percentage of men (aged 20-24 years) married o...</td>\n",
       "      <td>Male</td>\n",
       "      <td>2002</td>\n",
       "      <td>20 to 24 years old</td>\n",
       "      <td>0.5</td>\n",
       "      <td>%</td>\n",
       "      <td>2002</td>\n",
       "    </tr>\n",
       "    <tr>\n",
       "      <td>2</td>\n",
       "      <td>Philippines</td>\n",
       "      <td>Percentage of men (aged 20-24 years) married o...</td>\n",
       "      <td>Male</td>\n",
       "      <td>2003</td>\n",
       "      <td>20 to 24 years old</td>\n",
       "      <td>2.9</td>\n",
       "      <td>%</td>\n",
       "      <td>2003</td>\n",
       "    </tr>\n",
       "    <tr>\n",
       "      <td>3</td>\n",
       "      <td>South Africa</td>\n",
       "      <td>Percentage of women (aged 20-24 years) married...</td>\n",
       "      <td>Female</td>\n",
       "      <td>2003</td>\n",
       "      <td>20 to 24 years old</td>\n",
       "      <td>0.8</td>\n",
       "      <td>%</td>\n",
       "      <td>2003</td>\n",
       "    </tr>\n",
       "    <tr>\n",
       "      <td>4</td>\n",
       "      <td>South Africa</td>\n",
       "      <td>Percentage of women (aged 20-24 years) married...</td>\n",
       "      <td>Female</td>\n",
       "      <td>2003</td>\n",
       "      <td>20 to 24 years old</td>\n",
       "      <td>5.6</td>\n",
       "      <td>%</td>\n",
       "      <td>2003</td>\n",
       "    </tr>\n",
       "  </tbody>\n",
       "</table>\n",
       "</div>"
      ],
      "text/plain": [
       "        Country                                          Indicator     Sex  \\\n",
       "0      Botswana  Percentage of women (aged 20-24 years) married...  Female   \n",
       "1    Uzbekistan  Percentage of men (aged 20-24 years) married o...    Male   \n",
       "2   Philippines  Percentage of men (aged 20-24 years) married o...    Male   \n",
       "3  South Africa  Percentage of women (aged 20-24 years) married...  Female   \n",
       "4  South Africa  Percentage of women (aged 20-24 years) married...  Female   \n",
       "\n",
       "   Time Period         Current Age  Observation Value Unit of Measure  \\\n",
       "0         1988  20 to 24 years old               10.0               %   \n",
       "1         2002  20 to 24 years old                0.5               %   \n",
       "2         2003  20 to 24 years old                2.9               %   \n",
       "3         2003  20 to 24 years old                0.8               %   \n",
       "4         2003  20 to 24 years old                5.6               %   \n",
       "\n",
       "  The period of time for which data are provided  \n",
       "0                                           1988  \n",
       "1                                           2002  \n",
       "2                                           2003  \n",
       "3                                           2003  \n",
       "4                                           2003  "
      ]
     },
     "execution_count": 26,
     "metadata": {},
     "output_type": "execute_result"
    }
   ],
   "source": [
    "childmarriage_file_df.head()\n",
    "clean_childmarriage=childmarriage_file_df[['Geographic Area','Indicator','Sex','Time Period','Current Age',\n",
    "                           'Observation Value','Unit of Measure','The period of time for which data are provided']]\n",
    "clean_childmarriage = clean_childmarriage.rename(columns={\"Geographic Area\":\"Country\"})\n",
    "clean_childmarriage.head()"
   ]
  },
  {
   "cell_type": "code",
   "execution_count": 27,
   "metadata": {},
   "outputs": [
    {
     "data": {
      "text/html": [
       "<div>\n",
       "<style scoped>\n",
       "    .dataframe tbody tr th:only-of-type {\n",
       "        vertical-align: middle;\n",
       "    }\n",
       "\n",
       "    .dataframe tbody tr th {\n",
       "        vertical-align: top;\n",
       "    }\n",
       "\n",
       "    .dataframe thead th {\n",
       "        text-align: right;\n",
       "    }\n",
       "</style>\n",
       "<table border=\"1\" class=\"dataframe\">\n",
       "  <thead>\n",
       "    <tr style=\"text-align: right;\">\n",
       "      <th></th>\n",
       "      <th>Abbr</th>\n",
       "      <th>latitude</th>\n",
       "      <th>longitude</th>\n",
       "      <th>Country</th>\n",
       "    </tr>\n",
       "  </thead>\n",
       "  <tbody>\n",
       "    <tr>\n",
       "      <td>0</td>\n",
       "      <td>AD</td>\n",
       "      <td>42.546245</td>\n",
       "      <td>1.601554</td>\n",
       "      <td>Andorra</td>\n",
       "    </tr>\n",
       "    <tr>\n",
       "      <td>1</td>\n",
       "      <td>AE</td>\n",
       "      <td>23.424076</td>\n",
       "      <td>53.847818</td>\n",
       "      <td>United Arab Emirates</td>\n",
       "    </tr>\n",
       "    <tr>\n",
       "      <td>2</td>\n",
       "      <td>AF</td>\n",
       "      <td>33.939110</td>\n",
       "      <td>67.709953</td>\n",
       "      <td>Afghanistan</td>\n",
       "    </tr>\n",
       "    <tr>\n",
       "      <td>3</td>\n",
       "      <td>AG</td>\n",
       "      <td>17.060816</td>\n",
       "      <td>-61.796428</td>\n",
       "      <td>Antigua and Barbuda</td>\n",
       "    </tr>\n",
       "    <tr>\n",
       "      <td>4</td>\n",
       "      <td>AI</td>\n",
       "      <td>18.220554</td>\n",
       "      <td>-63.068615</td>\n",
       "      <td>Anguilla</td>\n",
       "    </tr>\n",
       "  </tbody>\n",
       "</table>\n",
       "</div>"
      ],
      "text/plain": [
       "  Abbr   latitude  longitude               Country\n",
       "0   AD  42.546245   1.601554               Andorra\n",
       "1   AE  23.424076  53.847818  United Arab Emirates\n",
       "2   AF  33.939110  67.709953           Afghanistan\n",
       "3   AG  17.060816 -61.796428   Antigua and Barbuda\n",
       "4   AI  18.220554 -63.068615              Anguilla"
      ]
     },
     "execution_count": 27,
     "metadata": {},
     "output_type": "execute_result"
    }
   ],
   "source": [
    "countries_df[0]\n",
    "clean_countries = countries_df[0].rename(columns={\"name\":\"Country\",\"country\":\"Abbr\"})\n",
    "clean_countries.head()"
   ]
  },
  {
   "cell_type": "code",
   "execution_count": 28,
   "metadata": {},
   "outputs": [],
   "source": [
    "# make country lowercase\n",
    "clean_childmarriage[\"Country\"] = clean_childmarriage[\"Country\"].map(lambda x: x.lower())\n",
    "clean_countries[\"Country\"] = clean_countries[\"Country\"].map(lambda x: x.lower())\n",
    "filtered_education[\"Country\"] = filtered_education[\"Country\"].map(lambda z: z.lower())"
   ]
  },
  {
   "cell_type": "code",
   "execution_count": 29,
   "metadata": {},
   "outputs": [
    {
     "data": {
      "text/html": [
       "<div>\n",
       "<style scoped>\n",
       "    .dataframe tbody tr th:only-of-type {\n",
       "        vertical-align: middle;\n",
       "    }\n",
       "\n",
       "    .dataframe tbody tr th {\n",
       "        vertical-align: top;\n",
       "    }\n",
       "\n",
       "    .dataframe thead th {\n",
       "        text-align: right;\n",
       "    }\n",
       "</style>\n",
       "<table border=\"1\" class=\"dataframe\">\n",
       "  <thead>\n",
       "    <tr style=\"text-align: right;\">\n",
       "      <th></th>\n",
       "      <th>Country</th>\n",
       "      <th>Indicator</th>\n",
       "      <th>Sex</th>\n",
       "      <th>Time Period</th>\n",
       "      <th>Current Age</th>\n",
       "      <th>Observation Value</th>\n",
       "      <th>Unit of Measure</th>\n",
       "      <th>latitude</th>\n",
       "      <th>longitude</th>\n",
       "    </tr>\n",
       "  </thead>\n",
       "  <tbody>\n",
       "    <tr>\n",
       "      <td>0</td>\n",
       "      <td>botswana</td>\n",
       "      <td>Percentage of women (aged 20-24 years) married...</td>\n",
       "      <td>Female</td>\n",
       "      <td>1988</td>\n",
       "      <td>20 to 24 years old</td>\n",
       "      <td>10.0</td>\n",
       "      <td>%</td>\n",
       "      <td>-22.328474</td>\n",
       "      <td>24.684866</td>\n",
       "    </tr>\n",
       "    <tr>\n",
       "      <td>1</td>\n",
       "      <td>uzbekistan</td>\n",
       "      <td>Percentage of men (aged 20-24 years) married o...</td>\n",
       "      <td>Male</td>\n",
       "      <td>2002</td>\n",
       "      <td>20 to 24 years old</td>\n",
       "      <td>0.5</td>\n",
       "      <td>%</td>\n",
       "      <td>41.377491</td>\n",
       "      <td>64.585262</td>\n",
       "    </tr>\n",
       "    <tr>\n",
       "      <td>2</td>\n",
       "      <td>philippines</td>\n",
       "      <td>Percentage of men (aged 20-24 years) married o...</td>\n",
       "      <td>Male</td>\n",
       "      <td>2003</td>\n",
       "      <td>20 to 24 years old</td>\n",
       "      <td>2.9</td>\n",
       "      <td>%</td>\n",
       "      <td>12.879721</td>\n",
       "      <td>121.774017</td>\n",
       "    </tr>\n",
       "    <tr>\n",
       "      <td>3</td>\n",
       "      <td>south africa</td>\n",
       "      <td>Percentage of women (aged 20-24 years) married...</td>\n",
       "      <td>Female</td>\n",
       "      <td>2003</td>\n",
       "      <td>20 to 24 years old</td>\n",
       "      <td>0.8</td>\n",
       "      <td>%</td>\n",
       "      <td>-30.559482</td>\n",
       "      <td>22.937506</td>\n",
       "    </tr>\n",
       "    <tr>\n",
       "      <td>4</td>\n",
       "      <td>south africa</td>\n",
       "      <td>Percentage of women (aged 20-24 years) married...</td>\n",
       "      <td>Female</td>\n",
       "      <td>2003</td>\n",
       "      <td>20 to 24 years old</td>\n",
       "      <td>5.6</td>\n",
       "      <td>%</td>\n",
       "      <td>-30.559482</td>\n",
       "      <td>22.937506</td>\n",
       "    </tr>\n",
       "  </tbody>\n",
       "</table>\n",
       "</div>"
      ],
      "text/plain": [
       "        Country                                          Indicator     Sex  \\\n",
       "0      botswana  Percentage of women (aged 20-24 years) married...  Female   \n",
       "1    uzbekistan  Percentage of men (aged 20-24 years) married o...    Male   \n",
       "2   philippines  Percentage of men (aged 20-24 years) married o...    Male   \n",
       "3  south africa  Percentage of women (aged 20-24 years) married...  Female   \n",
       "4  south africa  Percentage of women (aged 20-24 years) married...  Female   \n",
       "\n",
       "   Time Period         Current Age  Observation Value Unit of Measure  \\\n",
       "0         1988  20 to 24 years old               10.0               %   \n",
       "1         2002  20 to 24 years old                0.5               %   \n",
       "2         2003  20 to 24 years old                2.9               %   \n",
       "3         2003  20 to 24 years old                0.8               %   \n",
       "4         2003  20 to 24 years old                5.6               %   \n",
       "\n",
       "    latitude   longitude  \n",
       "0 -22.328474   24.684866  \n",
       "1  41.377491   64.585262  \n",
       "2  12.879721  121.774017  \n",
       "3 -30.559482   22.937506  \n",
       "4 -30.559482   22.937506  "
      ]
     },
     "execution_count": 29,
     "metadata": {},
     "output_type": "execute_result"
    }
   ],
   "source": [
    "childmarriage_final = pd.merge(clean_childmarriage, clean_countries, how=\"left\", on=\"Country\")\n",
    "childmarriage_final = childmarriage_final.drop(columns=[\"The period of time for which data are provided\",\"Abbr\"])\n",
    "childmarriage_final\n",
    "childmarriage_final.head()"
   ]
  },
  {
   "cell_type": "code",
   "execution_count": 30,
   "metadata": {},
   "outputs": [
    {
     "data": {
      "text/html": [
       "<div>\n",
       "<style scoped>\n",
       "    .dataframe tbody tr th:only-of-type {\n",
       "        vertical-align: middle;\n",
       "    }\n",
       "\n",
       "    .dataframe tbody tr th {\n",
       "        vertical-align: top;\n",
       "    }\n",
       "\n",
       "    .dataframe thead th {\n",
       "        text-align: right;\n",
       "    }\n",
       "</style>\n",
       "<table border=\"1\" class=\"dataframe\">\n",
       "  <thead>\n",
       "    <tr style=\"text-align: right;\">\n",
       "      <th></th>\n",
       "      <th>Country</th>\n",
       "      <th>TIME</th>\n",
       "      <th>Value</th>\n",
       "      <th>latitude</th>\n",
       "      <th>longitude</th>\n",
       "    </tr>\n",
       "  </thead>\n",
       "  <tbody>\n",
       "    <tr>\n",
       "      <td>0</td>\n",
       "      <td>morocco</td>\n",
       "      <td>1982</td>\n",
       "      <td>0.53256</td>\n",
       "      <td>31.791702</td>\n",
       "      <td>-7.09262</td>\n",
       "    </tr>\n",
       "    <tr>\n",
       "      <td>1</td>\n",
       "      <td>morocco</td>\n",
       "      <td>1994</td>\n",
       "      <td>0.64434</td>\n",
       "      <td>31.791702</td>\n",
       "      <td>-7.09262</td>\n",
       "    </tr>\n",
       "    <tr>\n",
       "      <td>2</td>\n",
       "      <td>morocco</td>\n",
       "      <td>2004</td>\n",
       "      <td>0.74865</td>\n",
       "      <td>31.791702</td>\n",
       "      <td>-7.09262</td>\n",
       "    </tr>\n",
       "    <tr>\n",
       "      <td>3</td>\n",
       "      <td>morocco</td>\n",
       "      <td>2008</td>\n",
       "      <td>0.81461</td>\n",
       "      <td>31.791702</td>\n",
       "      <td>-7.09262</td>\n",
       "    </tr>\n",
       "    <tr>\n",
       "      <td>4</td>\n",
       "      <td>morocco</td>\n",
       "      <td>2009</td>\n",
       "      <td>0.83185</td>\n",
       "      <td>31.791702</td>\n",
       "      <td>-7.09262</td>\n",
       "    </tr>\n",
       "  </tbody>\n",
       "</table>\n",
       "</div>"
      ],
      "text/plain": [
       "   Country  TIME    Value   latitude  longitude\n",
       "0  morocco  1982  0.53256  31.791702   -7.09262\n",
       "1  morocco  1994  0.64434  31.791702   -7.09262\n",
       "2  morocco  2004  0.74865  31.791702   -7.09262\n",
       "3  morocco  2008  0.81461  31.791702   -7.09262\n",
       "4  morocco  2009  0.83185  31.791702   -7.09262"
      ]
     },
     "execution_count": 30,
     "metadata": {},
     "output_type": "execute_result"
    }
   ],
   "source": [
    "education_final = pd.merge(filtered_education, clean_countries, how=\"left\", on=\"Country\")\n",
    "education_final = education_final.drop(columns=[\"LOCATION\",\"Abbr\"])\n",
    "education_final.head()"
   ]
  },
  {
   "cell_type": "code",
   "execution_count": 31,
   "metadata": {},
   "outputs": [],
   "source": [
    "# Question 1: Is rate of child marriage decreasing with each year? (line graph and histogram)"
   ]
  },
  {
   "cell_type": "code",
   "execution_count": 32,
   "metadata": {},
   "outputs": [],
   "source": [
    "# Question 2: What is the correlation of literacy rate and child marriage? (scatter plot with regression line and boxplot) "
   ]
  },
  {
   "cell_type": "code",
   "execution_count": 33,
   "metadata": {},
   "outputs": [],
   "source": [
    "# Question 3: What is the geographical impact on child marriage and education? (heat map one for education and one for child marriage)"
   ]
  },
  {
   "cell_type": "code",
   "execution_count": 34,
   "metadata": {},
   "outputs": [
    {
     "data": {
      "text/plain": [
       "(-1.1187489980859993,\n",
       " 1.1008928094326667,\n",
       " -1.107986685602429,\n",
       " 1.1198953392663173)"
      ]
     },
     "execution_count": 34,
     "metadata": {},
     "output_type": "execute_result"
    },
    {
     "data": {
      "image/png": "[encoded data removed]",
      "text/plain": [
       "<Figure size 432x288 with 1 Axes>"
      ]
     },
     "metadata": {},
     "output_type": "display_data"
    }
   ],
   "source": [
    "# Question 4: Is one gender more susceptible to child marriage than the other? (pie graph)\n",
    "gender_df = childmarriage_final.groupby('Sex')['Sex'].count()\n",
    "gender = [\"Female\", \"Male\"] \n",
    "colors = ['lightcoral', 'lightskyblue']\n",
    "\n",
    "plt.pie(gender_df,labels=gender, autopct=\"%1.1f%%\",colors=colors, shadow=False, startangle=0)\n",
    "plt.title(\"Is one gender more susceptible to child marriage\")\n",
    "plt.axis(\"equal\")\n",
    "\n",
    "#lt.savefig(\"../Images/Gender_childmarriage.png\")\n",
    "#plt.show()"
   ]
  },
  {
   "cell_type": "code",
   "execution_count": 35,
   "metadata": {},
   "outputs": [
    {
     "data": {
      "text/html": [
       "<div>\n",
       "<style scoped>\n",
       "    .dataframe tbody tr th:only-of-type {\n",
       "        vertical-align: middle;\n",
       "    }\n",
       "\n",
       "    .dataframe tbody tr th {\n",
       "        vertical-align: top;\n",
       "    }\n",
       "\n",
       "    .dataframe thead th {\n",
       "        text-align: right;\n",
       "    }\n",
       "</style>\n",
       "<table border=\"1\" class=\"dataframe\">\n",
       "  <thead>\n",
       "    <tr style=\"text-align: right;\">\n",
       "      <th></th>\n",
       "      <th>Country</th>\n",
       "      <th>Indicator</th>\n",
       "      <th>Sex</th>\n",
       "      <th>Time Period</th>\n",
       "      <th>Current Age</th>\n",
       "      <th>Observation Value</th>\n",
       "      <th>Unit of Measure</th>\n",
       "      <th>latitude</th>\n",
       "      <th>longitude</th>\n",
       "    </tr>\n",
       "  </thead>\n",
       "  <tbody>\n",
       "    <tr>\n",
       "      <td>0</td>\n",
       "      <td>botswana</td>\n",
       "      <td>Percentage of women (aged 20-24 years) married...</td>\n",
       "      <td>Female</td>\n",
       "      <td>1988</td>\n",
       "      <td>20 to 24 years old</td>\n",
       "      <td>10.0</td>\n",
       "      <td>%</td>\n",
       "      <td>-22.328474</td>\n",
       "      <td>24.684866</td>\n",
       "    </tr>\n",
       "    <tr>\n",
       "      <td>1</td>\n",
       "      <td>uzbekistan</td>\n",
       "      <td>Percentage of men (aged 20-24 years) married o...</td>\n",
       "      <td>Male</td>\n",
       "      <td>2002</td>\n",
       "      <td>20 to 24 years old</td>\n",
       "      <td>0.5</td>\n",
       "      <td>%</td>\n",
       "      <td>41.377491</td>\n",
       "      <td>64.585262</td>\n",
       "    </tr>\n",
       "    <tr>\n",
       "      <td>2</td>\n",
       "      <td>philippines</td>\n",
       "      <td>Percentage of men (aged 20-24 years) married o...</td>\n",
       "      <td>Male</td>\n",
       "      <td>2003</td>\n",
       "      <td>20 to 24 years old</td>\n",
       "      <td>2.9</td>\n",
       "      <td>%</td>\n",
       "      <td>12.879721</td>\n",
       "      <td>121.774017</td>\n",
       "    </tr>\n",
       "    <tr>\n",
       "      <td>4</td>\n",
       "      <td>south africa</td>\n",
       "      <td>Percentage of women (aged 20-24 years) married...</td>\n",
       "      <td>Female</td>\n",
       "      <td>2003</td>\n",
       "      <td>20 to 24 years old</td>\n",
       "      <td>5.6</td>\n",
       "      <td>%</td>\n",
       "      <td>-30.559482</td>\n",
       "      <td>22.937506</td>\n",
       "    </tr>\n",
       "    <tr>\n",
       "      <td>5</td>\n",
       "      <td>cabo verde</td>\n",
       "      <td>Percentage of men (aged 20-24 years) married o...</td>\n",
       "      <td>Male</td>\n",
       "      <td>2005</td>\n",
       "      <td>20 to 24 years old</td>\n",
       "      <td>3.0</td>\n",
       "      <td>%</td>\n",
       "      <td>NaN</td>\n",
       "      <td>NaN</td>\n",
       "    </tr>\n",
       "    <tr>\n",
       "      <td>...</td>\n",
       "      <td>...</td>\n",
       "      <td>...</td>\n",
       "      <td>...</td>\n",
       "      <td>...</td>\n",
       "      <td>...</td>\n",
       "      <td>...</td>\n",
       "      <td>...</td>\n",
       "      <td>...</td>\n",
       "      <td>...</td>\n",
       "    </tr>\n",
       "    <tr>\n",
       "      <td>334</td>\n",
       "      <td>albania</td>\n",
       "      <td>Percentage of men (aged 20-24 years) married o...</td>\n",
       "      <td>Male</td>\n",
       "      <td>2018</td>\n",
       "      <td>20 to 24 years old</td>\n",
       "      <td>1.2</td>\n",
       "      <td>%</td>\n",
       "      <td>41.153332</td>\n",
       "      <td>20.168331</td>\n",
       "    </tr>\n",
       "    <tr>\n",
       "      <td>335</td>\n",
       "      <td>benin</td>\n",
       "      <td>Percentage of men (aged 20-24 years) married o...</td>\n",
       "      <td>Male</td>\n",
       "      <td>2018</td>\n",
       "      <td>20 to 24 years old</td>\n",
       "      <td>4.8</td>\n",
       "      <td>%</td>\n",
       "      <td>9.307690</td>\n",
       "      <td>2.315834</td>\n",
       "    </tr>\n",
       "    <tr>\n",
       "      <td>339</td>\n",
       "      <td>albania</td>\n",
       "      <td>Percentage of women (aged 20-24 years) married...</td>\n",
       "      <td>Female</td>\n",
       "      <td>2018</td>\n",
       "      <td>20 to 24 years old</td>\n",
       "      <td>11.8</td>\n",
       "      <td>%</td>\n",
       "      <td>41.153332</td>\n",
       "      <td>20.168331</td>\n",
       "    </tr>\n",
       "    <tr>\n",
       "      <td>340</td>\n",
       "      <td>indonesia</td>\n",
       "      <td>Percentage of women (aged 20-24 years) married...</td>\n",
       "      <td>Female</td>\n",
       "      <td>2018</td>\n",
       "      <td>20 to 24 years old</td>\n",
       "      <td>11.2</td>\n",
       "      <td>%</td>\n",
       "      <td>-0.789275</td>\n",
       "      <td>113.921327</td>\n",
       "    </tr>\n",
       "    <tr>\n",
       "      <td>341</td>\n",
       "      <td>iraq</td>\n",
       "      <td>Percentage of women (aged 20-24 years) married...</td>\n",
       "      <td>Female</td>\n",
       "      <td>2018</td>\n",
       "      <td>20 to 24 years old</td>\n",
       "      <td>27.9</td>\n",
       "      <td>%</td>\n",
       "      <td>33.223191</td>\n",
       "      <td>43.679291</td>\n",
       "    </tr>\n",
       "  </tbody>\n",
       "</table>\n",
       "<p>216 rows × 9 columns</p>\n",
       "</div>"
      ],
      "text/plain": [
       "          Country                                          Indicator     Sex  \\\n",
       "0        botswana  Percentage of women (aged 20-24 years) married...  Female   \n",
       "1      uzbekistan  Percentage of men (aged 20-24 years) married o...    Male   \n",
       "2     philippines  Percentage of men (aged 20-24 years) married o...    Male   \n",
       "4    south africa  Percentage of women (aged 20-24 years) married...  Female   \n",
       "5      cabo verde  Percentage of men (aged 20-24 years) married o...    Male   \n",
       "..            ...                                                ...     ...   \n",
       "334       albania  Percentage of men (aged 20-24 years) married o...    Male   \n",
       "335         benin  Percentage of men (aged 20-24 years) married o...    Male   \n",
       "339       albania  Percentage of women (aged 20-24 years) married...  Female   \n",
       "340     indonesia  Percentage of women (aged 20-24 years) married...  Female   \n",
       "341          iraq  Percentage of women (aged 20-24 years) married...  Female   \n",
       "\n",
       "     Time Period         Current Age  Observation Value Unit of Measure  \\\n",
       "0           1988  20 to 24 years old               10.0               %   \n",
       "1           2002  20 to 24 years old                0.5               %   \n",
       "2           2003  20 to 24 years old                2.9               %   \n",
       "4           2003  20 to 24 years old                5.6               %   \n",
       "5           2005  20 to 24 years old                3.0               %   \n",
       "..           ...                 ...                ...             ...   \n",
       "334         2018  20 to 24 years old                1.2               %   \n",
       "335         2018  20 to 24 years old                4.8               %   \n",
       "339         2018  20 to 24 years old               11.8               %   \n",
       "340         2018  20 to 24 years old               11.2               %   \n",
       "341         2018  20 to 24 years old               27.9               %   \n",
       "\n",
       "      latitude   longitude  \n",
       "0   -22.328474   24.684866  \n",
       "1    41.377491   64.585262  \n",
       "2    12.879721  121.774017  \n",
       "4   -30.559482   22.937506  \n",
       "5          NaN         NaN  \n",
       "..         ...         ...  \n",
       "334  41.153332   20.168331  \n",
       "335   9.307690    2.315834  \n",
       "339  41.153332   20.168331  \n",
       "340  -0.789275  113.921327  \n",
       "341  33.223191   43.679291  \n",
       "\n",
       "[216 rows x 9 columns]"
      ]
     },
     "execution_count": 35,
     "metadata": {},
     "output_type": "execute_result"
    }
   ],
   "source": [
    "gender1_df = childmarriage_final.loc[(childmarriage_final['Indicator']=='Percentage of women (aged 20-24 years) married or in union before age 18')|(childmarriage_final['Indicator']=='Percentage of men (aged 20-24 years) married or in union before age 18')]\n",
    "gender1_df\n"
   ]
  },
  {
   "cell_type": "code",
   "execution_count": 36,
   "metadata": {},
   "outputs": [
    {
     "data": {
      "text/plain": [
       "(-1.1104015257670696,\n",
       " 1.10049535343878,\n",
       " -1.1230708828196667,\n",
       " 1.1130014718327983)"
      ]
     },
     "execution_count": 36,
     "metadata": {},
     "output_type": "execute_result"
    },
    {
     "data": {
      "image/png": "[encoded data removed]",
      "text/plain": [
       "<Figure size 432x288 with 1 Axes>"
      ]
     },
     "metadata": {},
     "output_type": "display_data"
    }
   ],
   "source": [
    "gender1_df = gender1_df.groupby('Sex')['Sex'].count()\n",
    "gender = [\"Female\", \"Male\"] \n",
    "colors = ['lightcoral', 'lightskyblue']\n",
    "\n",
    "plt.pie(gender1_df,labels=gender, autopct=\"%1.1f%%\",colors=colors, shadow=False, startangle=0)\n",
    "plt.title(\"Is one gender more susceptible to child marriage\")\n",
    "plt.axis(\"equal\")\n",
    "\n",
    "#lt.savefig(\"../Images/Gender_childmarriage.png\")\n",
    "#plt.show()"
   ]
  },
  {
   "cell_type": "code",
   "execution_count": null,
   "metadata": {},
   "outputs": [],
   "source": [
    "# Conclusion: our null hypothesis is that education has no impact on child marriage rates."
   ]
  },
  {
   "cell_type": "code",
   "execution_count": null,
   "metadata": {},
   "outputs": [],
   "source": []
  },
  {
   "cell_type": "code",
   "execution_count": null,
   "metadata": {},
   "outputs": [],
   "source": []
  },
  {
   "cell_type": "code",
   "execution_count": null,
   "metadata": {},
   "outputs": [],
   "source": []
  },
  {
   "cell_type": "code",
   "execution_count": null,
   "metadata": {},
   "outputs": [],
   "source": []
  },
  {
   "cell_type": "code",
   "execution_count": null,
   "metadata": {},
   "outputs": [],
   "source": []
  },
  {
   "cell_type": "code",
   "execution_count": null,
   "metadata": {},
   "outputs": [],
   "source": []
  },
  {
   "cell_type": "code",
   "execution_count": null,
   "metadata": {},
   "outputs": [],
   "source": []
  },
  {
   "cell_type": "code",
   "execution_count": null,
   "metadata": {},
   "outputs": [],
   "source": []
  },
  {
   "cell_type": "code",
   "execution_count": null,
   "metadata": {},
   "outputs": [],
   "source": []
  },
  {
   "cell_type": "code",
   "execution_count": null,
   "metadata": {},
   "outputs": [],
   "source": []
  },
  {
   "cell_type": "code",
   "execution_count": null,
   "metadata": {},
   "outputs": [],
   "source": []
  },
  {
   "cell_type": "code",
   "execution_count": null,
   "metadata": {},
   "outputs": [],
   "source": [
    "list1 = list(clean_childmarriage[\"Country\"].unique())\n",
    "list2 = list(clean_countries[\"Country\"].unique())\n",
    "\n",
    "print(len(list1), len(list2))"
   ]
  },
  {
   "cell_type": "code",
   "execution_count": null,
   "metadata": {},
   "outputs": [],
   "source": [
    "clean_childmarriage[\"Country\"] = clean_childmarriage[\"Country\"].map(lambda x: x.lower())\n",
    "clean_childmarriage.head()"
   ]
  },
  {
   "cell_type": "code",
   "execution_count": null,
   "metadata": {},
   "outputs": [],
   "source": [
    "clean_countries[\"Country\"] = clean_countries[\"Country\"].map(lambda x: x.lower())\n",
    "clean_countries.head()"
   ]
  },
  {
   "cell_type": "code",
   "execution_count": null,
   "metadata": {
    "scrolled": true
   },
   "outputs": [],
   "source": [
    "df_merge = pd.merge(clean_childmarriage, clean_countries, how=\"left\", on=\"Country\")\n",
    "df_merge.head()"
   ]
  },
  {
   "cell_type": "code",
   "execution_count": null,
   "metadata": {},
   "outputs": [],
   "source": [
    "df_merge[\"Country\"].unique()"
   ]
  },
  {
   "cell_type": "code",
   "execution_count": null,
   "metadata": {},
   "outputs": [],
   "source": [
    "df_merge.loc[df_merge.isnull().any(axis=1)]"
   ]
  },
  {
   "cell_type": "code",
   "execution_count": null,
   "metadata": {},
   "outputs": [],
   "source": [
    "df_merge.dtypes"
   ]
  },
  {
   "cell_type": "code",
   "execution_count": null,
   "metadata": {},
   "outputs": [],
   "source": [
    "df_merge = df_merge.rename(columns={\n",
    "    \"Time Period\":\"TIME\"\n",
    "})\n",
    "df_merge = df_merge.drop(columns=['The period of time for which data are provided'])\n",
    "df_merge.head(1)\n"
   ]
  },
  {
   "cell_type": "code",
   "execution_count": null,
   "metadata": {},
   "outputs": [],
   "source": [
    "filtered_education.head(1)"
   ]
  },
  {
   "cell_type": "code",
   "execution_count": null,
   "metadata": {},
   "outputs": [],
   "source": [
    "filtered_education = filtered_education.drop(columns=\"LOCATION\")\n",
    "filtered_education.head(1)"
   ]
  },
  {
   "cell_type": "code",
   "execution_count": null,
   "metadata": {},
   "outputs": [],
   "source": [
    "filtered_education[\"Country\"] = filtered_education[\"Country\"].map(lambda z: z.lower())\n",
    "filtered_education.head(1)"
   ]
  },
  {
   "cell_type": "code",
   "execution_count": null,
   "metadata": {},
   "outputs": [],
   "source": [
    "df_merge.shape"
   ]
  },
  {
   "cell_type": "code",
   "execution_count": null,
   "metadata": {},
   "outputs": [],
   "source": [
    "filtered_education.shape"
   ]
  },
  {
   "cell_type": "code",
   "execution_count": null,
   "metadata": {},
   "outputs": [],
   "source": [
    "df_merge[[\"Country\", \"TIME\"]].nunique()"
   ]
  },
  {
   "cell_type": "code",
   "execution_count": null,
   "metadata": {},
   "outputs": [],
   "source": [
    "filtered_education[[\"Country\", \"TIME\"]].nunique()"
   ]
  },
  {
   "cell_type": "code",
   "execution_count": null,
   "metadata": {},
   "outputs": [],
   "source": [
    "quick_merge_df = pd.merge(df_merge, filtered_education, on=[\"Country\", \"TIME\"])\n",
    "quick_merge_df"
   ]
  },
  {
   "cell_type": "code",
   "execution_count": null,
   "metadata": {},
   "outputs": [],
   "source": [
    "quick_merge_df"
   ]
  },
  {
   "cell_type": "code",
   "execution_count": null,
   "metadata": {},
   "outputs": [],
   "source": [
    "quick_merge_df = pd.merge(df_merge, filtered_education, on=[\"Country\", \"TIME\"], how=\"outer\")\n",
    "quick_merge_df.shape"
   ]
  },
  {
   "cell_type": "code",
   "execution_count": null,
   "metadata": {},
   "outputs": [],
   "source": [
    "quick_merge_df.loc[quick_merge_df.isnull().any(axis=1)]"
   ]
  },
  {
   "cell_type": "code",
   "execution_count": null,
   "metadata": {},
   "outputs": [],
   "source": []
  },
  {
   "cell_type": "code",
   "execution_count": null,
   "metadata": {},
   "outputs": [],
   "source": []
  },
  {
   "cell_type": "code",
   "execution_count": null,
   "metadata": {
    "scrolled": false
   },
   "outputs": [],
   "source": [
    "filtered_education.dtypes"
   ]
  },
  {
   "cell_type": "code",
   "execution_count": null,
   "metadata": {},
   "outputs": [],
   "source": []
  },
  {
   "cell_type": "code",
   "execution_count": null,
   "metadata": {
    "scrolled": true
   },
   "outputs": [],
   "source": [
    "df_merge.shape"
   ]
  },
  {
   "cell_type": "code",
   "execution_count": null,
   "metadata": {},
   "outputs": [],
   "source": [
    "df_merge = df_merge.dropna(axis=0)\n",
    "df_merge.shape"
   ]
  },
  {
   "cell_type": "code",
   "execution_count": null,
   "metadata": {},
   "outputs": [],
   "source": []
  },
  {
   "cell_type": "code",
   "execution_count": null,
   "metadata": {},
   "outputs": [],
   "source": []
  },
  {
   "cell_type": "code",
   "execution_count": null,
   "metadata": {},
   "outputs": [],
   "source": []
  },
  {
   "cell_type": "code",
   "execution_count": null,
   "metadata": {
    "scrolled": true
   },
   "outputs": [],
   "source": [
    "df_merge.shape"
   ]
  },
  {
   "cell_type": "code",
   "execution_count": null,
   "metadata": {},
   "outputs": [],
   "source": [
    "df_merge = df_merge.dropna(axis=0)\n",
    "df_merge.shape"
   ]
  },
  {
   "cell_type": "code",
   "execution_count": null,
   "metadata": {},
   "outputs": [],
   "source": []
  },
  {
   "cell_type": "code",
   "execution_count": null,
   "metadata": {},
   "outputs": [],
   "source": []
  },
  {
   "cell_type": "code",
   "execution_count": null,
   "metadata": {},
   "outputs": [],
   "source": []
  },
  {
   "cell_type": "code",
   "execution_count": null,
   "metadata": {},
   "outputs": [],
   "source": [
    "clean_countries[\"Country\"].unique()"
   ]
  },
  {
   "cell_type": "code",
   "execution_count": null,
   "metadata": {},
   "outputs": [],
   "source": []
  },
  {
   "cell_type": "code",
   "execution_count": null,
   "metadata": {},
   "outputs": [],
   "source": []
  },
  {
   "cell_type": "code",
   "execution_count": null,
   "metadata": {},
   "outputs": [],
   "source": []
  },
  {
   "cell_type": "code",
   "execution_count": null,
   "metadata": {},
   "outputs": [],
   "source": []
  },
  {
   "cell_type": "code",
   "execution_count": null,
   "metadata": {},
   "outputs": [],
   "source": []
  },
  {
   "cell_type": "code",
   "execution_count": null,
   "metadata": {},
   "outputs": [],
   "source": []
  },
  {
   "cell_type": "code",
   "execution_count": null,
   "metadata": {},
   "outputs": [],
   "source": []
  },
  {
   "cell_type": "code",
   "execution_count": null,
   "metadata": {},
   "outputs": [],
   "source": []
  },
  {
   "cell_type": "code",
   "execution_count": null,
   "metadata": {},
   "outputs": [],
   "source": [
    "# Merge the child marriage dataframe with the education dataframe\n",
    "new_df = pd.merge(A_df, B_df,  how='left', left_on=['A_c1','c2'], right_on = ['B_c1','c2'])\n",
    "\n",
    "\n",
    "merge_df=pd.merge(pd.merge(clean_childmarriage,clean_countries,on='Country',),filtered_education,on='Country')\n",
    "merge_df.dropna()\n",
    "merge_df = merge_df.drop(columns=['The period of time for which data are provided'])\n",
    "merge_df\n",
    "#clean_df=merge_df.drop_duplicates('SN')"
   ]
  },
  {
   "cell_type": "code",
   "execution_count": null,
   "metadata": {},
   "outputs": [],
   "source": [
    "print(merge_df[\"views\"].max())\n",
    "print(merge_df[\"views\"].min())"
   ]
  },
  {
   "cell_type": "code",
   "execution_count": null,
   "metadata": {},
   "outputs": [],
   "source": [
    "# Create bins in which to place values based upon TED Talk views\n",
    "bins = [0, 199999, 399999, 599999, 799999, 999999,\n",
    "        1999999, 2999999, 3999999, 4999999, 50000000]\n",
    "\n",
    "# Create labels for these bins\n",
    "group_labels = [\"0 to 199k\", \"200k to 399k\", \"400k to 599k\", \"600k to 799k\", \"800k to 999k\", \"1mil to 2mil\",\n",
    "                \"2mil to 3mil\", \"3mil to 4mil\", \"4mil to 5mil\", \"5mil to 50mil\"]\n",
    "\n",
    "pd.cut(ted_df[\"views\"], bins, labels=group_labels).head()\n",
    "\n",
    "# Place the data series into a new column inside of the DataFrame\n",
    "ted_df[\"View Group\"] = pd.cut(ted_df[\"views\"], bins, labels=group_labels)\n",
    "ted_df.head()"
   ]
  },
  {
   "cell_type": "code",
   "execution_count": null,
   "metadata": {},
   "outputs": [],
   "source": []
  },
  {
   "cell_type": "code",
   "execution_count": null,
   "metadata": {},
   "outputs": [],
   "source": []
  },
  {
   "cell_type": "code",
   "execution_count": null,
   "metadata": {},
   "outputs": [],
   "source": []
  },
  {
   "cell_type": "code",
   "execution_count": null,
   "metadata": {},
   "outputs": [],
   "source": []
  },
  {
   "cell_type": "code",
   "execution_count": null,
   "metadata": {},
   "outputs": [],
   "source": []
  }
 ],
 "metadata": {
  "anaconda-cloud": {},
  "kernelspec": {
   "display_name": "Python 3",
   "language": "python",
   "name": "python3"
  },
  "language_info": {
   "codemirror_mode": {
    "name": "ipython",
    "version": 3
   },
   "file_extension": ".py",
   "mimetype": "text/x-python",
   "name": "python",
   "nbconvert_exporter": "python",
   "pygments_lexer": "ipython3",
   "version": "3.7.4"
  }
 },
 "nbformat": 4,
 "nbformat_minor": 2
}
