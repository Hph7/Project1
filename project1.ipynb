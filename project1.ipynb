{
 "cells": [
  {
   "cell_type": "code",
   "execution_count": 58,
   "metadata": {},
   "outputs": [],
   "source": [
    "# Dependencies\n",
    "import requests\n",
    "import json\n",
    "import pandas as pd\n",
    "import matplotlib.pyplot as plt\n",
    "import scipy.stats as stats\n",
    "from scipy.stats import ttest_ind\n",
    "\n",
    "# import csv data files\n",
    "education_file = \"Resources/education.csv\"\n",
    "childmarriage_file = \"Resources/childmarriage.csv\"\n",
    "\n",
    "\n",
    "# create dataframes for each\n",
    "education_file_df = pd.read_csv(education_file, encoding=\"ISO-8859-1\")\n",
    "childmarriage_file_df = pd.read_csv(childmarriage_file, encoding=\"ISO-8859-1\")\n",
    "countries_df = pd.read_html('https://developers.google.com/public-data/docs/canonical/countries_csv')\n",
    "\n",
    "#education_file_df.head()\n",
    "#childmarriage_file_df.head()\n",
    "#countries_df[0]"
   ]
  },
  {
   "cell_type": "code",
   "execution_count": 2,
   "metadata": {},
   "outputs": [],
   "source": [
    "filtered_education = education_file_df.filter([\"Indicator\"== \"Youth literacy rate, population 15-24 years, both sexes (%)\",\n",
    "                                              \"LOCATION\", \"Country\",\"TIME\", \"Value\"])\n",
    "#filtered_education.head()                       "
   ]
  },
  {
   "cell_type": "code",
   "execution_count": 3,
   "metadata": {},
   "outputs": [],
   "source": [
    "#childmarriage_file_df.head()\n",
    "clean_childmarriage=childmarriage_file_df[['Geographic Area','Indicator','Sex','Time Period','Current Age',\n",
    "                           'Observation Value','Unit of Measure','The period of time for which data are provided']]\n",
    "clean_childmarriage = clean_childmarriage.rename(columns={\"Geographic Area\":\"Country\"})\n",
    "#clean_childmarriage.head()"
   ]
  },
  {
   "cell_type": "code",
   "execution_count": 4,
   "metadata": {},
   "outputs": [],
   "source": [
    "#countries_df[0]\n",
    "clean_countries = countries_df[0].rename(columns={\"name\":\"Country\",\"country\":\"Abbr\"})\n",
    "#clean_countries.head()"
   ]
  },
  {
   "cell_type": "code",
   "execution_count": 5,
   "metadata": {},
   "outputs": [],
   "source": [
    "# make country lowercase\n",
    "clean_childmarriage[\"Country\"] = clean_childmarriage[\"Country\"].map(lambda z: z.lower())\n",
    "clean_countries[\"Country\"] = clean_countries[\"Country\"].map(lambda z: z.lower())\n",
    "filtered_education[\"Country\"] = filtered_education[\"Country\"].map(lambda z: z.lower())"
   ]
  },
  {
   "cell_type": "code",
   "execution_count": 6,
   "metadata": {},
   "outputs": [
    {
     "data": {
      "text/html": [
       "<div>\n",
       "<style scoped>\n",
       "    .dataframe tbody tr th:only-of-type {\n",
       "        vertical-align: middle;\n",
       "    }\n",
       "\n",
       "    .dataframe tbody tr th {\n",
       "        vertical-align: top;\n",
       "    }\n",
       "\n",
       "    .dataframe thead th {\n",
       "        text-align: right;\n",
       "    }\n",
       "</style>\n",
       "<table border=\"1\" class=\"dataframe\">\n",
       "  <thead>\n",
       "    <tr style=\"text-align: right;\">\n",
       "      <th></th>\n",
       "      <th>Country</th>\n",
       "      <th>Indicator</th>\n",
       "      <th>Sex</th>\n",
       "      <th>Time Period</th>\n",
       "      <th>Current Age</th>\n",
       "      <th>Observation Value</th>\n",
       "      <th>Unit of Measure</th>\n",
       "      <th>latitude</th>\n",
       "      <th>longitude</th>\n",
       "    </tr>\n",
       "  </thead>\n",
       "  <tbody>\n",
       "    <tr>\n",
       "      <td>0</td>\n",
       "      <td>botswana</td>\n",
       "      <td>Percentage of women (aged 20-24 years) married...</td>\n",
       "      <td>Female</td>\n",
       "      <td>1988</td>\n",
       "      <td>20 to 24 years old</td>\n",
       "      <td>10.0</td>\n",
       "      <td>%</td>\n",
       "      <td>-22.328474</td>\n",
       "      <td>24.684866</td>\n",
       "    </tr>\n",
       "    <tr>\n",
       "      <td>1</td>\n",
       "      <td>uzbekistan</td>\n",
       "      <td>Percentage of men (aged 20-24 years) married o...</td>\n",
       "      <td>Male</td>\n",
       "      <td>2002</td>\n",
       "      <td>20 to 24 years old</td>\n",
       "      <td>0.5</td>\n",
       "      <td>%</td>\n",
       "      <td>41.377491</td>\n",
       "      <td>64.585262</td>\n",
       "    </tr>\n",
       "    <tr>\n",
       "      <td>2</td>\n",
       "      <td>philippines</td>\n",
       "      <td>Percentage of men (aged 20-24 years) married o...</td>\n",
       "      <td>Male</td>\n",
       "      <td>2003</td>\n",
       "      <td>20 to 24 years old</td>\n",
       "      <td>2.9</td>\n",
       "      <td>%</td>\n",
       "      <td>12.879721</td>\n",
       "      <td>121.774017</td>\n",
       "    </tr>\n",
       "    <tr>\n",
       "      <td>3</td>\n",
       "      <td>south africa</td>\n",
       "      <td>Percentage of women (aged 20-24 years) married...</td>\n",
       "      <td>Female</td>\n",
       "      <td>2003</td>\n",
       "      <td>20 to 24 years old</td>\n",
       "      <td>0.8</td>\n",
       "      <td>%</td>\n",
       "      <td>-30.559482</td>\n",
       "      <td>22.937506</td>\n",
       "    </tr>\n",
       "    <tr>\n",
       "      <td>4</td>\n",
       "      <td>south africa</td>\n",
       "      <td>Percentage of women (aged 20-24 years) married...</td>\n",
       "      <td>Female</td>\n",
       "      <td>2003</td>\n",
       "      <td>20 to 24 years old</td>\n",
       "      <td>5.6</td>\n",
       "      <td>%</td>\n",
       "      <td>-30.559482</td>\n",
       "      <td>22.937506</td>\n",
       "    </tr>\n",
       "  </tbody>\n",
       "</table>\n",
       "</div>"
      ],
      "text/plain": [
       "        Country                                          Indicator     Sex  \\\n",
       "0      botswana  Percentage of women (aged 20-24 years) married...  Female   \n",
       "1    uzbekistan  Percentage of men (aged 20-24 years) married o...    Male   \n",
       "2   philippines  Percentage of men (aged 20-24 years) married o...    Male   \n",
       "3  south africa  Percentage of women (aged 20-24 years) married...  Female   \n",
       "4  south africa  Percentage of women (aged 20-24 years) married...  Female   \n",
       "\n",
       "   Time Period         Current Age  Observation Value Unit of Measure  \\\n",
       "0         1988  20 to 24 years old               10.0               %   \n",
       "1         2002  20 to 24 years old                0.5               %   \n",
       "2         2003  20 to 24 years old                2.9               %   \n",
       "3         2003  20 to 24 years old                0.8               %   \n",
       "4         2003  20 to 24 years old                5.6               %   \n",
       "\n",
       "    latitude   longitude  \n",
       "0 -22.328474   24.684866  \n",
       "1  41.377491   64.585262  \n",
       "2  12.879721  121.774017  \n",
       "3 -30.559482   22.937506  \n",
       "4 -30.559482   22.937506  "
      ]
     },
     "execution_count": 6,
     "metadata": {},
     "output_type": "execute_result"
    }
   ],
   "source": [
    "childmarriage_final = pd.merge(clean_childmarriage, clean_countries, how=\"left\", on=\"Country\")\n",
    "childmarriage_final = childmarriage_final.drop(columns=[\"The period of time for which data are provided\",\"Abbr\"])\n",
    "childmarriage_final\n",
    "childmarriage_final.head()"
   ]
  },
  {
   "cell_type": "code",
   "execution_count": 7,
   "metadata": {},
   "outputs": [
    {
     "data": {
      "text/html": [
       "<div>\n",
       "<style scoped>\n",
       "    .dataframe tbody tr th:only-of-type {\n",
       "        vertical-align: middle;\n",
       "    }\n",
       "\n",
       "    .dataframe tbody tr th {\n",
       "        vertical-align: top;\n",
       "    }\n",
       "\n",
       "    .dataframe thead th {\n",
       "        text-align: right;\n",
       "    }\n",
       "</style>\n",
       "<table border=\"1\" class=\"dataframe\">\n",
       "  <thead>\n",
       "    <tr style=\"text-align: right;\">\n",
       "      <th></th>\n",
       "      <th>Country</th>\n",
       "      <th>TIME</th>\n",
       "      <th>Value</th>\n",
       "      <th>latitude</th>\n",
       "      <th>longitude</th>\n",
       "    </tr>\n",
       "  </thead>\n",
       "  <tbody>\n",
       "    <tr>\n",
       "      <td>0</td>\n",
       "      <td>morocco</td>\n",
       "      <td>1982</td>\n",
       "      <td>0.53256</td>\n",
       "      <td>31.791702</td>\n",
       "      <td>-7.09262</td>\n",
       "    </tr>\n",
       "    <tr>\n",
       "      <td>1</td>\n",
       "      <td>morocco</td>\n",
       "      <td>1994</td>\n",
       "      <td>0.64434</td>\n",
       "      <td>31.791702</td>\n",
       "      <td>-7.09262</td>\n",
       "    </tr>\n",
       "    <tr>\n",
       "      <td>2</td>\n",
       "      <td>morocco</td>\n",
       "      <td>2004</td>\n",
       "      <td>0.74865</td>\n",
       "      <td>31.791702</td>\n",
       "      <td>-7.09262</td>\n",
       "    </tr>\n",
       "    <tr>\n",
       "      <td>3</td>\n",
       "      <td>morocco</td>\n",
       "      <td>2008</td>\n",
       "      <td>0.81461</td>\n",
       "      <td>31.791702</td>\n",
       "      <td>-7.09262</td>\n",
       "    </tr>\n",
       "    <tr>\n",
       "      <td>4</td>\n",
       "      <td>morocco</td>\n",
       "      <td>2009</td>\n",
       "      <td>0.83185</td>\n",
       "      <td>31.791702</td>\n",
       "      <td>-7.09262</td>\n",
       "    </tr>\n",
       "  </tbody>\n",
       "</table>\n",
       "</div>"
      ],
      "text/plain": [
       "   Country  TIME    Value   latitude  longitude\n",
       "0  morocco  1982  0.53256  31.791702   -7.09262\n",
       "1  morocco  1994  0.64434  31.791702   -7.09262\n",
       "2  morocco  2004  0.74865  31.791702   -7.09262\n",
       "3  morocco  2008  0.81461  31.791702   -7.09262\n",
       "4  morocco  2009  0.83185  31.791702   -7.09262"
      ]
     },
     "execution_count": 7,
     "metadata": {},
     "output_type": "execute_result"
    }
   ],
   "source": [
    "education_final = pd.merge(filtered_education, clean_countries, how=\"left\", on=\"Country\")\n",
    "education_final = education_final.drop(columns=[\"LOCATION\",\"Abbr\"])\n",
    "education_final.head()"
   ]
  },
  {
   "cell_type": "code",
   "execution_count": 52,
   "metadata": {},
   "outputs": [],
   "source": [
    "# Question 1: Is child marriage decreasing over time? (line graph and bar graph)"
   ]
  },
  {
   "cell_type": "code",
   "execution_count": 51,
   "metadata": {},
   "outputs": [
    {
     "name": "stdout",
     "output_type": "stream",
     "text": [
      "2018\n",
      "1988\n"
     ]
    },
    {
     "data": {
      "text/plain": [
       "Year Range\n",
       "1998-2003    1.85\n",
       "2003-2008    5.50\n",
       "2008-2013    5.60\n",
       "2013-2018    7.15\n",
       "Name: Observation Value, dtype: float64"
      ]
     },
     "execution_count": 51,
     "metadata": {},
     "output_type": "execute_result"
    }
   ],
   "source": [
    "# Figure out the minimum and maximum years in the child marriage data frame\n",
    "print(childmarriage_final[\"Time Period\"].max())\n",
    "print(childmarriage_final[\"Time Period\"].min())\n",
    "\n",
    "# Create bins in which to place time periods based upon values\n",
    "bins = [1998, 2003, 2008, 2013, 2018]\n",
    "\n",
    "# Create labels for these bins\n",
    "year_ranges = [\"1998-2003\", \"2003-2008\", \"2008-2013\", \"2013-2018\"]\n",
    "\n",
    "# Slice the data and place it into bins\n",
    "pd.cut(childmarriage_final[\"Time Period\"], bins, labels=year_ranges).head()\n",
    "\n",
    "# Place the data series into a new column inside of the DataFrame\n",
    "childmarriage_final[\"Year Range\"] = pd.cut(childmarriage_final[\"Time Period\"], bins, labels=year_ranges, include_lowest=True)\n",
    "childmarriage_final.head()\n",
    "\n",
    "# Create a GroupBy object based upon \"View Group\"\n",
    "childmarriage_grouped = childmarriage_final.groupby(\"Year Range\")\n",
    "\n",
    "# Get the average of each column within the GroupBy object\n",
    "childmarriage_grouped_df = childmarriage_grouped[\"Observation Value\"].median()\n",
    "childmarriage_grouped_df"
   ]
  },
  {
   "cell_type": "code",
   "execution_count": 48,
   "metadata": {},
   "outputs": [
    {
     "data": {
      "image/png": "[encoded data removed]",
      "text/plain": [
       "<Figure size 432x288 with 1 Axes>"
      ]
     },
     "metadata": {
      "needs_background": "light"
     },
     "output_type": "display_data"
    },
    {
     "data": {
      "text/plain": [
       "<Figure size 432x288 with 0 Axes>"
      ]
     },
     "metadata": {},
     "output_type": "display_data"
    }
   ],
   "source": [
    "# Create a line chart based off of the time and the observation values\n",
    "childmarriage_barchart = childmarriage_grouped_df.plot(kind='bar', color='brown', rot=0)\n",
    "\n",
    "# Set the xlabel and ylabel using class methods\n",
    "childmarriage_barchart.set_xlabel(\"Year Range\")\n",
    "childmarriage_barchart.set_ylabel(\"% of Child Marriage\")\n",
    "plt.title(\"% Child Marriage Over the Years\")\n",
    "\n",
    "plt.show()\n",
    "plt.tight_layout()"
   ]
  },
  {
   "cell_type": "code",
   "execution_count": 50,
   "metadata": {},
   "outputs": [
    {
     "data": {
      "image/png": "[encoded data removed]",
      "text/plain": [
       "<Figure size 432x288 with 1 Axes>"
      ]
     },
     "metadata": {
      "needs_background": "light"
     },
     "output_type": "display_data"
    },
    {
     "data": {
      "text/plain": [
       "<Figure size 432x288 with 0 Axes>"
      ]
     },
     "metadata": {},
     "output_type": "display_data"
    }
   ],
   "source": [
    "# Create a line graph based off of the year ranges and the observation values\n",
    "\n",
    "# Create a GroupBy object based upon \"Time Period\"\n",
    "cm2 = childmarriage_final.groupby(\"Time Period\")\n",
    "\n",
    "# Get the average of each column within the GroupBy object\n",
    "cm2_df = cm2[\"Observation Value\"].median()\n",
    "cm2_df\n",
    "\n",
    "childmarriage_linechart = cm2_df.plot(kind='line', color='blue')\n",
    "\n",
    "# Set the xlabel and ylabel using class methods\n",
    "childmarriage_linechart.set_xlabel(\"Years\")\n",
    "childmarriage_linechart.set_ylabel(\"Median % of Child Marriage\")\n",
    "plt.title(\"% Child Marriage Over the Years\")\n",
    "\n",
    "plt.show()\n",
    "plt.tight_layout()"
   ]
  },
  {
   "cell_type": "code",
   "execution_count": 68,
   "metadata": {},
   "outputs": [
    {
     "data": {
      "text/plain": [
       "Ttest_indResult(statistic=-2704.2423148013004, pvalue=0.0)"
      ]
     },
     "execution_count": 68,
     "metadata": {},
     "output_type": "execute_result"
    }
   ],
   "source": []
  },
  {
   "cell_type": "code",
   "execution_count": null,
   "metadata": {},
   "outputs": [],
   "source": []
  },
  {
   "cell_type": "code",
   "execution_count": null,
   "metadata": {},
   "outputs": [],
   "source": [
    "# Question 2: What is the correlation of literacy rate and child marriage? (scatter plot with regression line and boxplot) "
   ]
  },
  {
   "cell_type": "code",
   "execution_count": null,
   "metadata": {},
   "outputs": [],
   "source": [
    "# Question 3: What is the geographical impact on child marriage and education? (heat map one for education and one for child marriage)"
   ]
  },
  {
   "cell_type": "code",
   "execution_count": null,
   "metadata": {},
   "outputs": [],
   "source": [
    "# Question 4: Is one gender more susceptible to child marriage than the other? (pie graph)"
   ]
  },
  {
   "cell_type": "code",
   "execution_count": null,
   "metadata": {},
   "outputs": [],
   "source": [
    "# Conclusion: our null hypothesis is that education has no impact on child marriage rates."
   ]
  },
  {
   "cell_type": "code",
   "execution_count": null,
   "metadata": {},
   "outputs": [],
   "source": []
  },
  {
   "cell_type": "code",
   "execution_count": null,
   "metadata": {},
   "outputs": [],
   "source": []
  },
  {
   "cell_type": "code",
   "execution_count": null,
   "metadata": {},
   "outputs": [],
   "source": []
  },
  {
   "cell_type": "code",
   "execution_count": null,
   "metadata": {},
   "outputs": [],
   "source": []
  },
  {
   "cell_type": "code",
   "execution_count": null,
   "metadata": {},
   "outputs": [],
   "source": []
  },
  {
   "cell_type": "code",
   "execution_count": null,
   "metadata": {},
   "outputs": [],
   "source": []
  },
  {
   "cell_type": "code",
   "execution_count": null,
   "metadata": {},
   "outputs": [],
   "source": []
  },
  {
   "cell_type": "code",
   "execution_count": null,
   "metadata": {},
   "outputs": [],
   "source": []
  },
  {
   "cell_type": "code",
   "execution_count": null,
   "metadata": {},
   "outputs": [],
   "source": []
  },
  {
   "cell_type": "code",
   "execution_count": null,
   "metadata": {},
   "outputs": [],
   "source": []
  },
  {
   "cell_type": "code",
   "execution_count": null,
   "metadata": {},
   "outputs": [],
   "source": []
  },
  {
   "cell_type": "code",
   "execution_count": null,
   "metadata": {},
   "outputs": [],
   "source": []
  },
  {
   "cell_type": "code",
   "execution_count": null,
   "metadata": {},
   "outputs": [],
   "source": []
  },
  {
   "cell_type": "code",
   "execution_count": null,
   "metadata": {
    "scrolled": true
   },
   "outputs": [],
   "source": []
  },
  {
   "cell_type": "code",
   "execution_count": null,
   "metadata": {},
   "outputs": [],
   "source": []
  },
  {
   "cell_type": "code",
   "execution_count": null,
   "metadata": {},
   "outputs": [],
   "source": []
  },
  {
   "cell_type": "code",
   "execution_count": null,
   "metadata": {},
   "outputs": [],
   "source": []
  },
  {
   "cell_type": "code",
   "execution_count": null,
   "metadata": {},
   "outputs": [],
   "source": []
  },
  {
   "cell_type": "code",
   "execution_count": null,
   "metadata": {},
   "outputs": [],
   "source": []
  }
 ],
 "metadata": {
  "anaconda-cloud": {},
  "kernelspec": {
   "display_name": "Python 3",
   "language": "python",
   "name": "python3"
  },
  "language_info": {
   "codemirror_mode": {
    "name": "ipython",
    "version": 3
   },
   "file_extension": ".py",
   "mimetype": "text/x-python",
   "name": "python",
   "nbconvert_exporter": "python",
   "pygments_lexer": "ipython3",
   "version": "3.7.4"
  }
 },
 "nbformat": 4,
 "nbformat_minor": 2
}
