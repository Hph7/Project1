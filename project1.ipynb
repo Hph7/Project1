{
 "cells": [
  {
   "cell_type": "code",
   "execution_count": 26,
   "metadata": {},
   "outputs": [],
   "source": [
    "# Dependencies\n",
    "import requests\n",
    "import json\n",
    "import pandas as pd\n",
    "import matplotlib.pyplot as plt\n",
    "import scipy.stats as stats\n",
    "from scipy.stats import ttest_ind\n",
    "import gmaps\n",
    "import os\n",
    "\n",
    "# import csv data files\n",
    "education_file = \"Resources/education.csv\"\n",
    "childmarriage_file = \"Resources/childmarriage.csv\"\n",
    "\n",
    "\n",
    "# create dataframes for each\n",
    "education_file_df = pd.read_csv(education_file, encoding=\"ISO-8859-1\")\n",
    "childmarriage_file_df = pd.read_csv(childmarriage_file, encoding=\"ISO-8859-1\")\n",
    "countries_df = pd.read_html('https://developers.google.com/public-data/docs/canonical/countries_csv')\n",
    "\n",
    "#education_file_df.head()\n",
    "#childmarriage_file_df.head()\n",
    "#countries_df[0]"
   ]
  },
  {
   "cell_type": "code",
   "execution_count": 4,
   "metadata": {},
   "outputs": [],
   "source": [
    "filtered_education = education_file_df.filter([\"Indicator\"== \"Youth literacy rate, population 15-24 years, both sexes (%)\",\n",
    "                                              \"LOCATION\", \"Country\",\"TIME\", \"Value\"])\n",
    "#filtered_education.head()                       "
   ]
  },
  {
   "cell_type": "code",
   "execution_count": 5,
   "metadata": {},
   "outputs": [],
   "source": [
    "#childmarriage_file_df.head()\n",
    "clean_childmarriage=childmarriage_file_df[['Geographic Area','Indicator','Sex','Time Period','Current Age',\n",
    "                           'Observation Value','Unit of Measure','The period of time for which data are provided']]\n",
    "clean_childmarriage = clean_childmarriage.rename(columns={\"Geographic Area\":\"Country\"})\n",
    "#clean_childmarriage.head()"
   ]
  },
  {
   "cell_type": "code",
   "execution_count": 6,
   "metadata": {},
   "outputs": [],
   "source": [
    "#countries_df[0]\n",
    "clean_countries = countries_df[0].rename(columns={\"name\":\"Country\",\"country\":\"Abbr\"})\n",
    "#clean_countries.head()"
   ]
  },
  {
   "cell_type": "code",
   "execution_count": 7,
   "metadata": {},
   "outputs": [],
   "source": [
    "# make country lowercase\n",
    "clean_childmarriage[\"Country\"] = clean_childmarriage[\"Country\"].map(lambda z: z.lower())\n",
    "clean_countries[\"Country\"] = clean_countries[\"Country\"].map(lambda z: z.lower())\n",
    "filtered_education[\"Country\"] = filtered_education[\"Country\"].map(lambda z: z.lower())"
   ]
  },
  {
   "cell_type": "code",
   "execution_count": 8,
   "metadata": {},
   "outputs": [
    {
     "data": {
      "text/html": [
       "<div>\n",
       "<style scoped>\n",
       "    .dataframe tbody tr th:only-of-type {\n",
       "        vertical-align: middle;\n",
       "    }\n",
       "\n",
       "    .dataframe tbody tr th {\n",
       "        vertical-align: top;\n",
       "    }\n",
       "\n",
       "    .dataframe thead th {\n",
       "        text-align: right;\n",
       "    }\n",
       "</style>\n",
       "<table border=\"1\" class=\"dataframe\">\n",
       "  <thead>\n",
       "    <tr style=\"text-align: right;\">\n",
       "      <th></th>\n",
       "      <th>Country</th>\n",
       "      <th>Indicator</th>\n",
       "      <th>Sex</th>\n",
       "      <th>Time Period</th>\n",
       "      <th>Current Age</th>\n",
       "      <th>Observation Value</th>\n",
       "      <th>Unit of Measure</th>\n",
       "      <th>latitude</th>\n",
       "      <th>longitude</th>\n",
       "    </tr>\n",
       "  </thead>\n",
       "  <tbody>\n",
       "    <tr>\n",
       "      <td>0</td>\n",
       "      <td>botswana</td>\n",
       "      <td>Percentage of women (aged 20-24 years) married...</td>\n",
       "      <td>Female</td>\n",
       "      <td>1988</td>\n",
       "      <td>20 to 24 years old</td>\n",
       "      <td>10.0</td>\n",
       "      <td>%</td>\n",
       "      <td>-22.328474</td>\n",
       "      <td>24.684866</td>\n",
       "    </tr>\n",
       "    <tr>\n",
       "      <td>1</td>\n",
       "      <td>uzbekistan</td>\n",
       "      <td>Percentage of men (aged 20-24 years) married o...</td>\n",
       "      <td>Male</td>\n",
       "      <td>2002</td>\n",
       "      <td>20 to 24 years old</td>\n",
       "      <td>0.5</td>\n",
       "      <td>%</td>\n",
       "      <td>41.377491</td>\n",
       "      <td>64.585262</td>\n",
       "    </tr>\n",
       "    <tr>\n",
       "      <td>2</td>\n",
       "      <td>philippines</td>\n",
       "      <td>Percentage of men (aged 20-24 years) married o...</td>\n",
       "      <td>Male</td>\n",
       "      <td>2003</td>\n",
       "      <td>20 to 24 years old</td>\n",
       "      <td>2.9</td>\n",
       "      <td>%</td>\n",
       "      <td>12.879721</td>\n",
       "      <td>121.774017</td>\n",
       "    </tr>\n",
       "    <tr>\n",
       "      <td>3</td>\n",
       "      <td>south africa</td>\n",
       "      <td>Percentage of women (aged 20-24 years) married...</td>\n",
       "      <td>Female</td>\n",
       "      <td>2003</td>\n",
       "      <td>20 to 24 years old</td>\n",
       "      <td>0.8</td>\n",
       "      <td>%</td>\n",
       "      <td>-30.559482</td>\n",
       "      <td>22.937506</td>\n",
       "    </tr>\n",
       "    <tr>\n",
       "      <td>4</td>\n",
       "      <td>south africa</td>\n",
       "      <td>Percentage of women (aged 20-24 years) married...</td>\n",
       "      <td>Female</td>\n",
       "      <td>2003</td>\n",
       "      <td>20 to 24 years old</td>\n",
       "      <td>5.6</td>\n",
       "      <td>%</td>\n",
       "      <td>-30.559482</td>\n",
       "      <td>22.937506</td>\n",
       "    </tr>\n",
       "  </tbody>\n",
       "</table>\n",
       "</div>"
      ],
      "text/plain": [
       "        Country                                          Indicator     Sex  \\\n",
       "0      botswana  Percentage of women (aged 20-24 years) married...  Female   \n",
       "1    uzbekistan  Percentage of men (aged 20-24 years) married o...    Male   \n",
       "2   philippines  Percentage of men (aged 20-24 years) married o...    Male   \n",
       "3  south africa  Percentage of women (aged 20-24 years) married...  Female   \n",
       "4  south africa  Percentage of women (aged 20-24 years) married...  Female   \n",
       "\n",
       "   Time Period         Current Age  Observation Value Unit of Measure  \\\n",
       "0         1988  20 to 24 years old               10.0               %   \n",
       "1         2002  20 to 24 years old                0.5               %   \n",
       "2         2003  20 to 24 years old                2.9               %   \n",
       "3         2003  20 to 24 years old                0.8               %   \n",
       "4         2003  20 to 24 years old                5.6               %   \n",
       "\n",
       "    latitude   longitude  \n",
       "0 -22.328474   24.684866  \n",
       "1  41.377491   64.585262  \n",
       "2  12.879721  121.774017  \n",
       "3 -30.559482   22.937506  \n",
       "4 -30.559482   22.937506  "
      ]
     },
     "execution_count": 8,
     "metadata": {},
     "output_type": "execute_result"
    }
   ],
   "source": [
    "childmarriage_final = pd.merge(clean_childmarriage, clean_countries, how=\"left\", on=\"Country\")\n",
    "childmarriage_final = childmarriage_final.drop(columns=[\"The period of time for which data are provided\",\"Abbr\"])\n",
    "childmarriage_final\n",
    "childmarriage_final.head()"
   ]
  },
  {
   "cell_type": "code",
   "execution_count": 9,
   "metadata": {},
   "outputs": [
    {
     "data": {
      "text/html": [
       "<div>\n",
       "<style scoped>\n",
       "    .dataframe tbody tr th:only-of-type {\n",
       "        vertical-align: middle;\n",
       "    }\n",
       "\n",
       "    .dataframe tbody tr th {\n",
       "        vertical-align: top;\n",
       "    }\n",
       "\n",
       "    .dataframe thead th {\n",
       "        text-align: right;\n",
       "    }\n",
       "</style>\n",
       "<table border=\"1\" class=\"dataframe\">\n",
       "  <thead>\n",
       "    <tr style=\"text-align: right;\">\n",
       "      <th></th>\n",
       "      <th>Country</th>\n",
       "      <th>TIME</th>\n",
       "      <th>Value</th>\n",
       "      <th>latitude</th>\n",
       "      <th>longitude</th>\n",
       "    </tr>\n",
       "  </thead>\n",
       "  <tbody>\n",
       "    <tr>\n",
       "      <td>0</td>\n",
       "      <td>morocco</td>\n",
       "      <td>1982</td>\n",
       "      <td>0.53256</td>\n",
       "      <td>31.791702</td>\n",
       "      <td>-7.09262</td>\n",
       "    </tr>\n",
       "    <tr>\n",
       "      <td>1</td>\n",
       "      <td>morocco</td>\n",
       "      <td>1994</td>\n",
       "      <td>0.64434</td>\n",
       "      <td>31.791702</td>\n",
       "      <td>-7.09262</td>\n",
       "    </tr>\n",
       "    <tr>\n",
       "      <td>2</td>\n",
       "      <td>morocco</td>\n",
       "      <td>2004</td>\n",
       "      <td>0.74865</td>\n",
       "      <td>31.791702</td>\n",
       "      <td>-7.09262</td>\n",
       "    </tr>\n",
       "    <tr>\n",
       "      <td>3</td>\n",
       "      <td>morocco</td>\n",
       "      <td>2008</td>\n",
       "      <td>0.81461</td>\n",
       "      <td>31.791702</td>\n",
       "      <td>-7.09262</td>\n",
       "    </tr>\n",
       "    <tr>\n",
       "      <td>4</td>\n",
       "      <td>morocco</td>\n",
       "      <td>2009</td>\n",
       "      <td>0.83185</td>\n",
       "      <td>31.791702</td>\n",
       "      <td>-7.09262</td>\n",
       "    </tr>\n",
       "  </tbody>\n",
       "</table>\n",
       "</div>"
      ],
      "text/plain": [
       "   Country  TIME    Value   latitude  longitude\n",
       "0  morocco  1982  0.53256  31.791702   -7.09262\n",
       "1  morocco  1994  0.64434  31.791702   -7.09262\n",
       "2  morocco  2004  0.74865  31.791702   -7.09262\n",
       "3  morocco  2008  0.81461  31.791702   -7.09262\n",
       "4  morocco  2009  0.83185  31.791702   -7.09262"
      ]
     },
     "execution_count": 9,
     "metadata": {},
     "output_type": "execute_result"
    }
   ],
   "source": [
    "education_final = pd.merge(filtered_education, clean_countries, how=\"left\", on=\"Country\")\n",
    "education_final = education_final.drop(columns=[\"LOCATION\",\"Abbr\"])\n",
    "education_final.head()"
   ]
  },
  {
   "cell_type": "code",
   "execution_count": 10,
   "metadata": {},
   "outputs": [],
   "source": [
    "# Question 1: Is child marriage decreasing over time? (line graph and bar graph)"
   ]
  },
  {
   "cell_type": "code",
   "execution_count": 11,
   "metadata": {},
   "outputs": [
    {
     "name": "stdout",
     "output_type": "stream",
     "text": [
      "2018\n",
      "1988\n"
     ]
    },
    {
     "data": {
      "text/plain": [
       "Year Range\n",
       "1998-2003    1.85\n",
       "2003-2008    5.50\n",
       "2008-2013    5.60\n",
       "2013-2018    7.15\n",
       "Name: Observation Value, dtype: float64"
      ]
     },
     "execution_count": 11,
     "metadata": {},
     "output_type": "execute_result"
    }
   ],
   "source": [
    "# Figure out the minimum and maximum years in the child marriage data frame\n",
    "print(childmarriage_final[\"Time Period\"].max())\n",
    "print(childmarriage_final[\"Time Period\"].min())\n",
    "\n",
    "# Create bins in which to place time periods based upon values\n",
    "bins = [1998, 2003, 2008, 2013, 2018]\n",
    "\n",
    "# Create labels for these bins\n",
    "year_ranges = [\"1998-2003\", \"2003-2008\", \"2008-2013\", \"2013-2018\"]\n",
    "\n",
    "# Slice the data and place it into bins\n",
    "pd.cut(childmarriage_final[\"Time Period\"], bins, labels=year_ranges).head()\n",
    "\n",
    "# Place the data series into a new column inside of the DataFrame\n",
    "childmarriage_final[\"Year Range\"] = pd.cut(childmarriage_final[\"Time Period\"], bins, labels=year_ranges, include_lowest=True)\n",
    "childmarriage_final.head()\n",
    "\n",
    "# Create a GroupBy object based upon \"View Group\"\n",
    "childmarriage_grouped = childmarriage_final.groupby(\"Year Range\")\n",
    "\n",
    "# Get the average of each column within the GroupBy object\n",
    "childmarriage_grouped_df = childmarriage_grouped[\"Observation Value\"].median()\n",
    "childmarriage_grouped_df"
   ]
  },
  {
   "cell_type": "code",
   "execution_count": 12,
   "metadata": {},
   "outputs": [
    {
     "data": {
      "image/png": "[encoded data removed]",
      "text/plain": [
       "<Figure size 432x288 with 1 Axes>"
      ]
     },
     "metadata": {
      "needs_background": "light"
     },
     "output_type": "display_data"
    },
    {
     "data": {
      "text/plain": [
       "<Figure size 432x288 with 0 Axes>"
      ]
     },
     "metadata": {},
     "output_type": "display_data"
    }
   ],
   "source": [
    "# Create a line chart based off of the time and the observation values\n",
    "childmarriage_barchart = childmarriage_grouped_df.plot(kind='bar', color='brown', rot=0)\n",
    "\n",
    "# Set the xlabel and ylabel using class methods\n",
    "childmarriage_barchart.set_xlabel(\"Year Range\")\n",
    "childmarriage_barchart.set_ylabel(\"% of Child Marriage\")\n",
    "plt.title(\"% Child Marriage Over the Years\")\n",
    "\n",
    "plt.show()\n",
    "plt.tight_layout()"
   ]
  },
  {
   "cell_type": "code",
   "execution_count": 13,
   "metadata": {},
   "outputs": [
    {
     "data": {
      "image/png": "[encoded data removed]",
      "text/plain": [
       "<Figure size 432x288 with 1 Axes>"
      ]
     },
     "metadata": {
      "needs_background": "light"
     },
     "output_type": "display_data"
    },
    {
     "data": {
      "text/plain": [
       "<Figure size 432x288 with 0 Axes>"
      ]
     },
     "metadata": {},
     "output_type": "display_data"
    }
   ],
   "source": [
    "# Create a line graph based off of the year ranges and the observation values\n",
    "\n",
    "# Create a GroupBy object based upon \"Time Period\"\n",
    "cm2 = childmarriage_final.groupby(\"Time Period\")\n",
    "\n",
    "# Get the average of each column within the GroupBy object\n",
    "cm2_df = cm2[\"Observation Value\"].median()\n",
    "cm2_df\n",
    "\n",
    "childmarriage_linechart = cm2_df.plot(kind='line', color='blue')\n",
    "\n",
    "# Set the xlabel and ylabel using class methods\n",
    "childmarriage_linechart.set_xlabel(\"Years\")\n",
    "childmarriage_linechart.set_ylabel(\"Median % of Child Marriage\")\n",
    "plt.title(\"% Child Marriage Over the Years\")\n",
    "\n",
    "plt.show()\n",
    "plt.tight_layout()"
   ]
  },
  {
   "cell_type": "code",
   "execution_count": null,
   "metadata": {},
   "outputs": [],
   "source": [
    "# Question 2: What is the correlation of literacy rate and child marriage? (scatter plot with regression line and boxplot) "
   ]
  },
  {
   "cell_type": "code",
   "execution_count": 17,
   "metadata": {},
   "outputs": [
    {
     "data": {
      "text/html": [
       "<div>\n",
       "<style scoped>\n",
       "    .dataframe tbody tr th:only-of-type {\n",
       "        vertical-align: middle;\n",
       "    }\n",
       "\n",
       "    .dataframe tbody tr th {\n",
       "        vertical-align: top;\n",
       "    }\n",
       "\n",
       "    .dataframe thead th {\n",
       "        text-align: right;\n",
       "    }\n",
       "</style>\n",
       "<table border=\"1\" class=\"dataframe\">\n",
       "  <thead>\n",
       "    <tr style=\"text-align: right;\">\n",
       "      <th></th>\n",
       "      <th>Value</th>\n",
       "    </tr>\n",
       "    <tr>\n",
       "      <th>Country</th>\n",
       "      <th></th>\n",
       "    </tr>\n",
       "  </thead>\n",
       "  <tbody>\n",
       "    <tr>\n",
       "      <td>afghanistan</td>\n",
       "      <td>35.439102</td>\n",
       "    </tr>\n",
       "    <tr>\n",
       "      <td>africa (northern)</td>\n",
       "      <td>55.736070</td>\n",
       "    </tr>\n",
       "    <tr>\n",
       "      <td>africa (sub-saharan)</td>\n",
       "      <td>51.741533</td>\n",
       "    </tr>\n",
       "    <tr>\n",
       "      <td>albania</td>\n",
       "      <td>74.590923</td>\n",
       "    </tr>\n",
       "    <tr>\n",
       "      <td>algeria</td>\n",
       "      <td>67.323016</td>\n",
       "    </tr>\n",
       "    <tr>\n",
       "      <td>...</td>\n",
       "      <td>...</td>\n",
       "    </tr>\n",
       "    <tr>\n",
       "      <td>western asia and northern africa</td>\n",
       "      <td>61.662127</td>\n",
       "    </tr>\n",
       "    <tr>\n",
       "      <td>world</td>\n",
       "      <td>63.969104</td>\n",
       "    </tr>\n",
       "    <tr>\n",
       "      <td>yemen</td>\n",
       "      <td>51.241751</td>\n",
       "    </tr>\n",
       "    <tr>\n",
       "      <td>zambia</td>\n",
       "      <td>56.735149</td>\n",
       "    </tr>\n",
       "    <tr>\n",
       "      <td>zimbabwe</td>\n",
       "      <td>68.862129</td>\n",
       "    </tr>\n",
       "  </tbody>\n",
       "</table>\n",
       "<p>200 rows × 1 columns</p>\n",
       "</div>"
      ],
      "text/plain": [
       "                                      Value\n",
       "Country                                    \n",
       "afghanistan                       35.439102\n",
       "africa (northern)                 55.736070\n",
       "africa (sub-saharan)              51.741533\n",
       "albania                           74.590923\n",
       "algeria                           67.323016\n",
       "...                                     ...\n",
       "western asia and northern africa  61.662127\n",
       "world                             63.969104\n",
       "yemen                             51.241751\n",
       "zambia                            56.735149\n",
       "zimbabwe                          68.862129\n",
       "\n",
       "[200 rows x 1 columns]"
      ]
     },
     "execution_count": 17,
     "metadata": {},
     "output_type": "execute_result"
    }
   ],
   "source": [
    "# from education_final dataset, group each country and get the mean of values\n",
    "new_education_final=education_final.groupby([\"Country\"])\n",
    "education_grouped_country=new_education_final[\"Value\"].mean()\n",
    "education_grouped_country_df=pd.DataFrame(education_grouped_country)\n",
    "education_grouped_country_df"
   ]
  },
  {
   "cell_type": "code",
   "execution_count": 18,
   "metadata": {},
   "outputs": [
    {
     "data": {
      "text/html": [
       "<div>\n",
       "<style scoped>\n",
       "    .dataframe tbody tr th:only-of-type {\n",
       "        vertical-align: middle;\n",
       "    }\n",
       "\n",
       "    .dataframe tbody tr th {\n",
       "        vertical-align: top;\n",
       "    }\n",
       "\n",
       "    .dataframe thead th {\n",
       "        text-align: right;\n",
       "    }\n",
       "</style>\n",
       "<table border=\"1\" class=\"dataframe\">\n",
       "  <thead>\n",
       "    <tr style=\"text-align: right;\">\n",
       "      <th></th>\n",
       "      <th>Observation Value</th>\n",
       "    </tr>\n",
       "    <tr>\n",
       "      <th>Country</th>\n",
       "      <th></th>\n",
       "    </tr>\n",
       "  </thead>\n",
       "  <tbody>\n",
       "    <tr>\n",
       "      <td>afghanistan</td>\n",
       "      <td>16.966667</td>\n",
       "    </tr>\n",
       "    <tr>\n",
       "      <td>albania</td>\n",
       "      <td>4.800000</td>\n",
       "    </tr>\n",
       "    <tr>\n",
       "      <td>algeria</td>\n",
       "      <td>1.450000</td>\n",
       "    </tr>\n",
       "    <tr>\n",
       "      <td>angola</td>\n",
       "      <td>14.733333</td>\n",
       "    </tr>\n",
       "    <tr>\n",
       "      <td>armenia</td>\n",
       "      <td>1.900000</td>\n",
       "    </tr>\n",
       "    <tr>\n",
       "      <td>...</td>\n",
       "      <td>...</td>\n",
       "    </tr>\n",
       "    <tr>\n",
       "      <td>vanuatu</td>\n",
       "      <td>9.500000</td>\n",
       "    </tr>\n",
       "    <tr>\n",
       "      <td>viet nam</td>\n",
       "      <td>4.733333</td>\n",
       "    </tr>\n",
       "    <tr>\n",
       "      <td>yemen</td>\n",
       "      <td>20.650000</td>\n",
       "    </tr>\n",
       "    <tr>\n",
       "      <td>zambia</td>\n",
       "      <td>13.166667</td>\n",
       "    </tr>\n",
       "    <tr>\n",
       "      <td>zimbabwe</td>\n",
       "      <td>12.433333</td>\n",
       "    </tr>\n",
       "  </tbody>\n",
       "</table>\n",
       "<p>127 rows × 1 columns</p>\n",
       "</div>"
      ],
      "text/plain": [
       "             Observation Value\n",
       "Country                       \n",
       "afghanistan          16.966667\n",
       "albania               4.800000\n",
       "algeria               1.450000\n",
       "angola               14.733333\n",
       "armenia               1.900000\n",
       "...                        ...\n",
       "vanuatu               9.500000\n",
       "viet nam              4.733333\n",
       "yemen                20.650000\n",
       "zambia               13.166667\n",
       "zimbabwe             12.433333\n",
       "\n",
       "[127 rows x 1 columns]"
      ]
     },
     "execution_count": 18,
     "metadata": {},
     "output_type": "execute_result"
    }
   ],
   "source": [
    "# childmarriage_final dataset, group each country and get the mean of values\n",
    "new_childmarriage_final=childmarriage_final.groupby([\"Country\"])\n",
    "childmarriage_grouped_country=new_childmarriage_final[\"Observation Value\"].mean()\n",
    "childmarriage_grouped_country_df=pd.DataFrame(childmarriage_grouped_country)\n",
    "childmarriage_grouped_country_df"
   ]
  },
  {
   "cell_type": "code",
   "execution_count": 19,
   "metadata": {},
   "outputs": [
    {
     "data": {
      "text/html": [
       "<div>\n",
       "<style scoped>\n",
       "    .dataframe tbody tr th:only-of-type {\n",
       "        vertical-align: middle;\n",
       "    }\n",
       "\n",
       "    .dataframe tbody tr th {\n",
       "        vertical-align: top;\n",
       "    }\n",
       "\n",
       "    .dataframe thead th {\n",
       "        text-align: right;\n",
       "    }\n",
       "</style>\n",
       "<table border=\"1\" class=\"dataframe\">\n",
       "  <thead>\n",
       "    <tr style=\"text-align: right;\">\n",
       "      <th></th>\n",
       "      <th>Overall Averaged Child Marriage Value</th>\n",
       "      <th>Averaged Education Value</th>\n",
       "    </tr>\n",
       "    <tr>\n",
       "      <th>Country</th>\n",
       "      <th></th>\n",
       "      <th></th>\n",
       "    </tr>\n",
       "  </thead>\n",
       "  <tbody>\n",
       "    <tr>\n",
       "      <td>afghanistan</td>\n",
       "      <td>16.966667</td>\n",
       "      <td>35.439102</td>\n",
       "    </tr>\n",
       "    <tr>\n",
       "      <td>albania</td>\n",
       "      <td>4.800000</td>\n",
       "      <td>74.590923</td>\n",
       "    </tr>\n",
       "    <tr>\n",
       "      <td>algeria</td>\n",
       "      <td>1.450000</td>\n",
       "      <td>67.323016</td>\n",
       "    </tr>\n",
       "    <tr>\n",
       "      <td>angola</td>\n",
       "      <td>14.733333</td>\n",
       "      <td>56.702264</td>\n",
       "    </tr>\n",
       "    <tr>\n",
       "      <td>armenia</td>\n",
       "      <td>1.900000</td>\n",
       "      <td>75.139868</td>\n",
       "    </tr>\n",
       "    <tr>\n",
       "      <td>...</td>\n",
       "      <td>...</td>\n",
       "      <td>...</td>\n",
       "    </tr>\n",
       "    <tr>\n",
       "      <td>vanuatu</td>\n",
       "      <td>9.500000</td>\n",
       "      <td>65.044334</td>\n",
       "    </tr>\n",
       "    <tr>\n",
       "      <td>viet nam</td>\n",
       "      <td>4.733333</td>\n",
       "      <td>71.899058</td>\n",
       "    </tr>\n",
       "    <tr>\n",
       "      <td>yemen</td>\n",
       "      <td>20.650000</td>\n",
       "      <td>51.241751</td>\n",
       "    </tr>\n",
       "    <tr>\n",
       "      <td>zambia</td>\n",
       "      <td>13.166667</td>\n",
       "      <td>56.735149</td>\n",
       "    </tr>\n",
       "    <tr>\n",
       "      <td>zimbabwe</td>\n",
       "      <td>12.433333</td>\n",
       "      <td>68.862129</td>\n",
       "    </tr>\n",
       "  </tbody>\n",
       "</table>\n",
       "<p>120 rows × 2 columns</p>\n",
       "</div>"
      ],
      "text/plain": [
       "             Overall Averaged Child Marriage Value  Averaged Education Value\n",
       "Country                                                                     \n",
       "afghanistan                              16.966667                 35.439102\n",
       "albania                                   4.800000                 74.590923\n",
       "algeria                                   1.450000                 67.323016\n",
       "angola                                   14.733333                 56.702264\n",
       "armenia                                   1.900000                 75.139868\n",
       "...                                            ...                       ...\n",
       "vanuatu                                   9.500000                 65.044334\n",
       "viet nam                                  4.733333                 71.899058\n",
       "yemen                                    20.650000                 51.241751\n",
       "zambia                                   13.166667                 56.735149\n",
       "zimbabwe                                 12.433333                 68.862129\n",
       "\n",
       "[120 rows x 2 columns]"
      ]
     },
     "execution_count": 19,
     "metadata": {},
     "output_type": "execute_result"
    }
   ],
   "source": [
    "# Merge data from childmarriage_grouped_country_df and education_grouped_country_df to compare\n",
    "childmarriage_and_education = pd.merge(childmarriage_grouped_country_df, education_grouped_country_df, how=\"inner\", on=\"Country\")\n",
    "childmarriage_and_education\n",
    "childmarriage_and_education = childmarriage_and_education.rename(columns={\"Observation Value\":\"Overall Averaged Child Marriage Value\",\n",
    "                                                                         \"Value\":\"Averaged Education Value\"})\n",
    "childmarriage_and_education"
   ]
  },
  {
   "cell_type": "code",
   "execution_count": 20,
   "metadata": {},
   "outputs": [
    {
     "name": "stdout",
     "output_type": "stream",
     "text": [
      "y = -0.38155x + 35.65\n",
      "The r-squared is: -0.6880431291174198\n"
     ]
    },
    {
     "data": {
      "image/png": "[encoded data removed]",
      "text/plain": [
       "<Figure size 432x288 with 1 Axes>"
      ]
     },
     "metadata": {
      "needs_background": "light"
     },
     "output_type": "display_data"
    }
   ],
   "source": [
    "# Correlation of Education with child marriage\n",
    "x_values = childmarriage_and_education['Averaged Education Value']\n",
    "y_values = childmarriage_and_education['Overall Averaged Child Marriage Value']\n",
    "(slope, intercept, rvalue, pvalue, stderr) = stats.linregress(x_values, y_values)\n",
    "regress_values = x_values * slope + intercept\n",
    "#print(regress_values)\n",
    "line_eq = \"y = \" + str(round(slope,5)) + \"x + \" + str(round(intercept,2))\n",
    "plt.scatter(x_values,y_values)\n",
    "plt.plot(x_values,regress_values,\"r-\")\n",
    "plt.annotate(line_eq,(6,10),fontsize=15,color=\"red\")\n",
    "plt.xlabel(\"Averaged Education Value\")\n",
    "plt.ylabel(\"Overall Averaged Child Marriage Value\")\n",
    "print(line_eq)\n",
    "print(f\"The r-squared is: {rvalue}\")\n",
    "plt.show()"
   ]
  },
  {
   "cell_type": "code",
   "execution_count": null,
   "metadata": {},
   "outputs": [],
   "source": [
    "print (childmarriage_and_education['Averaged Education Value'].median())"
   ]
  },
  {
   "cell_type": "code",
   "execution_count": null,
   "metadata": {},
   "outputs": [],
   "source": [
    "higher_education = childmarriage_and_education.loc[childmarriage_and_education['Averaged Education Value'] >=67.7080]\n",
    "lower_education=childmarriage_and_education.loc[childmarriage_and_education['Averaged Education Value'] <67.7080]\n",
    "lower_education_marriage=lower_education['Overall Averaged Child Marriage Value']\n",
    "higher_education_marriage=higher_education['Overall Averaged Child Marriage Value']\n",
    "lower_education_marriage\n",
    "stats.f_oneway(higher_education_marriage, lower_education_marriage)"
   ]
  },
  {
   "cell_type": "code",
   "execution_count": 21,
   "metadata": {},
   "outputs": [
    {
     "data": {
      "image/png": "[encoded data removed]",
      "text/plain": [
       "<Figure size 432x288 with 1 Axes>"
      ]
     },
     "metadata": {
      "needs_background": "light"
     },
     "output_type": "display_data"
    },
    {
     "name": "stdout",
     "output_type": "stream",
     "text": [
      "The lower quartile of averaged child marriage value is: 4.783333333333333\n",
      "The upper quartile of averaged child marriage value is: 16.441666666666666\n",
      "The interquartile range of averaged child marriage value is: 11.658333333333333\n",
      "Values below -12.704166666666667 could be outliers.\n",
      "Values above 33.92916666666667 could be outliers.\n",
      "There are outliers for child marriage:\n",
      "Country\n",
      "central african republic    41.633333\n",
      "chad                        34.866667\n",
      "niger                       36.666667\n",
      "Name: Overall Averaged Child Marriage Value, dtype: float64\n"
     ]
    }
   ],
   "source": [
    "# Boxplot for child marriage \n",
    "fig1, ax1 = plt.subplots()\n",
    "ax1.set_title('Child Marriage')\n",
    "ax1.set_ylabel('Averaged Child Marriage Value')\n",
    "value=childmarriage_and_education[\"Overall Averaged Child Marriage Value\"]\n",
    "ax1.boxplot(value)\n",
    "plt.show()\n",
    "# Give quartile calculations\n",
    "quartiles = value.quantile([.25,.5,.75])\n",
    "lowerq = quartiles[0.25]\n",
    "upperq = quartiles[0.75]\n",
    "iqr = upperq-lowerq\n",
    "# Print result for child marriage\n",
    "print(f\"The lower quartile of averaged child marriage value is: {lowerq}\")\n",
    "print(f\"The upper quartile of averaged child marriage value is: {upperq}\")\n",
    "print(f\"The interquartile range of averaged child marriage value is: {iqr}\")\n",
    "\n",
    "lower_bound = lowerq - (1.5*iqr)\n",
    "upper_bound = upperq + (1.5*iqr)\n",
    "print(f\"Values below {lower_bound} could be outliers.\")\n",
    "print(f\"Values above {upper_bound} could be outliers.\")\n",
    "print(f\"There are outliers for child marriage:\")\n",
    "outliers=value.loc[value > 33.92916666666667]\n",
    "print(outliers)"
   ]
  },
  {
   "cell_type": "code",
   "execution_count": 22,
   "metadata": {},
   "outputs": [
    {
     "data": {
      "image/png": "[encoded data removed]",
      "text/plain": [
       "<Figure size 432x288 with 1 Axes>"
      ]
     },
     "metadata": {
      "needs_background": "light"
     },
     "output_type": "display_data"
    },
    {
     "name": "stdout",
     "output_type": "stream",
     "text": [
      "The lower quartile of averaged child education is: 56.120418125\n",
      "The upper quartile of averaged child education is: 73.66726819078946\n",
      "The interquartile range of averaged child education is: 17.546850065789457\n",
      "Values below 29.800143026315816 could be outliers.\n",
      "Values above 99.98754328947365 could be outliers.\n",
      "There are outliers for child education:\n",
      "Country\n",
      "burkina faso    25.206404\n",
      "chad            25.401568\n",
      "guinea          28.705602\n",
      "mali            29.714138\n",
      "niger           24.506163\n",
      "somalia         10.034673\n",
      "Name: Averaged Education Value, dtype: float64\n"
     ]
    }
   ],
   "source": [
    "# Boxplot for child education \n",
    "fig1, ax1 = plt.subplots()\n",
    "ax1.set_title('Child Education')\n",
    "ax1.set_ylabel('Averaged Child Education')\n",
    "value=childmarriage_and_education[\"Averaged Education Value\"]\n",
    "ax1.boxplot(value)\n",
    "plt.show()\n",
    "# Give quartile calculations\n",
    "quartiles = value.quantile([.25,.5,.75])\n",
    "lowerq = quartiles[0.25]\n",
    "upperq = quartiles[0.75]\n",
    "iqr = upperq-lowerq\n",
    "# Print result for Campomulin\n",
    "print(f\"The lower quartile of averaged child education is: {lowerq}\")\n",
    "print(f\"The upper quartile of averaged child education is: {upperq}\")\n",
    "print(f\"The interquartile range of averaged child education is: {iqr}\")\n",
    "\n",
    "lower_bound = lowerq - (1.5*iqr)\n",
    "upper_bound = upperq + (1.5*iqr)\n",
    "print(f\"Values below {lower_bound} could be outliers.\")\n",
    "print(f\"Values above {upper_bound} could be outliers.\")\n",
    "outliers=value.loc[value < 29.800143026315816]\n",
    "print(f\"There are outliers for child education:\")\n",
    "print(outliers)"
   ]
  },
  {
   "cell_type": "code",
   "execution_count": null,
   "metadata": {},
   "outputs": [],
   "source": [
    "# Question 3: What is the geographical impact on child marriage and education? (heat map one for education and one for child marriage)"
   ]
  },
  {
   "cell_type": "code",
   "execution_count": 23,
   "metadata": {},
   "outputs": [
    {
     "data": {
      "text/html": [
       "<div>\n",
       "<style scoped>\n",
       "    .dataframe tbody tr th:only-of-type {\n",
       "        vertical-align: middle;\n",
       "    }\n",
       "\n",
       "    .dataframe tbody tr th {\n",
       "        vertical-align: top;\n",
       "    }\n",
       "\n",
       "    .dataframe thead th {\n",
       "        text-align: right;\n",
       "    }\n",
       "</style>\n",
       "<table border=\"1\" class=\"dataframe\">\n",
       "  <thead>\n",
       "    <tr style=\"text-align: right;\">\n",
       "      <th></th>\n",
       "      <th>Time Period</th>\n",
       "      <th>Observation Value</th>\n",
       "      <th>latitude</th>\n",
       "      <th>longitude</th>\n",
       "    </tr>\n",
       "    <tr>\n",
       "      <th>Country</th>\n",
       "      <th></th>\n",
       "      <th></th>\n",
       "      <th></th>\n",
       "      <th></th>\n",
       "    </tr>\n",
       "  </thead>\n",
       "  <tbody>\n",
       "    <tr>\n",
       "      <td>afghanistan</td>\n",
       "      <td>2015.000000</td>\n",
       "      <td>16.966667</td>\n",
       "      <td>33.939110</td>\n",
       "      <td>67.709953</td>\n",
       "    </tr>\n",
       "    <tr>\n",
       "      <td>albania</td>\n",
       "      <td>2018.000000</td>\n",
       "      <td>4.800000</td>\n",
       "      <td>41.153332</td>\n",
       "      <td>20.168331</td>\n",
       "    </tr>\n",
       "    <tr>\n",
       "      <td>algeria</td>\n",
       "      <td>2013.000000</td>\n",
       "      <td>1.450000</td>\n",
       "      <td>28.033886</td>\n",
       "      <td>1.659626</td>\n",
       "    </tr>\n",
       "    <tr>\n",
       "      <td>angola</td>\n",
       "      <td>2016.000000</td>\n",
       "      <td>14.733333</td>\n",
       "      <td>-11.202692</td>\n",
       "      <td>17.873887</td>\n",
       "    </tr>\n",
       "    <tr>\n",
       "      <td>armenia</td>\n",
       "      <td>2016.000000</td>\n",
       "      <td>1.900000</td>\n",
       "      <td>40.069099</td>\n",
       "      <td>45.038189</td>\n",
       "    </tr>\n",
       "    <tr>\n",
       "      <td>...</td>\n",
       "      <td>...</td>\n",
       "      <td>...</td>\n",
       "      <td>...</td>\n",
       "      <td>...</td>\n",
       "    </tr>\n",
       "    <tr>\n",
       "      <td>uzbekistan</td>\n",
       "      <td>2004.666667</td>\n",
       "      <td>2.666667</td>\n",
       "      <td>41.377491</td>\n",
       "      <td>64.585262</td>\n",
       "    </tr>\n",
       "    <tr>\n",
       "      <td>vanuatu</td>\n",
       "      <td>2013.000000</td>\n",
       "      <td>9.500000</td>\n",
       "      <td>-15.376706</td>\n",
       "      <td>166.959158</td>\n",
       "    </tr>\n",
       "    <tr>\n",
       "      <td>yemen</td>\n",
       "      <td>2013.000000</td>\n",
       "      <td>20.650000</td>\n",
       "      <td>15.552727</td>\n",
       "      <td>48.516388</td>\n",
       "    </tr>\n",
       "    <tr>\n",
       "      <td>zambia</td>\n",
       "      <td>2014.000000</td>\n",
       "      <td>13.166667</td>\n",
       "      <td>-13.133897</td>\n",
       "      <td>27.849332</td>\n",
       "    </tr>\n",
       "    <tr>\n",
       "      <td>zimbabwe</td>\n",
       "      <td>2015.000000</td>\n",
       "      <td>12.433333</td>\n",
       "      <td>-19.015438</td>\n",
       "      <td>29.154857</td>\n",
       "    </tr>\n",
       "  </tbody>\n",
       "</table>\n",
       "<p>109 rows × 4 columns</p>\n",
       "</div>"
      ],
      "text/plain": [
       "             Time Period  Observation Value   latitude   longitude\n",
       "Country                                                           \n",
       "afghanistan  2015.000000          16.966667  33.939110   67.709953\n",
       "albania      2018.000000           4.800000  41.153332   20.168331\n",
       "algeria      2013.000000           1.450000  28.033886    1.659626\n",
       "angola       2016.000000          14.733333 -11.202692   17.873887\n",
       "armenia      2016.000000           1.900000  40.069099   45.038189\n",
       "...                  ...                ...        ...         ...\n",
       "uzbekistan   2004.666667           2.666667  41.377491   64.585262\n",
       "vanuatu      2013.000000           9.500000 -15.376706  166.959158\n",
       "yemen        2013.000000          20.650000  15.552727   48.516388\n",
       "zambia       2014.000000          13.166667 -13.133897   27.849332\n",
       "zimbabwe     2015.000000          12.433333 -19.015438   29.154857\n",
       "\n",
       "[109 rows x 4 columns]"
      ]
     },
     "execution_count": 23,
     "metadata": {},
     "output_type": "execute_result"
    }
   ],
   "source": [
    "c_final=childmarriage_final.dropna()\n",
    "group_cm_df = c_final.groupby([\"Country\"])\n",
    "childmarriage_df=group_cm_df.mean()\n",
    "childmarriage_df['Time Period'].map(\"${:.1f}\".format)\n",
    "childmarriage_df\n",
    "#childmarriage_final.dtypes\n",
    "\n",
    "#childmarriage_final['Observation Value'].max()"
   ]
  },
  {
   "cell_type": "code",
   "execution_count": 24,
   "metadata": {},
   "outputs": [
    {
     "data": {
      "text/html": [
       "<div>\n",
       "<style scoped>\n",
       "    .dataframe tbody tr th:only-of-type {\n",
       "        vertical-align: middle;\n",
       "    }\n",
       "\n",
       "    .dataframe tbody tr th {\n",
       "        vertical-align: top;\n",
       "    }\n",
       "\n",
       "    .dataframe thead th {\n",
       "        text-align: right;\n",
       "    }\n",
       "</style>\n",
       "<table border=\"1\" class=\"dataframe\">\n",
       "  <thead>\n",
       "    <tr style=\"text-align: right;\">\n",
       "      <th></th>\n",
       "      <th>TIME</th>\n",
       "      <th>Value</th>\n",
       "      <th>latitude</th>\n",
       "      <th>longitude</th>\n",
       "    </tr>\n",
       "    <tr>\n",
       "      <th>Country</th>\n",
       "      <th></th>\n",
       "      <th></th>\n",
       "      <th></th>\n",
       "      <th></th>\n",
       "    </tr>\n",
       "  </thead>\n",
       "  <tbody>\n",
       "    <tr>\n",
       "      <td>afghanistan</td>\n",
       "      <td>2002.666667</td>\n",
       "      <td>35.439102</td>\n",
       "      <td>33.939110</td>\n",
       "      <td>67.709953</td>\n",
       "    </tr>\n",
       "    <tr>\n",
       "      <td>albania</td>\n",
       "      <td>2010.000000</td>\n",
       "      <td>74.590923</td>\n",
       "      <td>41.153332</td>\n",
       "      <td>20.168331</td>\n",
       "    </tr>\n",
       "    <tr>\n",
       "      <td>algeria</td>\n",
       "      <td>2004.200000</td>\n",
       "      <td>67.323016</td>\n",
       "      <td>28.033886</td>\n",
       "      <td>1.659626</td>\n",
       "    </tr>\n",
       "    <tr>\n",
       "      <td>american samoa</td>\n",
       "      <td>1980.000000</td>\n",
       "      <td>73.495482</td>\n",
       "      <td>-14.270972</td>\n",
       "      <td>-170.132217</td>\n",
       "    </tr>\n",
       "    <tr>\n",
       "      <td>angola</td>\n",
       "      <td>2007.500000</td>\n",
       "      <td>56.702264</td>\n",
       "      <td>-11.202692</td>\n",
       "      <td>17.873887</td>\n",
       "    </tr>\n",
       "    <tr>\n",
       "      <td>...</td>\n",
       "      <td>...</td>\n",
       "      <td>...</td>\n",
       "      <td>...</td>\n",
       "      <td>...</td>\n",
       "    </tr>\n",
       "    <tr>\n",
       "      <td>uzbekistan</td>\n",
       "      <td>2012.666667</td>\n",
       "      <td>75.234261</td>\n",
       "      <td>41.377491</td>\n",
       "      <td>64.585262</td>\n",
       "    </tr>\n",
       "    <tr>\n",
       "      <td>vanuatu</td>\n",
       "      <td>1998.833333</td>\n",
       "      <td>65.044334</td>\n",
       "      <td>-15.376706</td>\n",
       "      <td>166.959158</td>\n",
       "    </tr>\n",
       "    <tr>\n",
       "      <td>yemen</td>\n",
       "      <td>1999.000000</td>\n",
       "      <td>51.241751</td>\n",
       "      <td>15.552727</td>\n",
       "      <td>48.516388</td>\n",
       "    </tr>\n",
       "    <tr>\n",
       "      <td>zambia</td>\n",
       "      <td>2004.333333</td>\n",
       "      <td>56.735149</td>\n",
       "      <td>-13.133897</td>\n",
       "      <td>27.849332</td>\n",
       "    </tr>\n",
       "    <tr>\n",
       "      <td>zimbabwe</td>\n",
       "      <td>1999.750000</td>\n",
       "      <td>68.862129</td>\n",
       "      <td>-19.015438</td>\n",
       "      <td>29.154857</td>\n",
       "    </tr>\n",
       "  </tbody>\n",
       "</table>\n",
       "<p>149 rows × 4 columns</p>\n",
       "</div>"
      ],
      "text/plain": [
       "                       TIME      Value   latitude   longitude\n",
       "Country                                                      \n",
       "afghanistan     2002.666667  35.439102  33.939110   67.709953\n",
       "albania         2010.000000  74.590923  41.153332   20.168331\n",
       "algeria         2004.200000  67.323016  28.033886    1.659626\n",
       "american samoa  1980.000000  73.495482 -14.270972 -170.132217\n",
       "angola          2007.500000  56.702264 -11.202692   17.873887\n",
       "...                     ...        ...        ...         ...\n",
       "uzbekistan      2012.666667  75.234261  41.377491   64.585262\n",
       "vanuatu         1998.833333  65.044334 -15.376706  166.959158\n",
       "yemen           1999.000000  51.241751  15.552727   48.516388\n",
       "zambia          2004.333333  56.735149 -13.133897   27.849332\n",
       "zimbabwe        1999.750000  68.862129 -19.015438   29.154857\n",
       "\n",
       "[149 rows x 4 columns]"
      ]
     },
     "execution_count": 24,
     "metadata": {},
     "output_type": "execute_result"
    }
   ],
   "source": [
    "education_final.dtypes\n",
    "e_final=education_final.dropna()\n",
    "group_e_df = e_final.groupby([\"Country\"])\n",
    "education_df=group_e_df.mean()\n",
    "education_df\n",
    "\n",
    "#education_final['Value'].max()"
   ]
  },
  {
   "cell_type": "code",
   "execution_count": 27,
   "metadata": {},
   "outputs": [
    {
     "data": {
      "application/vnd.jupyter.widget-view+json": {
       "model_id": "67471a3abe2b48c29661bcc3e7f6ab9d",
       "version_major": 2,
       "version_minor": 0
      },
      "text/plain": [
       "Figure(layout=FigureLayout(height='420px'))"
      ]
     },
     "metadata": {},
     "output_type": "display_data"
    }
   ],
   "source": [
    "fig = gmaps.figure()\n",
    "fig"
   ]
  },
  {
   "cell_type": "code",
   "execution_count": 28,
   "metadata": {},
   "outputs": [
    {
     "data": {
      "application/vnd.jupyter.widget-view+json": {
       "model_id": "67471a3abe2b48c29661bcc3e7f6ab9d",
       "version_major": 2,
       "version_minor": 0
      },
      "text/plain": [
       "Figure(layout=FigureLayout(height='420px'))"
      ]
     },
     "metadata": {},
     "output_type": "display_data"
    }
   ],
   "source": [
    "locations = childmarriage_df[[\"latitude\", \"longitude\"]].astype(float)\n",
    "\n",
    "value = childmarriage_df[\"Observation Value\"].astype(float)\n",
    "\n",
    "heat_layer = gmaps.heatmap_layer(locations, weights=value, \n",
    "                                 dissipating=False, max_intensity=100,\n",
    "                                 point_radius=4)\n",
    "\n",
    "fig.add_layer(heat_layer)\n",
    "fig"
   ]
  },
  {
   "cell_type": "code",
   "execution_count": 29,
   "metadata": {},
   "outputs": [
    {
     "data": {
      "application/vnd.jupyter.widget-view+json": {
       "model_id": "67471a3abe2b48c29661bcc3e7f6ab9d",
       "version_major": 2,
       "version_minor": 0
      },
      "text/plain": [
       "Figure(layout=FigureLayout(height='420px'))"
      ]
     },
     "metadata": {},
     "output_type": "display_data"
    }
   ],
   "source": [
    "locations = education_df[[\"latitude\", \"longitude\"]].astype(float)\n",
    "\n",
    "value = education_df[\"Value\"].astype(float)\n",
    "\n",
    "heat_layer = gmaps.heatmap_layer(locations, weights=value, \n",
    "                                 dissipating=False, max_intensity=100,\n",
    "                                 point_radius=4,opacity=0)\n",
    "\n",
    "fig.add_layer(heat_layer)\n",
    "fig"
   ]
  },
  {
   "cell_type": "code",
   "execution_count": 14,
   "metadata": {},
   "outputs": [
    {
     "data": {
      "text/plain": [
       "(-1.1187489980859993,\n",
       " 1.1008928094326667,\n",
       " -1.107986685602429,\n",
       " 1.1198953392663173)"
      ]
     },
     "execution_count": 14,
     "metadata": {},
     "output_type": "execute_result"
    },
    {
     "data": {
      "image/png": "[encoded data removed]",
      "text/plain": [
       "<Figure size 432x288 with 1 Axes>"
      ]
     },
     "metadata": {},
     "output_type": "display_data"
    }
   ],
   "source": [
    "# Question 4: Is one gender more susceptible to child marriage than the other? (pie graph)\n",
    "gender_df = childmarriage_final.groupby('Sex')['Sex'].count()\n",
    "gender = [\"Female\", \"Male\"] \n",
    "colors = ['lightcoral', 'lightskyblue']\n",
    "\n",
    "plt.pie(gender_df,labels=gender, autopct=\"%1.1f%%\",colors=colors, shadow=False, startangle=0)\n",
    "plt.title(\"Is one gender more susceptible to child marriage\")\n",
    "plt.axis(\"equal\")\n",
    "\n",
    "#lt.savefig(\"../Images/Gender_childmarriage.png\")\n",
    "#plt.show()"
   ]
  },
  {
   "cell_type": "code",
   "execution_count": 15,
   "metadata": {},
   "outputs": [
    {
     "data": {
      "text/html": [
       "<div>\n",
       "<style scoped>\n",
       "    .dataframe tbody tr th:only-of-type {\n",
       "        vertical-align: middle;\n",
       "    }\n",
       "\n",
       "    .dataframe tbody tr th {\n",
       "        vertical-align: top;\n",
       "    }\n",
       "\n",
       "    .dataframe thead th {\n",
       "        text-align: right;\n",
       "    }\n",
       "</style>\n",
       "<table border=\"1\" class=\"dataframe\">\n",
       "  <thead>\n",
       "    <tr style=\"text-align: right;\">\n",
       "      <th></th>\n",
       "      <th>Country</th>\n",
       "      <th>Indicator</th>\n",
       "      <th>Sex</th>\n",
       "      <th>Time Period</th>\n",
       "      <th>Current Age</th>\n",
       "      <th>Observation Value</th>\n",
       "      <th>Unit of Measure</th>\n",
       "      <th>latitude</th>\n",
       "      <th>longitude</th>\n",
       "      <th>Year Range</th>\n",
       "    </tr>\n",
       "  </thead>\n",
       "  <tbody>\n",
       "    <tr>\n",
       "      <td>0</td>\n",
       "      <td>botswana</td>\n",
       "      <td>Percentage of women (aged 20-24 years) married...</td>\n",
       "      <td>Female</td>\n",
       "      <td>1988</td>\n",
       "      <td>20 to 24 years old</td>\n",
       "      <td>10.0</td>\n",
       "      <td>%</td>\n",
       "      <td>-22.328474</td>\n",
       "      <td>24.684866</td>\n",
       "      <td>NaN</td>\n",
       "    </tr>\n",
       "    <tr>\n",
       "      <td>1</td>\n",
       "      <td>uzbekistan</td>\n",
       "      <td>Percentage of men (aged 20-24 years) married o...</td>\n",
       "      <td>Male</td>\n",
       "      <td>2002</td>\n",
       "      <td>20 to 24 years old</td>\n",
       "      <td>0.5</td>\n",
       "      <td>%</td>\n",
       "      <td>41.377491</td>\n",
       "      <td>64.585262</td>\n",
       "      <td>1998-2003</td>\n",
       "    </tr>\n",
       "    <tr>\n",
       "      <td>2</td>\n",
       "      <td>philippines</td>\n",
       "      <td>Percentage of men (aged 20-24 years) married o...</td>\n",
       "      <td>Male</td>\n",
       "      <td>2003</td>\n",
       "      <td>20 to 24 years old</td>\n",
       "      <td>2.9</td>\n",
       "      <td>%</td>\n",
       "      <td>12.879721</td>\n",
       "      <td>121.774017</td>\n",
       "      <td>1998-2003</td>\n",
       "    </tr>\n",
       "    <tr>\n",
       "      <td>4</td>\n",
       "      <td>south africa</td>\n",
       "      <td>Percentage of women (aged 20-24 years) married...</td>\n",
       "      <td>Female</td>\n",
       "      <td>2003</td>\n",
       "      <td>20 to 24 years old</td>\n",
       "      <td>5.6</td>\n",
       "      <td>%</td>\n",
       "      <td>-30.559482</td>\n",
       "      <td>22.937506</td>\n",
       "      <td>1998-2003</td>\n",
       "    </tr>\n",
       "    <tr>\n",
       "      <td>5</td>\n",
       "      <td>cabo verde</td>\n",
       "      <td>Percentage of men (aged 20-24 years) married o...</td>\n",
       "      <td>Male</td>\n",
       "      <td>2005</td>\n",
       "      <td>20 to 24 years old</td>\n",
       "      <td>3.0</td>\n",
       "      <td>%</td>\n",
       "      <td>NaN</td>\n",
       "      <td>NaN</td>\n",
       "      <td>2003-2008</td>\n",
       "    </tr>\n",
       "    <tr>\n",
       "      <td>...</td>\n",
       "      <td>...</td>\n",
       "      <td>...</td>\n",
       "      <td>...</td>\n",
       "      <td>...</td>\n",
       "      <td>...</td>\n",
       "      <td>...</td>\n",
       "      <td>...</td>\n",
       "      <td>...</td>\n",
       "      <td>...</td>\n",
       "      <td>...</td>\n",
       "    </tr>\n",
       "    <tr>\n",
       "      <td>334</td>\n",
       "      <td>albania</td>\n",
       "      <td>Percentage of men (aged 20-24 years) married o...</td>\n",
       "      <td>Male</td>\n",
       "      <td>2018</td>\n",
       "      <td>20 to 24 years old</td>\n",
       "      <td>1.2</td>\n",
       "      <td>%</td>\n",
       "      <td>41.153332</td>\n",
       "      <td>20.168331</td>\n",
       "      <td>2013-2018</td>\n",
       "    </tr>\n",
       "    <tr>\n",
       "      <td>335</td>\n",
       "      <td>benin</td>\n",
       "      <td>Percentage of men (aged 20-24 years) married o...</td>\n",
       "      <td>Male</td>\n",
       "      <td>2018</td>\n",
       "      <td>20 to 24 years old</td>\n",
       "      <td>4.8</td>\n",
       "      <td>%</td>\n",
       "      <td>9.307690</td>\n",
       "      <td>2.315834</td>\n",
       "      <td>2013-2018</td>\n",
       "    </tr>\n",
       "    <tr>\n",
       "      <td>339</td>\n",
       "      <td>albania</td>\n",
       "      <td>Percentage of women (aged 20-24 years) married...</td>\n",
       "      <td>Female</td>\n",
       "      <td>2018</td>\n",
       "      <td>20 to 24 years old</td>\n",
       "      <td>11.8</td>\n",
       "      <td>%</td>\n",
       "      <td>41.153332</td>\n",
       "      <td>20.168331</td>\n",
       "      <td>2013-2018</td>\n",
       "    </tr>\n",
       "    <tr>\n",
       "      <td>340</td>\n",
       "      <td>indonesia</td>\n",
       "      <td>Percentage of women (aged 20-24 years) married...</td>\n",
       "      <td>Female</td>\n",
       "      <td>2018</td>\n",
       "      <td>20 to 24 years old</td>\n",
       "      <td>11.2</td>\n",
       "      <td>%</td>\n",
       "      <td>-0.789275</td>\n",
       "      <td>113.921327</td>\n",
       "      <td>2013-2018</td>\n",
       "    </tr>\n",
       "    <tr>\n",
       "      <td>341</td>\n",
       "      <td>iraq</td>\n",
       "      <td>Percentage of women (aged 20-24 years) married...</td>\n",
       "      <td>Female</td>\n",
       "      <td>2018</td>\n",
       "      <td>20 to 24 years old</td>\n",
       "      <td>27.9</td>\n",
       "      <td>%</td>\n",
       "      <td>33.223191</td>\n",
       "      <td>43.679291</td>\n",
       "      <td>2013-2018</td>\n",
       "    </tr>\n",
       "  </tbody>\n",
       "</table>\n",
       "<p>216 rows × 10 columns</p>\n",
       "</div>"
      ],
      "text/plain": [
       "          Country                                          Indicator     Sex  \\\n",
       "0        botswana  Percentage of women (aged 20-24 years) married...  Female   \n",
       "1      uzbekistan  Percentage of men (aged 20-24 years) married o...    Male   \n",
       "2     philippines  Percentage of men (aged 20-24 years) married o...    Male   \n",
       "4    south africa  Percentage of women (aged 20-24 years) married...  Female   \n",
       "5      cabo verde  Percentage of men (aged 20-24 years) married o...    Male   \n",
       "..            ...                                                ...     ...   \n",
       "334       albania  Percentage of men (aged 20-24 years) married o...    Male   \n",
       "335         benin  Percentage of men (aged 20-24 years) married o...    Male   \n",
       "339       albania  Percentage of women (aged 20-24 years) married...  Female   \n",
       "340     indonesia  Percentage of women (aged 20-24 years) married...  Female   \n",
       "341          iraq  Percentage of women (aged 20-24 years) married...  Female   \n",
       "\n",
       "     Time Period         Current Age  Observation Value Unit of Measure  \\\n",
       "0           1988  20 to 24 years old               10.0               %   \n",
       "1           2002  20 to 24 years old                0.5               %   \n",
       "2           2003  20 to 24 years old                2.9               %   \n",
       "4           2003  20 to 24 years old                5.6               %   \n",
       "5           2005  20 to 24 years old                3.0               %   \n",
       "..           ...                 ...                ...             ...   \n",
       "334         2018  20 to 24 years old                1.2               %   \n",
       "335         2018  20 to 24 years old                4.8               %   \n",
       "339         2018  20 to 24 years old               11.8               %   \n",
       "340         2018  20 to 24 years old               11.2               %   \n",
       "341         2018  20 to 24 years old               27.9               %   \n",
       "\n",
       "      latitude   longitude Year Range  \n",
       "0   -22.328474   24.684866        NaN  \n",
       "1    41.377491   64.585262  1998-2003  \n",
       "2    12.879721  121.774017  1998-2003  \n",
       "4   -30.559482   22.937506  1998-2003  \n",
       "5          NaN         NaN  2003-2008  \n",
       "..         ...         ...        ...  \n",
       "334  41.153332   20.168331  2013-2018  \n",
       "335   9.307690    2.315834  2013-2018  \n",
       "339  41.153332   20.168331  2013-2018  \n",
       "340  -0.789275  113.921327  2013-2018  \n",
       "341  33.223191   43.679291  2013-2018  \n",
       "\n",
       "[216 rows x 10 columns]"
      ]
     },
     "execution_count": 15,
     "metadata": {},
     "output_type": "execute_result"
    }
   ],
   "source": [
    "gender1_df = childmarriage_final.loc[(childmarriage_final['Indicator']=='Percentage of women (aged 20-24 years) married or in union before age 18')|(childmarriage_final['Indicator']=='Percentage of men (aged 20-24 years) married or in union before age 18')]\n",
    "gender1_df"
   ]
  },
  {
   "cell_type": "code",
   "execution_count": 16,
   "metadata": {},
   "outputs": [
    {
     "data": {
      "text/plain": [
       "(-1.1104015257670696,\n",
       " 1.10049535343878,\n",
       " -1.1230708828196667,\n",
       " 1.1130014718327983)"
      ]
     },
     "execution_count": 16,
     "metadata": {},
     "output_type": "execute_result"
    },
    {
     "data": {
      "image/png": "[encoded data removed]",
      "text/plain": [
       "<Figure size 432x288 with 1 Axes>"
      ]
     },
     "metadata": {},
     "output_type": "display_data"
    }
   ],
   "source": [
    "gender1_df = gender1_df.groupby('Sex')['Sex'].count()\n",
    "gender = [\"Female\", \"Male\"] \n",
    "colors = ['lightcoral', 'lightskyblue']\n",
    "\n",
    "plt.pie(gender1_df,labels=gender, autopct=\"%1.1f%%\",colors=colors, shadow=False, startangle=0)\n",
    "plt.title(\"Is one gender more susceptible to child marriage\")\n",
    "plt.axis(\"equal\")\n",
    "\n",
    "#lt.savefig(\"../Images/Gender_childmarriage.png\")\n",
    "#plt.show()"
   ]
  },
  {
   "cell_type": "code",
   "execution_count": null,
   "metadata": {},
   "outputs": [],
   "source": [
    "# Conclusion: our null hypothesis is that education has no impact on child marriage rates."
   ]
  },
  {
   "cell_type": "code",
   "execution_count": null,
   "metadata": {},
   "outputs": [],
   "source": []
  },
  {
   "cell_type": "code",
   "execution_count": null,
   "metadata": {},
   "outputs": [],
   "source": []
  }
 ],
 "metadata": {
  "anaconda-cloud": {},
  "kernelspec": {
   "display_name": "Python 3",
   "language": "python",
   "name": "python3"
  },
  "language_info": {
   "codemirror_mode": {
    "name": "ipython",
    "version": 3
   },
   "file_extension": ".py",
   "mimetype": "text/x-python",
   "name": "python",
   "nbconvert_exporter": "python",
   "pygments_lexer": "ipython3",
   "version": "3.7.4"
  }
 },
 "nbformat": 4,
 "nbformat_minor": 2
}
