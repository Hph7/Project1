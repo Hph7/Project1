{
 "cells": [
  {
   "cell_type": "code",
   "execution_count": 2,
   "metadata": {},
   "outputs": [],
   "source": [
    "# Dependencies\n",
    "%matplotlib inline\n",
    "import matplotlib.pyplot as plt\n",
    "import pandas as pd\n",
    "import numpy as np\n",
    "import requests\n",
    "import gmaps\n",
    "import os\n",
    "import json\n",
    "\n",
    "\n",
    "# Import API key\n",
    "from api_keys import g_key\n",
    "gmaps.configure(api_key=g_key)\n",
    "\n",
    "\n",
    "# import csv data files\n",
    "education_file = \"Resources/education.csv\"\n",
    "childmarriage_file = \"Resources/childmarriage.csv\"\n",
    "\n",
    "\n",
    "# create dataframes for each\n",
    "education_file_df = pd.read_csv(education_file, encoding=\"ISO-8859-1\")\n",
    "childmarriage_file_df = pd.read_csv(childmarriage_file, encoding=\"ISO-8859-1\")\n",
    "countries_df = pd.read_html('https://developers.google.com/public-data/docs/canonical/countries_csv')\n",
    "\n",
    "#education_file_df.head()\n",
    "#childmarriage_file_df.head()\n",
    "#countries_df[0]"
   ]
  },
  {
   "cell_type": "code",
   "execution_count": 1,
   "metadata": {},
   "outputs": [],
   "source": [
    "import warnings\n",
    "warnings.filterwarnings('ignore')"
   ]
  },
  {
   "cell_type": "code",
   "execution_count": 78,
   "metadata": {},
   "outputs": [
    {
     "data": {
      "text/plain": [
       "(8297, 4)"
      ]
     },
     "execution_count": 78,
     "metadata": {},
     "output_type": "execute_result"
    }
   ],
   "source": [
    "filtered_education = education_file_df.filter([\"Indicator\"== \"Youth literacy rate, population 15-24 years, both sexes (%)\",\n",
    "                                              \"LOCATION\", \"Country\",\"TIME\", \"Value\"])\n",
    "filtered_education.head()\n",
    "#filtered_education.shape"
   ]
  },
  {
   "cell_type": "code",
   "execution_count": 83,
   "metadata": {},
   "outputs": [
    {
     "data": {
      "text/html": [
       "<div>\n",
       "<style scoped>\n",
       "    .dataframe tbody tr th:only-of-type {\n",
       "        vertical-align: middle;\n",
       "    }\n",
       "\n",
       "    .dataframe tbody tr th {\n",
       "        vertical-align: top;\n",
       "    }\n",
       "\n",
       "    .dataframe thead th {\n",
       "        text-align: right;\n",
       "    }\n",
       "</style>\n",
       "<table border=\"1\" class=\"dataframe\">\n",
       "  <thead>\n",
       "    <tr style=\"text-align: right;\">\n",
       "      <th></th>\n",
       "      <th>Country</th>\n",
       "      <th>Indicator</th>\n",
       "      <th>Sex</th>\n",
       "      <th>Time Period</th>\n",
       "      <th>Current Age</th>\n",
       "      <th>Observation Value</th>\n",
       "      <th>Unit of Measure</th>\n",
       "      <th>The period of time for which data are provided</th>\n",
       "    </tr>\n",
       "  </thead>\n",
       "  <tbody>\n",
       "    <tr>\n",
       "      <td>0</td>\n",
       "      <td>Botswana</td>\n",
       "      <td>Percentage of women (aged 20-24 years) married...</td>\n",
       "      <td>Female</td>\n",
       "      <td>1988</td>\n",
       "      <td>20 to 24 years old</td>\n",
       "      <td>10.0</td>\n",
       "      <td>%</td>\n",
       "      <td>1988</td>\n",
       "    </tr>\n",
       "    <tr>\n",
       "      <td>1</td>\n",
       "      <td>Uzbekistan</td>\n",
       "      <td>Percentage of men (aged 20-24 years) married o...</td>\n",
       "      <td>Male</td>\n",
       "      <td>2002</td>\n",
       "      <td>20 to 24 years old</td>\n",
       "      <td>0.5</td>\n",
       "      <td>%</td>\n",
       "      <td>2002</td>\n",
       "    </tr>\n",
       "    <tr>\n",
       "      <td>2</td>\n",
       "      <td>Philippines</td>\n",
       "      <td>Percentage of men (aged 20-24 years) married o...</td>\n",
       "      <td>Male</td>\n",
       "      <td>2003</td>\n",
       "      <td>20 to 24 years old</td>\n",
       "      <td>2.9</td>\n",
       "      <td>%</td>\n",
       "      <td>2003</td>\n",
       "    </tr>\n",
       "    <tr>\n",
       "      <td>3</td>\n",
       "      <td>South Africa</td>\n",
       "      <td>Percentage of women (aged 20-24 years) married...</td>\n",
       "      <td>Female</td>\n",
       "      <td>2003</td>\n",
       "      <td>20 to 24 years old</td>\n",
       "      <td>0.8</td>\n",
       "      <td>%</td>\n",
       "      <td>2003</td>\n",
       "    </tr>\n",
       "    <tr>\n",
       "      <td>4</td>\n",
       "      <td>South Africa</td>\n",
       "      <td>Percentage of women (aged 20-24 years) married...</td>\n",
       "      <td>Female</td>\n",
       "      <td>2003</td>\n",
       "      <td>20 to 24 years old</td>\n",
       "      <td>5.6</td>\n",
       "      <td>%</td>\n",
       "      <td>2003</td>\n",
       "    </tr>\n",
       "  </tbody>\n",
       "</table>\n",
       "</div>"
      ],
      "text/plain": [
       "        Country                                          Indicator     Sex  \\\n",
       "0      Botswana  Percentage of women (aged 20-24 years) married...  Female   \n",
       "1    Uzbekistan  Percentage of men (aged 20-24 years) married o...    Male   \n",
       "2   Philippines  Percentage of men (aged 20-24 years) married o...    Male   \n",
       "3  South Africa  Percentage of women (aged 20-24 years) married...  Female   \n",
       "4  South Africa  Percentage of women (aged 20-24 years) married...  Female   \n",
       "\n",
       "   Time Period         Current Age  Observation Value Unit of Measure  \\\n",
       "0         1988  20 to 24 years old               10.0               %   \n",
       "1         2002  20 to 24 years old                0.5               %   \n",
       "2         2003  20 to 24 years old                2.9               %   \n",
       "3         2003  20 to 24 years old                0.8               %   \n",
       "4         2003  20 to 24 years old                5.6               %   \n",
       "\n",
       "  The period of time for which data are provided  \n",
       "0                                           1988  \n",
       "1                                           2002  \n",
       "2                                           2003  \n",
       "3                                           2003  \n",
       "4                                           2003  "
      ]
     },
     "execution_count": 83,
     "metadata": {},
     "output_type": "execute_result"
    }
   ],
   "source": [
    "childmarriage_file_df.head()\n",
    "clean_childmarriage=childmarriage_file_df[['Geographic Area','Indicator','Sex','Time Period','Current Age',\n",
    "                           'Observation Value','Unit of Measure','The period of time for which data are provided']]\n",
    "clean_childmarriage = clean_childmarriage.rename(columns={\"Geographic Area\":\"Country\"})\n",
    "clean_childmarriage.head()\n",
    "#clean_childmarriage.shape\n"
   ]
  },
  {
   "cell_type": "code",
   "execution_count": 84,
   "metadata": {},
   "outputs": [
    {
     "data": {
      "text/html": [
       "<div>\n",
       "<style scoped>\n",
       "    .dataframe tbody tr th:only-of-type {\n",
       "        vertical-align: middle;\n",
       "    }\n",
       "\n",
       "    .dataframe tbody tr th {\n",
       "        vertical-align: top;\n",
       "    }\n",
       "\n",
       "    .dataframe thead th {\n",
       "        text-align: right;\n",
       "    }\n",
       "</style>\n",
       "<table border=\"1\" class=\"dataframe\">\n",
       "  <thead>\n",
       "    <tr style=\"text-align: right;\">\n",
       "      <th></th>\n",
       "      <th>Abbr</th>\n",
       "      <th>latitude</th>\n",
       "      <th>longitude</th>\n",
       "      <th>Country</th>\n",
       "    </tr>\n",
       "  </thead>\n",
       "  <tbody>\n",
       "    <tr>\n",
       "      <td>0</td>\n",
       "      <td>AD</td>\n",
       "      <td>42.546245</td>\n",
       "      <td>1.601554</td>\n",
       "      <td>Andorra</td>\n",
       "    </tr>\n",
       "    <tr>\n",
       "      <td>1</td>\n",
       "      <td>AE</td>\n",
       "      <td>23.424076</td>\n",
       "      <td>53.847818</td>\n",
       "      <td>United Arab Emirates</td>\n",
       "    </tr>\n",
       "    <tr>\n",
       "      <td>2</td>\n",
       "      <td>AF</td>\n",
       "      <td>33.939110</td>\n",
       "      <td>67.709953</td>\n",
       "      <td>Afghanistan</td>\n",
       "    </tr>\n",
       "    <tr>\n",
       "      <td>3</td>\n",
       "      <td>AG</td>\n",
       "      <td>17.060816</td>\n",
       "      <td>-61.796428</td>\n",
       "      <td>Antigua and Barbuda</td>\n",
       "    </tr>\n",
       "    <tr>\n",
       "      <td>4</td>\n",
       "      <td>AI</td>\n",
       "      <td>18.220554</td>\n",
       "      <td>-63.068615</td>\n",
       "      <td>Anguilla</td>\n",
       "    </tr>\n",
       "    <tr>\n",
       "      <td>5</td>\n",
       "      <td>AL</td>\n",
       "      <td>41.153332</td>\n",
       "      <td>20.168331</td>\n",
       "      <td>Albania</td>\n",
       "    </tr>\n",
       "    <tr>\n",
       "      <td>6</td>\n",
       "      <td>AM</td>\n",
       "      <td>40.069099</td>\n",
       "      <td>45.038189</td>\n",
       "      <td>Armenia</td>\n",
       "    </tr>\n",
       "    <tr>\n",
       "      <td>7</td>\n",
       "      <td>AN</td>\n",
       "      <td>12.226079</td>\n",
       "      <td>-69.060087</td>\n",
       "      <td>Netherlands Antilles</td>\n",
       "    </tr>\n",
       "    <tr>\n",
       "      <td>8</td>\n",
       "      <td>AO</td>\n",
       "      <td>-11.202692</td>\n",
       "      <td>17.873887</td>\n",
       "      <td>Angola</td>\n",
       "    </tr>\n",
       "    <tr>\n",
       "      <td>9</td>\n",
       "      <td>AQ</td>\n",
       "      <td>-75.250973</td>\n",
       "      <td>-0.071389</td>\n",
       "      <td>Antarctica</td>\n",
       "    </tr>\n",
       "  </tbody>\n",
       "</table>\n",
       "</div>"
      ],
      "text/plain": [
       "  Abbr   latitude  longitude               Country\n",
       "0   AD  42.546245   1.601554               Andorra\n",
       "1   AE  23.424076  53.847818  United Arab Emirates\n",
       "2   AF  33.939110  67.709953           Afghanistan\n",
       "3   AG  17.060816 -61.796428   Antigua and Barbuda\n",
       "4   AI  18.220554 -63.068615              Anguilla\n",
       "5   AL  41.153332  20.168331               Albania\n",
       "6   AM  40.069099  45.038189               Armenia\n",
       "7   AN  12.226079 -69.060087  Netherlands Antilles\n",
       "8   AO -11.202692  17.873887                Angola\n",
       "9   AQ -75.250973  -0.071389            Antarctica"
      ]
     },
     "execution_count": 84,
     "metadata": {},
     "output_type": "execute_result"
    }
   ],
   "source": [
    "countries_df[0]\n",
    "clean_countries = countries_df[0].rename(columns={\"name\":\"Country\",\"country\":\"Abbr\"})\n",
    "clean_countries.head(10)\n",
    "#clean_countries.shape"
   ]
  },
  {
   "cell_type": "code",
   "execution_count": 7,
   "metadata": {},
   "outputs": [],
   "source": [
    "# make country lowercase\n",
    "clean_childmarriage[\"Country\"] = clean_childmarriage[\"Country\"].map(lambda x: x.lower())\n",
    "clean_countries[\"Country\"] = clean_countries[\"Country\"].map(lambda x: x.lower())\n",
    "filtered_education[\"Country\"] = filtered_education[\"Country\"].map(lambda z: z.lower())"
   ]
  },
  {
   "cell_type": "code",
   "execution_count": 13,
   "metadata": {},
   "outputs": [
    {
     "data": {
      "text/html": [
       "<div>\n",
       "<style scoped>\n",
       "    .dataframe tbody tr th:only-of-type {\n",
       "        vertical-align: middle;\n",
       "    }\n",
       "\n",
       "    .dataframe tbody tr th {\n",
       "        vertical-align: top;\n",
       "    }\n",
       "\n",
       "    .dataframe thead th {\n",
       "        text-align: right;\n",
       "    }\n",
       "</style>\n",
       "<table border=\"1\" class=\"dataframe\">\n",
       "  <thead>\n",
       "    <tr style=\"text-align: right;\">\n",
       "      <th></th>\n",
       "      <th>Country</th>\n",
       "      <th>Indicator</th>\n",
       "      <th>Sex</th>\n",
       "      <th>Time Period</th>\n",
       "      <th>Current Age</th>\n",
       "      <th>Observation Value</th>\n",
       "      <th>Unit of Measure</th>\n",
       "      <th>latitude</th>\n",
       "      <th>longitude</th>\n",
       "    </tr>\n",
       "  </thead>\n",
       "  <tbody>\n",
       "    <tr>\n",
       "      <td>0</td>\n",
       "      <td>botswana</td>\n",
       "      <td>Percentage of women (aged 20-24 years) married...</td>\n",
       "      <td>Female</td>\n",
       "      <td>1988</td>\n",
       "      <td>20 to 24 years old</td>\n",
       "      <td>10.0</td>\n",
       "      <td>%</td>\n",
       "      <td>-22.328474</td>\n",
       "      <td>24.684866</td>\n",
       "    </tr>\n",
       "    <tr>\n",
       "      <td>1</td>\n",
       "      <td>uzbekistan</td>\n",
       "      <td>Percentage of men (aged 20-24 years) married o...</td>\n",
       "      <td>Male</td>\n",
       "      <td>2002</td>\n",
       "      <td>20 to 24 years old</td>\n",
       "      <td>0.5</td>\n",
       "      <td>%</td>\n",
       "      <td>41.377491</td>\n",
       "      <td>64.585262</td>\n",
       "    </tr>\n",
       "    <tr>\n",
       "      <td>2</td>\n",
       "      <td>philippines</td>\n",
       "      <td>Percentage of men (aged 20-24 years) married o...</td>\n",
       "      <td>Male</td>\n",
       "      <td>2003</td>\n",
       "      <td>20 to 24 years old</td>\n",
       "      <td>2.9</td>\n",
       "      <td>%</td>\n",
       "      <td>12.879721</td>\n",
       "      <td>121.774017</td>\n",
       "    </tr>\n",
       "    <tr>\n",
       "      <td>3</td>\n",
       "      <td>south africa</td>\n",
       "      <td>Percentage of women (aged 20-24 years) married...</td>\n",
       "      <td>Female</td>\n",
       "      <td>2003</td>\n",
       "      <td>20 to 24 years old</td>\n",
       "      <td>0.8</td>\n",
       "      <td>%</td>\n",
       "      <td>-30.559482</td>\n",
       "      <td>22.937506</td>\n",
       "    </tr>\n",
       "    <tr>\n",
       "      <td>4</td>\n",
       "      <td>south africa</td>\n",
       "      <td>Percentage of women (aged 20-24 years) married...</td>\n",
       "      <td>Female</td>\n",
       "      <td>2003</td>\n",
       "      <td>20 to 24 years old</td>\n",
       "      <td>5.6</td>\n",
       "      <td>%</td>\n",
       "      <td>-30.559482</td>\n",
       "      <td>22.937506</td>\n",
       "    </tr>\n",
       "  </tbody>\n",
       "</table>\n",
       "</div>"
      ],
      "text/plain": [
       "        Country                                          Indicator     Sex  \\\n",
       "0      botswana  Percentage of women (aged 20-24 years) married...  Female   \n",
       "1    uzbekistan  Percentage of men (aged 20-24 years) married o...    Male   \n",
       "2   philippines  Percentage of men (aged 20-24 years) married o...    Male   \n",
       "3  south africa  Percentage of women (aged 20-24 years) married...  Female   \n",
       "4  south africa  Percentage of women (aged 20-24 years) married...  Female   \n",
       "\n",
       "   Time Period         Current Age  Observation Value Unit of Measure  \\\n",
       "0         1988  20 to 24 years old               10.0               %   \n",
       "1         2002  20 to 24 years old                0.5               %   \n",
       "2         2003  20 to 24 years old                2.9               %   \n",
       "3         2003  20 to 24 years old                0.8               %   \n",
       "4         2003  20 to 24 years old                5.6               %   \n",
       "\n",
       "    latitude   longitude  \n",
       "0 -22.328474   24.684866  \n",
       "1  41.377491   64.585262  \n",
       "2  12.879721  121.774017  \n",
       "3 -30.559482   22.937506  \n",
       "4 -30.559482   22.937506  "
      ]
     },
     "execution_count": 13,
     "metadata": {},
     "output_type": "execute_result"
    }
   ],
   "source": [
    "childmarriage_final = pd.merge(clean_childmarriage, clean_countries, how=\"left\", on=\"Country\")\n",
    "childmarriage_final = childmarriage_final.drop(columns=[\"The period of time for which data are provided\",\"Abbr\"])\n",
    "\n",
    "childmarriage_final.head()\n",
    "#childmarriage_final.shape"
   ]
  },
  {
   "cell_type": "code",
   "execution_count": 14,
   "metadata": {},
   "outputs": [
    {
     "data": {
      "text/html": [
       "<div>\n",
       "<style scoped>\n",
       "    .dataframe tbody tr th:only-of-type {\n",
       "        vertical-align: middle;\n",
       "    }\n",
       "\n",
       "    .dataframe tbody tr th {\n",
       "        vertical-align: top;\n",
       "    }\n",
       "\n",
       "    .dataframe thead th {\n",
       "        text-align: right;\n",
       "    }\n",
       "</style>\n",
       "<table border=\"1\" class=\"dataframe\">\n",
       "  <thead>\n",
       "    <tr style=\"text-align: right;\">\n",
       "      <th></th>\n",
       "      <th>Country</th>\n",
       "      <th>TIME</th>\n",
       "      <th>Value</th>\n",
       "      <th>latitude</th>\n",
       "      <th>longitude</th>\n",
       "    </tr>\n",
       "  </thead>\n",
       "  <tbody>\n",
       "    <tr>\n",
       "      <td>0</td>\n",
       "      <td>morocco</td>\n",
       "      <td>1982</td>\n",
       "      <td>0.53256</td>\n",
       "      <td>31.791702</td>\n",
       "      <td>-7.09262</td>\n",
       "    </tr>\n",
       "    <tr>\n",
       "      <td>1</td>\n",
       "      <td>morocco</td>\n",
       "      <td>1994</td>\n",
       "      <td>0.64434</td>\n",
       "      <td>31.791702</td>\n",
       "      <td>-7.09262</td>\n",
       "    </tr>\n",
       "    <tr>\n",
       "      <td>2</td>\n",
       "      <td>morocco</td>\n",
       "      <td>2004</td>\n",
       "      <td>0.74865</td>\n",
       "      <td>31.791702</td>\n",
       "      <td>-7.09262</td>\n",
       "    </tr>\n",
       "    <tr>\n",
       "      <td>3</td>\n",
       "      <td>morocco</td>\n",
       "      <td>2008</td>\n",
       "      <td>0.81461</td>\n",
       "      <td>31.791702</td>\n",
       "      <td>-7.09262</td>\n",
       "    </tr>\n",
       "    <tr>\n",
       "      <td>4</td>\n",
       "      <td>morocco</td>\n",
       "      <td>2009</td>\n",
       "      <td>0.83185</td>\n",
       "      <td>31.791702</td>\n",
       "      <td>-7.09262</td>\n",
       "    </tr>\n",
       "  </tbody>\n",
       "</table>\n",
       "</div>"
      ],
      "text/plain": [
       "   Country  TIME    Value   latitude  longitude\n",
       "0  morocco  1982  0.53256  31.791702   -7.09262\n",
       "1  morocco  1994  0.64434  31.791702   -7.09262\n",
       "2  morocco  2004  0.74865  31.791702   -7.09262\n",
       "3  morocco  2008  0.81461  31.791702   -7.09262\n",
       "4  morocco  2009  0.83185  31.791702   -7.09262"
      ]
     },
     "execution_count": 14,
     "metadata": {},
     "output_type": "execute_result"
    }
   ],
   "source": [
    "education_final = pd.merge(filtered_education, clean_countries, how=\"left\", on=\"Country\")\n",
    "education_final = education_final.drop(columns=[\"LOCATION\",\"Abbr\"])\n",
    "education_final.head()\n",
    "#education_final.shape"
   ]
  },
  {
   "cell_type": "code",
   "execution_count": 10,
   "metadata": {},
   "outputs": [],
   "source": [
    "# Question 1: Is rate of child marriage decreasing with each year? (line graph and histogram)"
   ]
  },
  {
   "cell_type": "code",
   "execution_count": null,
   "metadata": {},
   "outputs": [],
   "source": [
    "# Question 2: What is the correlation of literacy rate and child marriage? (scatter plot with regression line and boxplot) "
   ]
  },
  {
   "cell_type": "code",
   "execution_count": null,
   "metadata": {},
   "outputs": [],
   "source": [
    "# Question 3: What is the geographical impact on child marriage and education? (heat map one for education \n",
    "#                                                                               and one for child marriage)"
   ]
  },
  {
   "cell_type": "code",
   "execution_count": null,
   "metadata": {},
   "outputs": [],
   "source": [
    "# Question 4: Is one gender more susceptible to child marriage than the other? (pie graph)"
   ]
  },
  {
   "cell_type": "code",
   "execution_count": null,
   "metadata": {},
   "outputs": [],
   "source": [
    "# Conclusion: our null hypothesis is that education has no impact on child marriage rates."
   ]
  },
  {
   "cell_type": "code",
   "execution_count": 88,
   "metadata": {
    "scrolled": true
   },
   "outputs": [
    {
     "data": {
      "text/html": [
       "<div>\n",
       "<style scoped>\n",
       "    .dataframe tbody tr th:only-of-type {\n",
       "        vertical-align: middle;\n",
       "    }\n",
       "\n",
       "    .dataframe tbody tr th {\n",
       "        vertical-align: top;\n",
       "    }\n",
       "\n",
       "    .dataframe thead th {\n",
       "        text-align: right;\n",
       "    }\n",
       "</style>\n",
       "<table border=\"1\" class=\"dataframe\">\n",
       "  <thead>\n",
       "    <tr style=\"text-align: right;\">\n",
       "      <th></th>\n",
       "      <th>Time Period</th>\n",
       "      <th>Observation Value</th>\n",
       "      <th>latitude</th>\n",
       "      <th>longitude</th>\n",
       "    </tr>\n",
       "    <tr>\n",
       "      <th>Country</th>\n",
       "      <th></th>\n",
       "      <th></th>\n",
       "      <th></th>\n",
       "      <th></th>\n",
       "    </tr>\n",
       "  </thead>\n",
       "  <tbody>\n",
       "    <tr>\n",
       "      <td>afghanistan</td>\n",
       "      <td>2015.000000</td>\n",
       "      <td>16.966667</td>\n",
       "      <td>33.939110</td>\n",
       "      <td>67.709953</td>\n",
       "    </tr>\n",
       "    <tr>\n",
       "      <td>albania</td>\n",
       "      <td>2018.000000</td>\n",
       "      <td>4.800000</td>\n",
       "      <td>41.153332</td>\n",
       "      <td>20.168331</td>\n",
       "    </tr>\n",
       "    <tr>\n",
       "      <td>algeria</td>\n",
       "      <td>2013.000000</td>\n",
       "      <td>1.450000</td>\n",
       "      <td>28.033886</td>\n",
       "      <td>1.659626</td>\n",
       "    </tr>\n",
       "    <tr>\n",
       "      <td>angola</td>\n",
       "      <td>2016.000000</td>\n",
       "      <td>14.733333</td>\n",
       "      <td>-11.202692</td>\n",
       "      <td>17.873887</td>\n",
       "    </tr>\n",
       "    <tr>\n",
       "      <td>armenia</td>\n",
       "      <td>2016.000000</td>\n",
       "      <td>1.900000</td>\n",
       "      <td>40.069099</td>\n",
       "      <td>45.038189</td>\n",
       "    </tr>\n",
       "    <tr>\n",
       "      <td>...</td>\n",
       "      <td>...</td>\n",
       "      <td>...</td>\n",
       "      <td>...</td>\n",
       "      <td>...</td>\n",
       "    </tr>\n",
       "    <tr>\n",
       "      <td>uzbekistan</td>\n",
       "      <td>2004.666667</td>\n",
       "      <td>2.666667</td>\n",
       "      <td>41.377491</td>\n",
       "      <td>64.585262</td>\n",
       "    </tr>\n",
       "    <tr>\n",
       "      <td>vanuatu</td>\n",
       "      <td>2013.000000</td>\n",
       "      <td>9.500000</td>\n",
       "      <td>-15.376706</td>\n",
       "      <td>166.959158</td>\n",
       "    </tr>\n",
       "    <tr>\n",
       "      <td>yemen</td>\n",
       "      <td>2013.000000</td>\n",
       "      <td>20.650000</td>\n",
       "      <td>15.552727</td>\n",
       "      <td>48.516388</td>\n",
       "    </tr>\n",
       "    <tr>\n",
       "      <td>zambia</td>\n",
       "      <td>2014.000000</td>\n",
       "      <td>13.166667</td>\n",
       "      <td>-13.133897</td>\n",
       "      <td>27.849332</td>\n",
       "    </tr>\n",
       "    <tr>\n",
       "      <td>zimbabwe</td>\n",
       "      <td>2015.000000</td>\n",
       "      <td>12.433333</td>\n",
       "      <td>-19.015438</td>\n",
       "      <td>29.154857</td>\n",
       "    </tr>\n",
       "  </tbody>\n",
       "</table>\n",
       "<p>110 rows × 4 columns</p>\n",
       "</div>"
      ],
      "text/plain": [
       "             Time Period  Observation Value   latitude   longitude\n",
       "Country                                                           \n",
       "afghanistan  2015.000000          16.966667  33.939110   67.709953\n",
       "albania      2018.000000           4.800000  41.153332   20.168331\n",
       "algeria      2013.000000           1.450000  28.033886    1.659626\n",
       "angola       2016.000000          14.733333 -11.202692   17.873887\n",
       "armenia      2016.000000           1.900000  40.069099   45.038189\n",
       "...                  ...                ...        ...         ...\n",
       "uzbekistan   2004.666667           2.666667  41.377491   64.585262\n",
       "vanuatu      2013.000000           9.500000 -15.376706  166.959158\n",
       "yemen        2013.000000          20.650000  15.552727   48.516388\n",
       "zambia       2014.000000          13.166667 -13.133897   27.849332\n",
       "zimbabwe     2015.000000          12.433333 -19.015438   29.154857\n",
       "\n",
       "[110 rows x 4 columns]"
      ]
     },
     "execution_count": 88,
     "metadata": {},
     "output_type": "execute_result"
    }
   ],
   "source": [
    "c_final=childmarriage_final.dropna()\n",
    "group_cm_df = c_final.groupby([\"Country\"])\n",
    "childmarriage_df=group_cm_df.mean()\n",
    "childmarriage_df['Time Period'].map(\"${:.1f}\".format)\n",
    "childmarriage_df\n",
    "#childmarriage_final.dtypes\n",
    "\n",
    "#childmarriage_final['Observation Value'].max()"
   ]
  },
  {
   "cell_type": "code",
   "execution_count": 72,
   "metadata": {},
   "outputs": [
    {
     "data": {
      "text/html": [
       "<div>\n",
       "<style scoped>\n",
       "    .dataframe tbody tr th:only-of-type {\n",
       "        vertical-align: middle;\n",
       "    }\n",
       "\n",
       "    .dataframe tbody tr th {\n",
       "        vertical-align: top;\n",
       "    }\n",
       "\n",
       "    .dataframe thead th {\n",
       "        text-align: right;\n",
       "    }\n",
       "</style>\n",
       "<table border=\"1\" class=\"dataframe\">\n",
       "  <thead>\n",
       "    <tr style=\"text-align: right;\">\n",
       "      <th></th>\n",
       "      <th>TIME</th>\n",
       "      <th>Value</th>\n",
       "      <th>latitude</th>\n",
       "      <th>longitude</th>\n",
       "    </tr>\n",
       "    <tr>\n",
       "      <th>Country</th>\n",
       "      <th></th>\n",
       "      <th></th>\n",
       "      <th></th>\n",
       "      <th></th>\n",
       "    </tr>\n",
       "  </thead>\n",
       "  <tbody>\n",
       "    <tr>\n",
       "      <td>afghanistan</td>\n",
       "      <td>2002.666667</td>\n",
       "      <td>35.439102</td>\n",
       "      <td>33.939110</td>\n",
       "      <td>67.709953</td>\n",
       "    </tr>\n",
       "    <tr>\n",
       "      <td>albania</td>\n",
       "      <td>2010.000000</td>\n",
       "      <td>74.590923</td>\n",
       "      <td>41.153332</td>\n",
       "      <td>20.168331</td>\n",
       "    </tr>\n",
       "    <tr>\n",
       "      <td>algeria</td>\n",
       "      <td>2004.200000</td>\n",
       "      <td>67.323016</td>\n",
       "      <td>28.033886</td>\n",
       "      <td>1.659626</td>\n",
       "    </tr>\n",
       "    <tr>\n",
       "      <td>american samoa</td>\n",
       "      <td>1980.000000</td>\n",
       "      <td>73.495482</td>\n",
       "      <td>-14.270972</td>\n",
       "      <td>-170.132217</td>\n",
       "    </tr>\n",
       "    <tr>\n",
       "      <td>angola</td>\n",
       "      <td>2007.500000</td>\n",
       "      <td>56.702264</td>\n",
       "      <td>-11.202692</td>\n",
       "      <td>17.873887</td>\n",
       "    </tr>\n",
       "    <tr>\n",
       "      <td>...</td>\n",
       "      <td>...</td>\n",
       "      <td>...</td>\n",
       "      <td>...</td>\n",
       "      <td>...</td>\n",
       "    </tr>\n",
       "    <tr>\n",
       "      <td>uzbekistan</td>\n",
       "      <td>2012.666667</td>\n",
       "      <td>75.234261</td>\n",
       "      <td>41.377491</td>\n",
       "      <td>64.585262</td>\n",
       "    </tr>\n",
       "    <tr>\n",
       "      <td>vanuatu</td>\n",
       "      <td>1998.833333</td>\n",
       "      <td>65.044334</td>\n",
       "      <td>-15.376706</td>\n",
       "      <td>166.959158</td>\n",
       "    </tr>\n",
       "    <tr>\n",
       "      <td>yemen</td>\n",
       "      <td>1999.000000</td>\n",
       "      <td>51.241751</td>\n",
       "      <td>15.552727</td>\n",
       "      <td>48.516388</td>\n",
       "    </tr>\n",
       "    <tr>\n",
       "      <td>zambia</td>\n",
       "      <td>2004.333333</td>\n",
       "      <td>56.735149</td>\n",
       "      <td>-13.133897</td>\n",
       "      <td>27.849332</td>\n",
       "    </tr>\n",
       "    <tr>\n",
       "      <td>zimbabwe</td>\n",
       "      <td>1999.750000</td>\n",
       "      <td>68.862129</td>\n",
       "      <td>-19.015438</td>\n",
       "      <td>29.154857</td>\n",
       "    </tr>\n",
       "  </tbody>\n",
       "</table>\n",
       "<p>149 rows × 4 columns</p>\n",
       "</div>"
      ],
      "text/plain": [
       "                       TIME      Value   latitude   longitude\n",
       "Country                                                      \n",
       "afghanistan     2002.666667  35.439102  33.939110   67.709953\n",
       "albania         2010.000000  74.590923  41.153332   20.168331\n",
       "algeria         2004.200000  67.323016  28.033886    1.659626\n",
       "american samoa  1980.000000  73.495482 -14.270972 -170.132217\n",
       "angola          2007.500000  56.702264 -11.202692   17.873887\n",
       "...                     ...        ...        ...         ...\n",
       "uzbekistan      2012.666667  75.234261  41.377491   64.585262\n",
       "vanuatu         1998.833333  65.044334 -15.376706  166.959158\n",
       "yemen           1999.000000  51.241751  15.552727   48.516388\n",
       "zambia          2004.333333  56.735149 -13.133897   27.849332\n",
       "zimbabwe        1999.750000  68.862129 -19.015438   29.154857\n",
       "\n",
       "[149 rows x 4 columns]"
      ]
     },
     "execution_count": 72,
     "metadata": {},
     "output_type": "execute_result"
    }
   ],
   "source": [
    "education_final.dtypes\n",
    "e_final=education_final.dropna()\n",
    "group_e_df = e_final.groupby([\"Country\"])\n",
    "education_df=group_e_df.mean()\n",
    "education_df\n",
    "\n",
    "#education_final['Value'].max()"
   ]
  },
  {
   "cell_type": "code",
   "execution_count": 18,
   "metadata": {},
   "outputs": [
    {
     "data": {
      "application/vnd.jupyter.widget-view+json": {
       "model_id": "016a0258be8146ef9e2548f926980a06",
       "version_major": 2,
       "version_minor": 0
      },
      "text/plain": [
       "Figure(layout=FigureLayout(height='420px'))"
      ]
     },
     "metadata": {},
     "output_type": "display_data"
    }
   ],
   "source": [
    "fig = gmaps.figure()\n",
    "fig"
   ]
  },
  {
   "cell_type": "code",
   "execution_count": 94,
   "metadata": {},
   "outputs": [
    {
     "data": {
      "application/vnd.jupyter.widget-view+json": {
       "model_id": "016a0258be8146ef9e2548f926980a06",
       "version_major": 2,
       "version_minor": 0
      },
      "text/plain": [
       "Figure(layout=FigureLayout(height='420px'))"
      ]
     },
     "metadata": {},
     "output_type": "display_data"
    }
   ],
   "source": [
    "locations = childmarriage_df[[\"latitude\", \"longitude\"]].astype(float)\n",
    "\n",
    "value = childmarriage_df[\"Observation Value\"].astype(float)\n",
    "\n",
    "heat_layer = gmaps.heatmap_layer(locations, weights=value, \n",
    "                                 dissipating=False, max_intensity=100,\n",
    "                                 point_radius=4)\n",
    "\n",
    "fig.add_layer(heat_layer)\n",
    "fig"
   ]
  },
  {
   "cell_type": "code",
   "execution_count": 98,
   "metadata": {},
   "outputs": [
    {
     "data": {
      "application/vnd.jupyter.widget-view+json": {
       "model_id": "016a0258be8146ef9e2548f926980a06",
       "version_major": 2,
       "version_minor": 0
      },
      "text/plain": [
       "Figure(layout=FigureLayout(height='420px'))"
      ]
     },
     "metadata": {},
     "output_type": "display_data"
    }
   ],
   "source": [
    "locations = education_df[[\"latitude\", \"longitude\"]].astype(float)\n",
    "\n",
    "value = education_df[\"Value\"].astype(float)\n",
    "\n",
    "heat_layer = gmaps.heatmap_layer(locations, weights=value, \n",
    "                                 dissipating=False, max_intensity=100,\n",
    "                                 point_radius=4,opacity=0)\n",
    "\n",
    "fig.add_layer(heat_layer)\n",
    "fig"
   ]
  },
  {
   "cell_type": "code",
   "execution_count": null,
   "metadata": {},
   "outputs": [],
   "source": []
  },
  {
   "cell_type": "code",
   "execution_count": null,
   "metadata": {},
   "outputs": [],
   "source": []
  },
  {
   "cell_type": "code",
   "execution_count": null,
   "metadata": {},
   "outputs": [],
   "source": []
  },
  {
   "cell_type": "code",
   "execution_count": null,
   "metadata": {},
   "outputs": [],
   "source": []
  },
  {
   "cell_type": "code",
   "execution_count": null,
   "metadata": {},
   "outputs": [],
   "source": []
  },
  {
   "cell_type": "code",
   "execution_count": null,
   "metadata": {},
   "outputs": [],
   "source": []
  },
  {
   "cell_type": "code",
   "execution_count": null,
   "metadata": {},
   "outputs": [],
   "source": []
  },
  {
   "cell_type": "code",
   "execution_count": null,
   "metadata": {},
   "outputs": [],
   "source": []
  },
  {
   "cell_type": "code",
   "execution_count": null,
   "metadata": {},
   "outputs": [],
   "source": []
  },
  {
   "cell_type": "code",
   "execution_count": null,
   "metadata": {},
   "outputs": [],
   "source": []
  },
  {
   "cell_type": "code",
   "execution_count": null,
   "metadata": {},
   "outputs": [],
   "source": []
  },
  {
   "cell_type": "code",
   "execution_count": null,
   "metadata": {},
   "outputs": [],
   "source": []
  },
  {
   "cell_type": "code",
   "execution_count": null,
   "metadata": {},
   "outputs": [],
   "source": [
    "list1 = list(clean_childmarriage[\"Country\"].unique())\n",
    "list2 = list(clean_countries[\"Country\"].unique())\n",
    "\n",
    "print(len(list1), len(list2))"
   ]
  },
  {
   "cell_type": "code",
   "execution_count": null,
   "metadata": {},
   "outputs": [],
   "source": [
    "clean_childmarriage[\"Country\"] = clean_childmarriage[\"Country\"].map(lambda x: x.lower())\n",
    "clean_childmarriage.head()"
   ]
  },
  {
   "cell_type": "code",
   "execution_count": null,
   "metadata": {},
   "outputs": [],
   "source": [
    "clean_countries[\"Country\"] = clean_countries[\"Country\"].map(lambda x: x.lower())\n",
    "clean_countries.head()"
   ]
  },
  {
   "cell_type": "code",
   "execution_count": null,
   "metadata": {
    "scrolled": true
   },
   "outputs": [],
   "source": [
    "df_merge = pd.merge(clean_childmarriage, clean_countries, how=\"left\", on=\"Country\")\n",
    "df_merge.head()"
   ]
  },
  {
   "cell_type": "code",
   "execution_count": null,
   "metadata": {},
   "outputs": [],
   "source": [
    "df_merge[\"Country\"].unique()"
   ]
  },
  {
   "cell_type": "code",
   "execution_count": null,
   "metadata": {},
   "outputs": [],
   "source": [
    "df_merge.loc[df_merge.isnull().any(axis=1)]"
   ]
  },
  {
   "cell_type": "code",
   "execution_count": null,
   "metadata": {},
   "outputs": [],
   "source": [
    "df_merge.dtypes"
   ]
  },
  {
   "cell_type": "code",
   "execution_count": null,
   "metadata": {},
   "outputs": [],
   "source": [
    "df_merge = df_merge.rename(columns={\n",
    "    \"Time Period\":\"TIME\"\n",
    "})\n",
    "df_merge = df_merge.drop(columns=['The period of time for which data are provided'])\n",
    "df_merge.head(1)\n"
   ]
  },
  {
   "cell_type": "code",
   "execution_count": null,
   "metadata": {},
   "outputs": [],
   "source": [
    "filtered_education.head(1)"
   ]
  },
  {
   "cell_type": "code",
   "execution_count": null,
   "metadata": {},
   "outputs": [],
   "source": [
    "filtered_education = filtered_education.drop(columns=\"LOCATION\")\n",
    "filtered_education.head(1)"
   ]
  },
  {
   "cell_type": "code",
   "execution_count": null,
   "metadata": {},
   "outputs": [],
   "source": [
    "filtered_education[\"Country\"] = filtered_education[\"Country\"].map(lambda z: z.lower())\n",
    "filtered_education.head(1)"
   ]
  },
  {
   "cell_type": "code",
   "execution_count": null,
   "metadata": {},
   "outputs": [],
   "source": [
    "df_merge.shape"
   ]
  },
  {
   "cell_type": "code",
   "execution_count": null,
   "metadata": {},
   "outputs": [],
   "source": [
    "filtered_education.shape"
   ]
  },
  {
   "cell_type": "code",
   "execution_count": null,
   "metadata": {},
   "outputs": [],
   "source": [
    "df_merge[[\"Country\", \"TIME\"]].nunique()"
   ]
  },
  {
   "cell_type": "code",
   "execution_count": null,
   "metadata": {},
   "outputs": [],
   "source": [
    "filtered_education[[\"Country\", \"TIME\"]].nunique()"
   ]
  },
  {
   "cell_type": "code",
   "execution_count": null,
   "metadata": {},
   "outputs": [],
   "source": [
    "quick_merge_df = pd.merge(df_merge, filtered_education, on=[\"Country\", \"TIME\"])\n",
    "quick_merge_df"
   ]
  },
  {
   "cell_type": "code",
   "execution_count": null,
   "metadata": {},
   "outputs": [],
   "source": [
    "quick_merge_df"
   ]
  },
  {
   "cell_type": "code",
   "execution_count": null,
   "metadata": {},
   "outputs": [],
   "source": [
    "quick_merge_df = pd.merge(df_merge, filtered_education, on=[\"Country\", \"TIME\"], how=\"outer\")\n",
    "quick_merge_df.shape"
   ]
  },
  {
   "cell_type": "code",
   "execution_count": null,
   "metadata": {},
   "outputs": [],
   "source": [
    "quick_merge_df.loc[quick_merge_df.isnull().any(axis=1)]"
   ]
  },
  {
   "cell_type": "code",
   "execution_count": null,
   "metadata": {},
   "outputs": [],
   "source": []
  },
  {
   "cell_type": "code",
   "execution_count": null,
   "metadata": {},
   "outputs": [],
   "source": []
  },
  {
   "cell_type": "code",
   "execution_count": null,
   "metadata": {
    "scrolled": false
   },
   "outputs": [],
   "source": [
    "filtered_education.dtypes"
   ]
  },
  {
   "cell_type": "code",
   "execution_count": null,
   "metadata": {},
   "outputs": [],
   "source": []
  },
  {
   "cell_type": "code",
   "execution_count": null,
   "metadata": {
    "scrolled": true
   },
   "outputs": [],
   "source": [
    "df_merge.shape"
   ]
  },
  {
   "cell_type": "code",
   "execution_count": null,
   "metadata": {},
   "outputs": [],
   "source": [
    "df_merge = df_merge.dropna(axis=0)\n",
    "df_merge.shape"
   ]
  },
  {
   "cell_type": "code",
   "execution_count": null,
   "metadata": {},
   "outputs": [],
   "source": []
  },
  {
   "cell_type": "code",
   "execution_count": null,
   "metadata": {},
   "outputs": [],
   "source": []
  },
  {
   "cell_type": "code",
   "execution_count": null,
   "metadata": {},
   "outputs": [],
   "source": []
  },
  {
   "cell_type": "code",
   "execution_count": null,
   "metadata": {
    "scrolled": true
   },
   "outputs": [],
   "source": [
    "df_merge.shape"
   ]
  },
  {
   "cell_type": "code",
   "execution_count": null,
   "metadata": {},
   "outputs": [],
   "source": [
    "df_merge = df_merge.dropna(axis=0)\n",
    "df_merge.shape"
   ]
  },
  {
   "cell_type": "code",
   "execution_count": null,
   "metadata": {},
   "outputs": [],
   "source": []
  },
  {
   "cell_type": "code",
   "execution_count": null,
   "metadata": {},
   "outputs": [],
   "source": []
  },
  {
   "cell_type": "code",
   "execution_count": null,
   "metadata": {},
   "outputs": [],
   "source": []
  },
  {
   "cell_type": "code",
   "execution_count": null,
   "metadata": {},
   "outputs": [],
   "source": [
    "clean_countries[\"Country\"].unique()"
   ]
  },
  {
   "cell_type": "code",
   "execution_count": null,
   "metadata": {},
   "outputs": [],
   "source": []
  },
  {
   "cell_type": "code",
   "execution_count": null,
   "metadata": {},
   "outputs": [],
   "source": []
  },
  {
   "cell_type": "code",
   "execution_count": null,
   "metadata": {},
   "outputs": [],
   "source": []
  },
  {
   "cell_type": "code",
   "execution_count": null,
   "metadata": {},
   "outputs": [],
   "source": []
  },
  {
   "cell_type": "code",
   "execution_count": null,
   "metadata": {},
   "outputs": [],
   "source": []
  },
  {
   "cell_type": "code",
   "execution_count": null,
   "metadata": {},
   "outputs": [],
   "source": []
  },
  {
   "cell_type": "code",
   "execution_count": null,
   "metadata": {},
   "outputs": [],
   "source": []
  },
  {
   "cell_type": "code",
   "execution_count": null,
   "metadata": {},
   "outputs": [],
   "source": []
  },
  {
   "cell_type": "code",
   "execution_count": null,
   "metadata": {},
   "outputs": [],
   "source": [
    "# Merge the child marriage dataframe with the education dataframe\n",
    "new_df = pd.merge(A_df, B_df,  how='left', left_on=['A_c1','c2'], right_on = ['B_c1','c2'])\n",
    "\n",
    "\n",
    "merge_df=pd.merge(pd.merge(clean_childmarriage,clean_countries,on='Country',),filtered_education,on='Country')\n",
    "merge_df.dropna()\n",
    "merge_df = merge_df.drop(columns=['The period of time for which data are provided'])\n",
    "merge_df\n",
    "#clean_df=merge_df.drop_duplicates('SN')"
   ]
  },
  {
   "cell_type": "code",
   "execution_count": null,
   "metadata": {},
   "outputs": [],
   "source": [
    "print(merge_df[\"views\"].max())\n",
    "print(merge_df[\"views\"].min())"
   ]
  },
  {
   "cell_type": "code",
   "execution_count": null,
   "metadata": {},
   "outputs": [],
   "source": [
    "# Create bins in which to place values based upon TED Talk views\n",
    "bins = [0, 199999, 399999, 599999, 799999, 999999,\n",
    "        1999999, 2999999, 3999999, 4999999, 50000000]\n",
    "\n",
    "# Create labels for these bins\n",
    "group_labels = [\"0 to 199k\", \"200k to 399k\", \"400k to 599k\", \"600k to 799k\", \"800k to 999k\", \"1mil to 2mil\",\n",
    "                \"2mil to 3mil\", \"3mil to 4mil\", \"4mil to 5mil\", \"5mil to 50mil\"]\n",
    "\n",
    "pd.cut(ted_df[\"views\"], bins, labels=group_labels).head()\n",
    "\n",
    "# Place the data series into a new column inside of the DataFrame\n",
    "ted_df[\"View Group\"] = pd.cut(ted_df[\"views\"], bins, labels=group_labels)\n",
    "ted_df.head()"
   ]
  },
  {
   "cell_type": "code",
   "execution_count": null,
   "metadata": {},
   "outputs": [],
   "source": []
  },
  {
   "cell_type": "code",
   "execution_count": null,
   "metadata": {},
   "outputs": [],
   "source": []
  },
  {
   "cell_type": "code",
   "execution_count": null,
   "metadata": {},
   "outputs": [],
   "source": []
  },
  {
   "cell_type": "code",
   "execution_count": null,
   "metadata": {},
   "outputs": [],
   "source": []
  },
  {
   "cell_type": "code",
   "execution_count": null,
   "metadata": {},
   "outputs": [],
   "source": []
  }
 ],
 "metadata": {
  "anaconda-cloud": {},
  "kernelspec": {
   "display_name": "Python 3",
   "language": "python",
   "name": "python3"
  },
  "language_info": {
   "codemirror_mode": {
    "name": "ipython",
    "version": 3
   },
   "file_extension": ".py",
   "mimetype": "text/x-python",
   "name": "python",
   "nbconvert_exporter": "python",
   "pygments_lexer": "ipython3",
   "version": "3.7.4"
  }
 },
 "nbformat": 4,
 "nbformat_minor": 2
}
