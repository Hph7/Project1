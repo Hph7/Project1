{
 "cells": [
  {
   "cell_type": "code",
   "execution_count": 2,
   "metadata": {},
   "outputs": [],
   "source": [
    "# Dependencies\n",
    "import requests\n",
    "import json\n",
    "#import wbdata\n",
    "import pandas as pd\n",
    "import matplotlib.pyplot as plt\n",
    "from scipy import stats\n",
    "import numpy as np\n",
    "\n",
    "# import csv data files\n",
    "education_file = \"Resources/education.csv\"\n",
    "childmarriage_file = \"Resources/childmarriage.csv\"\n",
    "\n",
    "# create dataframes for each\n",
    "education_file_df = pd.read_csv(education_file, encoding=\"ISO-8859-1\")\n",
    "childmarriage_file_df = pd.read_csv(childmarriage_file, encoding=\"ISO-8859-1\")\n",
    "countries_df = pd.read_html('https://developers.google.com/public-data/docs/canonical/countries_csv')\n",
    "\n",
    "#education_file_df.head()\n",
    "#childmarriage_file_df.head()\n",
    "#countries_df[0]"
   ]
  },
  {
   "cell_type": "code",
   "execution_count": 3,
   "metadata": {},
   "outputs": [
    {
     "data": {
      "text/html": [
       "<div>\n",
       "<style scoped>\n",
       "    .dataframe tbody tr th:only-of-type {\n",
       "        vertical-align: middle;\n",
       "    }\n",
       "\n",
       "    .dataframe tbody tr th {\n",
       "        vertical-align: top;\n",
       "    }\n",
       "\n",
       "    .dataframe thead th {\n",
       "        text-align: right;\n",
       "    }\n",
       "</style>\n",
       "<table border=\"1\" class=\"dataframe\">\n",
       "  <thead>\n",
       "    <tr style=\"text-align: right;\">\n",
       "      <th></th>\n",
       "      <th>LOCATION</th>\n",
       "      <th>Country</th>\n",
       "      <th>TIME</th>\n",
       "      <th>Value</th>\n",
       "    </tr>\n",
       "  </thead>\n",
       "  <tbody>\n",
       "    <tr>\n",
       "      <td>0</td>\n",
       "      <td>MAR</td>\n",
       "      <td>Morocco</td>\n",
       "      <td>1982</td>\n",
       "      <td>0.53256</td>\n",
       "    </tr>\n",
       "    <tr>\n",
       "      <td>1</td>\n",
       "      <td>MAR</td>\n",
       "      <td>Morocco</td>\n",
       "      <td>1994</td>\n",
       "      <td>0.64434</td>\n",
       "    </tr>\n",
       "    <tr>\n",
       "      <td>2</td>\n",
       "      <td>MAR</td>\n",
       "      <td>Morocco</td>\n",
       "      <td>2004</td>\n",
       "      <td>0.74865</td>\n",
       "    </tr>\n",
       "    <tr>\n",
       "      <td>3</td>\n",
       "      <td>MAR</td>\n",
       "      <td>Morocco</td>\n",
       "      <td>2008</td>\n",
       "      <td>0.81461</td>\n",
       "    </tr>\n",
       "    <tr>\n",
       "      <td>4</td>\n",
       "      <td>MAR</td>\n",
       "      <td>Morocco</td>\n",
       "      <td>2009</td>\n",
       "      <td>0.83185</td>\n",
       "    </tr>\n",
       "  </tbody>\n",
       "</table>\n",
       "</div>"
      ],
      "text/plain": [
       "  LOCATION  Country  TIME    Value\n",
       "0      MAR  Morocco  1982  0.53256\n",
       "1      MAR  Morocco  1994  0.64434\n",
       "2      MAR  Morocco  2004  0.74865\n",
       "3      MAR  Morocco  2008  0.81461\n",
       "4      MAR  Morocco  2009  0.83185"
      ]
     },
     "execution_count": 3,
     "metadata": {},
     "output_type": "execute_result"
    }
   ],
   "source": [
    "filtered_education = education_file_df.filter([\"Indicator\"== \"Youth literacy rate, population 15-24 years, both sexes (%)\",\n",
    "                                              \"LOCATION\", \"Country\",\"TIME\", \"Value\"])\n",
    "filtered_education.head()                       "
   ]
  },
  {
   "cell_type": "code",
   "execution_count": 4,
   "metadata": {},
   "outputs": [
    {
     "data": {
      "text/html": [
       "<div>\n",
       "<style scoped>\n",
       "    .dataframe tbody tr th:only-of-type {\n",
       "        vertical-align: middle;\n",
       "    }\n",
       "\n",
       "    .dataframe tbody tr th {\n",
       "        vertical-align: top;\n",
       "    }\n",
       "\n",
       "    .dataframe thead th {\n",
       "        text-align: right;\n",
       "    }\n",
       "</style>\n",
       "<table border=\"1\" class=\"dataframe\">\n",
       "  <thead>\n",
       "    <tr style=\"text-align: right;\">\n",
       "      <th></th>\n",
       "      <th>Country</th>\n",
       "      <th>Indicator</th>\n",
       "      <th>Sex</th>\n",
       "      <th>Time Period</th>\n",
       "      <th>Current Age</th>\n",
       "      <th>Observation Value</th>\n",
       "      <th>Unit of Measure</th>\n",
       "      <th>The period of time for which data are provided</th>\n",
       "    </tr>\n",
       "  </thead>\n",
       "  <tbody>\n",
       "    <tr>\n",
       "      <td>0</td>\n",
       "      <td>Botswana</td>\n",
       "      <td>Percentage of women (aged 20-24 years) married...</td>\n",
       "      <td>Female</td>\n",
       "      <td>1988</td>\n",
       "      <td>20 to 24 years old</td>\n",
       "      <td>10.0</td>\n",
       "      <td>%</td>\n",
       "      <td>1988</td>\n",
       "    </tr>\n",
       "    <tr>\n",
       "      <td>1</td>\n",
       "      <td>Uzbekistan</td>\n",
       "      <td>Percentage of men (aged 20-24 years) married o...</td>\n",
       "      <td>Male</td>\n",
       "      <td>2002</td>\n",
       "      <td>20 to 24 years old</td>\n",
       "      <td>0.5</td>\n",
       "      <td>%</td>\n",
       "      <td>2002</td>\n",
       "    </tr>\n",
       "    <tr>\n",
       "      <td>2</td>\n",
       "      <td>Philippines</td>\n",
       "      <td>Percentage of men (aged 20-24 years) married o...</td>\n",
       "      <td>Male</td>\n",
       "      <td>2003</td>\n",
       "      <td>20 to 24 years old</td>\n",
       "      <td>2.9</td>\n",
       "      <td>%</td>\n",
       "      <td>2003</td>\n",
       "    </tr>\n",
       "    <tr>\n",
       "      <td>3</td>\n",
       "      <td>South Africa</td>\n",
       "      <td>Percentage of women (aged 20-24 years) married...</td>\n",
       "      <td>Female</td>\n",
       "      <td>2003</td>\n",
       "      <td>20 to 24 years old</td>\n",
       "      <td>0.8</td>\n",
       "      <td>%</td>\n",
       "      <td>2003</td>\n",
       "    </tr>\n",
       "    <tr>\n",
       "      <td>4</td>\n",
       "      <td>South Africa</td>\n",
       "      <td>Percentage of women (aged 20-24 years) married...</td>\n",
       "      <td>Female</td>\n",
       "      <td>2003</td>\n",
       "      <td>20 to 24 years old</td>\n",
       "      <td>5.6</td>\n",
       "      <td>%</td>\n",
       "      <td>2003</td>\n",
       "    </tr>\n",
       "  </tbody>\n",
       "</table>\n",
       "</div>"
      ],
      "text/plain": [
       "        Country                                          Indicator     Sex  \\\n",
       "0      Botswana  Percentage of women (aged 20-24 years) married...  Female   \n",
       "1    Uzbekistan  Percentage of men (aged 20-24 years) married o...    Male   \n",
       "2   Philippines  Percentage of men (aged 20-24 years) married o...    Male   \n",
       "3  South Africa  Percentage of women (aged 20-24 years) married...  Female   \n",
       "4  South Africa  Percentage of women (aged 20-24 years) married...  Female   \n",
       "\n",
       "   Time Period         Current Age  Observation Value Unit of Measure  \\\n",
       "0         1988  20 to 24 years old               10.0               %   \n",
       "1         2002  20 to 24 years old                0.5               %   \n",
       "2         2003  20 to 24 years old                2.9               %   \n",
       "3         2003  20 to 24 years old                0.8               %   \n",
       "4         2003  20 to 24 years old                5.6               %   \n",
       "\n",
       "  The period of time for which data are provided  \n",
       "0                                           1988  \n",
       "1                                           2002  \n",
       "2                                           2003  \n",
       "3                                           2003  \n",
       "4                                           2003  "
      ]
     },
     "execution_count": 4,
     "metadata": {},
     "output_type": "execute_result"
    }
   ],
   "source": [
    "childmarriage_file_df.head()\n",
    "clean_childmarriage=childmarriage_file_df[['Geographic Area','Indicator','Sex','Time Period','Current Age',\n",
    "                           'Observation Value','Unit of Measure','The period of time for which data are provided']]\n",
    "clean_childmarriage = clean_childmarriage.rename(columns={\"Geographic Area\":\"Country\"})\n",
    "clean_childmarriage.head()"
   ]
  },
  {
   "cell_type": "code",
   "execution_count": 5,
   "metadata": {},
   "outputs": [
    {
     "data": {
      "text/html": [
       "<div>\n",
       "<style scoped>\n",
       "    .dataframe tbody tr th:only-of-type {\n",
       "        vertical-align: middle;\n",
       "    }\n",
       "\n",
       "    .dataframe tbody tr th {\n",
       "        vertical-align: top;\n",
       "    }\n",
       "\n",
       "    .dataframe thead th {\n",
       "        text-align: right;\n",
       "    }\n",
       "</style>\n",
       "<table border=\"1\" class=\"dataframe\">\n",
       "  <thead>\n",
       "    <tr style=\"text-align: right;\">\n",
       "      <th></th>\n",
       "      <th>Abbr</th>\n",
       "      <th>latitude</th>\n",
       "      <th>longitude</th>\n",
       "      <th>Country</th>\n",
       "    </tr>\n",
       "  </thead>\n",
       "  <tbody>\n",
       "    <tr>\n",
       "      <td>0</td>\n",
       "      <td>AD</td>\n",
       "      <td>42.546245</td>\n",
       "      <td>1.601554</td>\n",
       "      <td>Andorra</td>\n",
       "    </tr>\n",
       "    <tr>\n",
       "      <td>1</td>\n",
       "      <td>AE</td>\n",
       "      <td>23.424076</td>\n",
       "      <td>53.847818</td>\n",
       "      <td>United Arab Emirates</td>\n",
       "    </tr>\n",
       "    <tr>\n",
       "      <td>2</td>\n",
       "      <td>AF</td>\n",
       "      <td>33.939110</td>\n",
       "      <td>67.709953</td>\n",
       "      <td>Afghanistan</td>\n",
       "    </tr>\n",
       "    <tr>\n",
       "      <td>3</td>\n",
       "      <td>AG</td>\n",
       "      <td>17.060816</td>\n",
       "      <td>-61.796428</td>\n",
       "      <td>Antigua and Barbuda</td>\n",
       "    </tr>\n",
       "    <tr>\n",
       "      <td>4</td>\n",
       "      <td>AI</td>\n",
       "      <td>18.220554</td>\n",
       "      <td>-63.068615</td>\n",
       "      <td>Anguilla</td>\n",
       "    </tr>\n",
       "  </tbody>\n",
       "</table>\n",
       "</div>"
      ],
      "text/plain": [
       "  Abbr   latitude  longitude               Country\n",
       "0   AD  42.546245   1.601554               Andorra\n",
       "1   AE  23.424076  53.847818  United Arab Emirates\n",
       "2   AF  33.939110  67.709953           Afghanistan\n",
       "3   AG  17.060816 -61.796428   Antigua and Barbuda\n",
       "4   AI  18.220554 -63.068615              Anguilla"
      ]
     },
     "execution_count": 5,
     "metadata": {},
     "output_type": "execute_result"
    }
   ],
   "source": [
    "countries_df[0]\n",
    "clean_countries = countries_df[0].rename(columns={\"name\":\"Country\",\"country\":\"Abbr\"})\n",
    "clean_countries.head()"
   ]
  },
  {
   "cell_type": "code",
   "execution_count": 6,
   "metadata": {},
   "outputs": [],
   "source": [
    "# make country lowercase\n",
    "clean_childmarriage[\"Country\"] = clean_childmarriage[\"Country\"].map(lambda x: x.lower())\n",
    "clean_countries[\"Country\"] = clean_countries[\"Country\"].map(lambda x: x.lower())\n",
    "filtered_education[\"Country\"] = filtered_education[\"Country\"].map(lambda z: z.lower())"
   ]
  },
  {
   "cell_type": "code",
   "execution_count": 7,
   "metadata": {},
   "outputs": [
    {
     "data": {
      "text/html": [
       "<div>\n",
       "<style scoped>\n",
       "    .dataframe tbody tr th:only-of-type {\n",
       "        vertical-align: middle;\n",
       "    }\n",
       "\n",
       "    .dataframe tbody tr th {\n",
       "        vertical-align: top;\n",
       "    }\n",
       "\n",
       "    .dataframe thead th {\n",
       "        text-align: right;\n",
       "    }\n",
       "</style>\n",
       "<table border=\"1\" class=\"dataframe\">\n",
       "  <thead>\n",
       "    <tr style=\"text-align: right;\">\n",
       "      <th></th>\n",
       "      <th>Country</th>\n",
       "      <th>Indicator</th>\n",
       "      <th>Sex</th>\n",
       "      <th>Time Period</th>\n",
       "      <th>Current Age</th>\n",
       "      <th>Observation Value</th>\n",
       "      <th>Unit of Measure</th>\n",
       "      <th>latitude</th>\n",
       "      <th>longitude</th>\n",
       "    </tr>\n",
       "  </thead>\n",
       "  <tbody>\n",
       "    <tr>\n",
       "      <td>0</td>\n",
       "      <td>botswana</td>\n",
       "      <td>Percentage of women (aged 20-24 years) married...</td>\n",
       "      <td>Female</td>\n",
       "      <td>1988</td>\n",
       "      <td>20 to 24 years old</td>\n",
       "      <td>10.0</td>\n",
       "      <td>%</td>\n",
       "      <td>-22.328474</td>\n",
       "      <td>24.684866</td>\n",
       "    </tr>\n",
       "    <tr>\n",
       "      <td>1</td>\n",
       "      <td>uzbekistan</td>\n",
       "      <td>Percentage of men (aged 20-24 years) married o...</td>\n",
       "      <td>Male</td>\n",
       "      <td>2002</td>\n",
       "      <td>20 to 24 years old</td>\n",
       "      <td>0.5</td>\n",
       "      <td>%</td>\n",
       "      <td>41.377491</td>\n",
       "      <td>64.585262</td>\n",
       "    </tr>\n",
       "    <tr>\n",
       "      <td>2</td>\n",
       "      <td>philippines</td>\n",
       "      <td>Percentage of men (aged 20-24 years) married o...</td>\n",
       "      <td>Male</td>\n",
       "      <td>2003</td>\n",
       "      <td>20 to 24 years old</td>\n",
       "      <td>2.9</td>\n",
       "      <td>%</td>\n",
       "      <td>12.879721</td>\n",
       "      <td>121.774017</td>\n",
       "    </tr>\n",
       "    <tr>\n",
       "      <td>3</td>\n",
       "      <td>south africa</td>\n",
       "      <td>Percentage of women (aged 20-24 years) married...</td>\n",
       "      <td>Female</td>\n",
       "      <td>2003</td>\n",
       "      <td>20 to 24 years old</td>\n",
       "      <td>0.8</td>\n",
       "      <td>%</td>\n",
       "      <td>-30.559482</td>\n",
       "      <td>22.937506</td>\n",
       "    </tr>\n",
       "    <tr>\n",
       "      <td>4</td>\n",
       "      <td>south africa</td>\n",
       "      <td>Percentage of women (aged 20-24 years) married...</td>\n",
       "      <td>Female</td>\n",
       "      <td>2003</td>\n",
       "      <td>20 to 24 years old</td>\n",
       "      <td>5.6</td>\n",
       "      <td>%</td>\n",
       "      <td>-30.559482</td>\n",
       "      <td>22.937506</td>\n",
       "    </tr>\n",
       "  </tbody>\n",
       "</table>\n",
       "</div>"
      ],
      "text/plain": [
       "        Country                                          Indicator     Sex  \\\n",
       "0      botswana  Percentage of women (aged 20-24 years) married...  Female   \n",
       "1    uzbekistan  Percentage of men (aged 20-24 years) married o...    Male   \n",
       "2   philippines  Percentage of men (aged 20-24 years) married o...    Male   \n",
       "3  south africa  Percentage of women (aged 20-24 years) married...  Female   \n",
       "4  south africa  Percentage of women (aged 20-24 years) married...  Female   \n",
       "\n",
       "   Time Period         Current Age  Observation Value Unit of Measure  \\\n",
       "0         1988  20 to 24 years old               10.0               %   \n",
       "1         2002  20 to 24 years old                0.5               %   \n",
       "2         2003  20 to 24 years old                2.9               %   \n",
       "3         2003  20 to 24 years old                0.8               %   \n",
       "4         2003  20 to 24 years old                5.6               %   \n",
       "\n",
       "    latitude   longitude  \n",
       "0 -22.328474   24.684866  \n",
       "1  41.377491   64.585262  \n",
       "2  12.879721  121.774017  \n",
       "3 -30.559482   22.937506  \n",
       "4 -30.559482   22.937506  "
      ]
     },
     "execution_count": 7,
     "metadata": {},
     "output_type": "execute_result"
    }
   ],
   "source": [
    "childmarriage_final = pd.merge(clean_childmarriage, clean_countries, how=\"left\", on=\"Country\")\n",
    "childmarriage_final = childmarriage_final.drop(columns=[\"The period of time for which data are provided\",\"Abbr\"])\n",
    "childmarriage_final\n",
    "childmarriage_final.head()"
   ]
  },
  {
   "cell_type": "code",
   "execution_count": 8,
   "metadata": {
    "scrolled": false
   },
   "outputs": [
    {
     "data": {
      "text/html": [
       "<div>\n",
       "<style scoped>\n",
       "    .dataframe tbody tr th:only-of-type {\n",
       "        vertical-align: middle;\n",
       "    }\n",
       "\n",
       "    .dataframe tbody tr th {\n",
       "        vertical-align: top;\n",
       "    }\n",
       "\n",
       "    .dataframe thead th {\n",
       "        text-align: right;\n",
       "    }\n",
       "</style>\n",
       "<table border=\"1\" class=\"dataframe\">\n",
       "  <thead>\n",
       "    <tr style=\"text-align: right;\">\n",
       "      <th></th>\n",
       "      <th>Country</th>\n",
       "      <th>TIME</th>\n",
       "      <th>Value</th>\n",
       "      <th>latitude</th>\n",
       "      <th>longitude</th>\n",
       "    </tr>\n",
       "  </thead>\n",
       "  <tbody>\n",
       "    <tr>\n",
       "      <td>0</td>\n",
       "      <td>morocco</td>\n",
       "      <td>1982</td>\n",
       "      <td>0.53256</td>\n",
       "      <td>31.791702</td>\n",
       "      <td>-7.09262</td>\n",
       "    </tr>\n",
       "    <tr>\n",
       "      <td>1</td>\n",
       "      <td>morocco</td>\n",
       "      <td>1994</td>\n",
       "      <td>0.64434</td>\n",
       "      <td>31.791702</td>\n",
       "      <td>-7.09262</td>\n",
       "    </tr>\n",
       "    <tr>\n",
       "      <td>2</td>\n",
       "      <td>morocco</td>\n",
       "      <td>2004</td>\n",
       "      <td>0.74865</td>\n",
       "      <td>31.791702</td>\n",
       "      <td>-7.09262</td>\n",
       "    </tr>\n",
       "    <tr>\n",
       "      <td>3</td>\n",
       "      <td>morocco</td>\n",
       "      <td>2008</td>\n",
       "      <td>0.81461</td>\n",
       "      <td>31.791702</td>\n",
       "      <td>-7.09262</td>\n",
       "    </tr>\n",
       "    <tr>\n",
       "      <td>4</td>\n",
       "      <td>morocco</td>\n",
       "      <td>2009</td>\n",
       "      <td>0.83185</td>\n",
       "      <td>31.791702</td>\n",
       "      <td>-7.09262</td>\n",
       "    </tr>\n",
       "  </tbody>\n",
       "</table>\n",
       "</div>"
      ],
      "text/plain": [
       "   Country  TIME    Value   latitude  longitude\n",
       "0  morocco  1982  0.53256  31.791702   -7.09262\n",
       "1  morocco  1994  0.64434  31.791702   -7.09262\n",
       "2  morocco  2004  0.74865  31.791702   -7.09262\n",
       "3  morocco  2008  0.81461  31.791702   -7.09262\n",
       "4  morocco  2009  0.83185  31.791702   -7.09262"
      ]
     },
     "execution_count": 8,
     "metadata": {},
     "output_type": "execute_result"
    }
   ],
   "source": [
    "education_final = pd.merge(filtered_education, clean_countries, how=\"left\", on=\"Country\")\n",
    "education_final = education_final.drop(columns=[\"LOCATION\",\"Abbr\"])\n",
    "education_final.head()"
   ]
  },
  {
   "cell_type": "code",
   "execution_count": null,
   "metadata": {},
   "outputs": [],
   "source": []
  },
  {
   "cell_type": "code",
   "execution_count": null,
   "metadata": {},
   "outputs": [],
   "source": []
  },
  {
   "cell_type": "code",
   "execution_count": null,
   "metadata": {},
   "outputs": [],
   "source": []
  },
  {
   "cell_type": "code",
   "execution_count": null,
   "metadata": {},
   "outputs": [],
   "source": []
  },
  {
   "cell_type": "code",
   "execution_count": null,
   "metadata": {},
   "outputs": [],
   "source": []
  },
  {
   "cell_type": "code",
   "execution_count": null,
   "metadata": {},
   "outputs": [],
   "source": []
  },
  {
   "cell_type": "code",
   "execution_count": null,
   "metadata": {},
   "outputs": [],
   "source": []
  },
  {
   "cell_type": "code",
   "execution_count": 9,
   "metadata": {
    "scrolled": true
   },
   "outputs": [
    {
     "data": {
      "text/html": [
       "<div>\n",
       "<style scoped>\n",
       "    .dataframe tbody tr th:only-of-type {\n",
       "        vertical-align: middle;\n",
       "    }\n",
       "\n",
       "    .dataframe tbody tr th {\n",
       "        vertical-align: top;\n",
       "    }\n",
       "\n",
       "    .dataframe thead th {\n",
       "        text-align: right;\n",
       "    }\n",
       "</style>\n",
       "<table border=\"1\" class=\"dataframe\">\n",
       "  <thead>\n",
       "    <tr style=\"text-align: right;\">\n",
       "      <th></th>\n",
       "      <th>Value</th>\n",
       "    </tr>\n",
       "    <tr>\n",
       "      <th>Country</th>\n",
       "      <th></th>\n",
       "    </tr>\n",
       "  </thead>\n",
       "  <tbody>\n",
       "    <tr>\n",
       "      <td>afghanistan</td>\n",
       "      <td>35.439102</td>\n",
       "    </tr>\n",
       "    <tr>\n",
       "      <td>africa (northern)</td>\n",
       "      <td>55.736070</td>\n",
       "    </tr>\n",
       "    <tr>\n",
       "      <td>africa (sub-saharan)</td>\n",
       "      <td>51.741533</td>\n",
       "    </tr>\n",
       "    <tr>\n",
       "      <td>albania</td>\n",
       "      <td>74.590923</td>\n",
       "    </tr>\n",
       "    <tr>\n",
       "      <td>algeria</td>\n",
       "      <td>67.323016</td>\n",
       "    </tr>\n",
       "    <tr>\n",
       "      <td>...</td>\n",
       "      <td>...</td>\n",
       "    </tr>\n",
       "    <tr>\n",
       "      <td>western asia and northern africa</td>\n",
       "      <td>61.662127</td>\n",
       "    </tr>\n",
       "    <tr>\n",
       "      <td>world</td>\n",
       "      <td>63.969104</td>\n",
       "    </tr>\n",
       "    <tr>\n",
       "      <td>yemen</td>\n",
       "      <td>51.241751</td>\n",
       "    </tr>\n",
       "    <tr>\n",
       "      <td>zambia</td>\n",
       "      <td>56.735149</td>\n",
       "    </tr>\n",
       "    <tr>\n",
       "      <td>zimbabwe</td>\n",
       "      <td>68.862129</td>\n",
       "    </tr>\n",
       "  </tbody>\n",
       "</table>\n",
       "<p>200 rows × 1 columns</p>\n",
       "</div>"
      ],
      "text/plain": [
       "                                      Value\n",
       "Country                                    \n",
       "afghanistan                       35.439102\n",
       "africa (northern)                 55.736070\n",
       "africa (sub-saharan)              51.741533\n",
       "albania                           74.590923\n",
       "algeria                           67.323016\n",
       "...                                     ...\n",
       "western asia and northern africa  61.662127\n",
       "world                             63.969104\n",
       "yemen                             51.241751\n",
       "zambia                            56.735149\n",
       "zimbabwe                          68.862129\n",
       "\n",
       "[200 rows x 1 columns]"
      ]
     },
     "execution_count": 9,
     "metadata": {},
     "output_type": "execute_result"
    }
   ],
   "source": [
    "# from education_final dataset, group each country and get the mean of values\n",
    "new_education_final=education_final.groupby([\"Country\"])\n",
    "education_grouped_country=new_education_final[\"Value\"].mean()\n",
    "education_grouped_country_df=pd.DataFrame(education_grouped_country)\n",
    "education_grouped_country_df"
   ]
  },
  {
   "cell_type": "code",
   "execution_count": 10,
   "metadata": {},
   "outputs": [
    {
     "data": {
      "text/html": [
       "<div>\n",
       "<style scoped>\n",
       "    .dataframe tbody tr th:only-of-type {\n",
       "        vertical-align: middle;\n",
       "    }\n",
       "\n",
       "    .dataframe tbody tr th {\n",
       "        vertical-align: top;\n",
       "    }\n",
       "\n",
       "    .dataframe thead th {\n",
       "        text-align: right;\n",
       "    }\n",
       "</style>\n",
       "<table border=\"1\" class=\"dataframe\">\n",
       "  <thead>\n",
       "    <tr style=\"text-align: right;\">\n",
       "      <th></th>\n",
       "      <th>Observation Value</th>\n",
       "    </tr>\n",
       "    <tr>\n",
       "      <th>Country</th>\n",
       "      <th></th>\n",
       "    </tr>\n",
       "  </thead>\n",
       "  <tbody>\n",
       "    <tr>\n",
       "      <td>afghanistan</td>\n",
       "      <td>16.966667</td>\n",
       "    </tr>\n",
       "    <tr>\n",
       "      <td>albania</td>\n",
       "      <td>4.800000</td>\n",
       "    </tr>\n",
       "    <tr>\n",
       "      <td>algeria</td>\n",
       "      <td>1.450000</td>\n",
       "    </tr>\n",
       "    <tr>\n",
       "      <td>angola</td>\n",
       "      <td>14.733333</td>\n",
       "    </tr>\n",
       "    <tr>\n",
       "      <td>armenia</td>\n",
       "      <td>1.900000</td>\n",
       "    </tr>\n",
       "    <tr>\n",
       "      <td>...</td>\n",
       "      <td>...</td>\n",
       "    </tr>\n",
       "    <tr>\n",
       "      <td>vanuatu</td>\n",
       "      <td>9.500000</td>\n",
       "    </tr>\n",
       "    <tr>\n",
       "      <td>viet nam</td>\n",
       "      <td>4.733333</td>\n",
       "    </tr>\n",
       "    <tr>\n",
       "      <td>yemen</td>\n",
       "      <td>20.650000</td>\n",
       "    </tr>\n",
       "    <tr>\n",
       "      <td>zambia</td>\n",
       "      <td>13.166667</td>\n",
       "    </tr>\n",
       "    <tr>\n",
       "      <td>zimbabwe</td>\n",
       "      <td>12.433333</td>\n",
       "    </tr>\n",
       "  </tbody>\n",
       "</table>\n",
       "<p>127 rows × 1 columns</p>\n",
       "</div>"
      ],
      "text/plain": [
       "             Observation Value\n",
       "Country                       \n",
       "afghanistan          16.966667\n",
       "albania               4.800000\n",
       "algeria               1.450000\n",
       "angola               14.733333\n",
       "armenia               1.900000\n",
       "...                        ...\n",
       "vanuatu               9.500000\n",
       "viet nam              4.733333\n",
       "yemen                20.650000\n",
       "zambia               13.166667\n",
       "zimbabwe             12.433333\n",
       "\n",
       "[127 rows x 1 columns]"
      ]
     },
     "execution_count": 10,
     "metadata": {},
     "output_type": "execute_result"
    }
   ],
   "source": [
    "# childmarriage_final dataset, group each country and get the mean of values\n",
    "new_childmarriage_final=childmarriage_final.groupby([\"Country\"])\n",
    "childmarriage_grouped_country=new_childmarriage_final[\"Observation Value\"].mean()\n",
    "childmarriage_grouped_country_df=pd.DataFrame(childmarriage_grouped_country)\n",
    "childmarriage_grouped_country_df"
   ]
  },
  {
   "cell_type": "code",
   "execution_count": 11,
   "metadata": {
    "scrolled": true
   },
   "outputs": [
    {
     "data": {
      "text/html": [
       "<div>\n",
       "<style scoped>\n",
       "    .dataframe tbody tr th:only-of-type {\n",
       "        vertical-align: middle;\n",
       "    }\n",
       "\n",
       "    .dataframe tbody tr th {\n",
       "        vertical-align: top;\n",
       "    }\n",
       "\n",
       "    .dataframe thead th {\n",
       "        text-align: right;\n",
       "    }\n",
       "</style>\n",
       "<table border=\"1\" class=\"dataframe\">\n",
       "  <thead>\n",
       "    <tr style=\"text-align: right;\">\n",
       "      <th></th>\n",
       "      <th>Overall Averaged Child Marriage Value</th>\n",
       "      <th>Averaged Education Value</th>\n",
       "    </tr>\n",
       "    <tr>\n",
       "      <th>Country</th>\n",
       "      <th></th>\n",
       "      <th></th>\n",
       "    </tr>\n",
       "  </thead>\n",
       "  <tbody>\n",
       "    <tr>\n",
       "      <td>afghanistan</td>\n",
       "      <td>16.966667</td>\n",
       "      <td>35.439102</td>\n",
       "    </tr>\n",
       "    <tr>\n",
       "      <td>albania</td>\n",
       "      <td>4.800000</td>\n",
       "      <td>74.590923</td>\n",
       "    </tr>\n",
       "    <tr>\n",
       "      <td>algeria</td>\n",
       "      <td>1.450000</td>\n",
       "      <td>67.323016</td>\n",
       "    </tr>\n",
       "    <tr>\n",
       "      <td>angola</td>\n",
       "      <td>14.733333</td>\n",
       "      <td>56.702264</td>\n",
       "    </tr>\n",
       "    <tr>\n",
       "      <td>armenia</td>\n",
       "      <td>1.900000</td>\n",
       "      <td>75.139868</td>\n",
       "    </tr>\n",
       "    <tr>\n",
       "      <td>...</td>\n",
       "      <td>...</td>\n",
       "      <td>...</td>\n",
       "    </tr>\n",
       "    <tr>\n",
       "      <td>vanuatu</td>\n",
       "      <td>9.500000</td>\n",
       "      <td>65.044334</td>\n",
       "    </tr>\n",
       "    <tr>\n",
       "      <td>viet nam</td>\n",
       "      <td>4.733333</td>\n",
       "      <td>71.899058</td>\n",
       "    </tr>\n",
       "    <tr>\n",
       "      <td>yemen</td>\n",
       "      <td>20.650000</td>\n",
       "      <td>51.241751</td>\n",
       "    </tr>\n",
       "    <tr>\n",
       "      <td>zambia</td>\n",
       "      <td>13.166667</td>\n",
       "      <td>56.735149</td>\n",
       "    </tr>\n",
       "    <tr>\n",
       "      <td>zimbabwe</td>\n",
       "      <td>12.433333</td>\n",
       "      <td>68.862129</td>\n",
       "    </tr>\n",
       "  </tbody>\n",
       "</table>\n",
       "<p>120 rows × 2 columns</p>\n",
       "</div>"
      ],
      "text/plain": [
       "             Overall Averaged Child Marriage Value  Averaged Education Value\n",
       "Country                                                                     \n",
       "afghanistan                              16.966667                 35.439102\n",
       "albania                                   4.800000                 74.590923\n",
       "algeria                                   1.450000                 67.323016\n",
       "angola                                   14.733333                 56.702264\n",
       "armenia                                   1.900000                 75.139868\n",
       "...                                            ...                       ...\n",
       "vanuatu                                   9.500000                 65.044334\n",
       "viet nam                                  4.733333                 71.899058\n",
       "yemen                                    20.650000                 51.241751\n",
       "zambia                                   13.166667                 56.735149\n",
       "zimbabwe                                 12.433333                 68.862129\n",
       "\n",
       "[120 rows x 2 columns]"
      ]
     },
     "execution_count": 11,
     "metadata": {},
     "output_type": "execute_result"
    }
   ],
   "source": [
    "# Merge data from childmarriage_grouped_country_df and education_grouped_country_df to compare\n",
    "childmarriage_and_education = pd.merge(childmarriage_grouped_country_df, education_grouped_country_df, how=\"inner\", on=\"Country\")\n",
    "childmarriage_and_education\n",
    "childmarriage_and_education = childmarriage_and_education.rename(columns={\"Observation Value\":\"Overall Averaged Child Marriage Value\",\n",
    "                                                                         \"Value\":\"Averaged Education Value\"})\n",
    "childmarriage_and_education"
   ]
  },
  {
   "cell_type": "code",
   "execution_count": 12,
   "metadata": {
    "scrolled": true
   },
   "outputs": [
    {
     "name": "stdout",
     "output_type": "stream",
     "text": [
      "y = -0.38155x + 35.65\n",
      "The r-squared is: -0.6880431291174198\n"
     ]
    },
    {
     "data": {
      "image/png": "[encoded data removed]",
      "text/plain": [
       "<Figure size 432x288 with 1 Axes>"
      ]
     },
     "metadata": {
      "needs_background": "light"
     },
     "output_type": "display_data"
    }
   ],
   "source": [
    "# Correlation of Education with child marriage\n",
    "x_values = childmarriage_and_education['Averaged Education Value']\n",
    "y_values = childmarriage_and_education['Overall Averaged Child Marriage Value']\n",
    "(slope, intercept, rvalue, pvalue, stderr) = stats.linregress(x_values, y_values)\n",
    "regress_values = x_values * slope + intercept\n",
    "#print(regress_values)\n",
    "line_eq = \"y = \" + str(round(slope,5)) + \"x + \" + str(round(intercept,2))\n",
    "plt.scatter(x_values,y_values)\n",
    "plt.plot(x_values,regress_values,\"r-\")\n",
    "plt.annotate(line_eq,(6,10),fontsize=15,color=\"red\")\n",
    "plt.xlabel(\"Averaged Education Value\")\n",
    "plt.ylabel(\"Overall Averaged Child Marriage Value\")\n",
    "print(line_eq)\n",
    "print(f\"The r-squared is: {rvalue}\")\n",
    "plt.show()"
   ]
  },
  {
   "cell_type": "code",
   "execution_count": 13,
   "metadata": {},
   "outputs": [
    {
     "data": {
      "image/png": "[encoded data removed]",
      "text/plain": [
       "<Figure size 432x288 with 1 Axes>"
      ]
     },
     "metadata": {
      "needs_background": "light"
     },
     "output_type": "display_data"
    },
    {
     "name": "stdout",
     "output_type": "stream",
     "text": [
      "The lower quartile of averaged child marriage value is: 4.783333333333333\n",
      "The upper quartile of averaged child marriage value is: 16.441666666666666\n",
      "The interquartile range of averaged child marriage value is: 11.658333333333333\n",
      "Values below -12.704166666666667 could be outliers.\n",
      "Values above 33.92916666666667 could be outliers.\n",
      "There are outliers for child marriage:\n",
      "Country\n",
      "central african republic    41.633333\n",
      "chad                        34.866667\n",
      "niger                       36.666667\n",
      "Name: Overall Averaged Child Marriage Value, dtype: float64\n"
     ]
    }
   ],
   "source": [
    "# Boxplot for child marriage \n",
    "fig1, ax1 = plt.subplots()\n",
    "ax1.set_title('Child Marriage')\n",
    "ax1.set_ylabel('Averaged Child Marriage Value')\n",
    "value=childmarriage_and_education[\"Overall Averaged Child Marriage Value\"]\n",
    "ax1.boxplot(value)\n",
    "plt.show()\n",
    "# Give quartile calculations\n",
    "quartiles = value.quantile([.25,.5,.75])\n",
    "lowerq = quartiles[0.25]\n",
    "upperq = quartiles[0.75]\n",
    "iqr = upperq-lowerq\n",
    "# Print result for child marriage\n",
    "print(f\"The lower quartile of averaged child marriage value is: {lowerq}\")\n",
    "print(f\"The upper quartile of averaged child marriage value is: {upperq}\")\n",
    "print(f\"The interquartile range of averaged child marriage value is: {iqr}\")\n",
    "\n",
    "lower_bound = lowerq - (1.5*iqr)\n",
    "upper_bound = upperq + (1.5*iqr)\n",
    "print(f\"Values below {lower_bound} could be outliers.\")\n",
    "print(f\"Values above {upper_bound} could be outliers.\")\n",
    "print(f\"There are outliers for child marriage:\")\n",
    "outliers=value.loc[value > 33.92916666666667]\n",
    "print(outliers)"
   ]
  },
  {
   "cell_type": "code",
   "execution_count": 14,
   "metadata": {},
   "outputs": [
    {
     "data": {
      "image/png": "[encoded data removed]",
      "text/plain": [
       "<Figure size 432x288 with 1 Axes>"
      ]
     },
     "metadata": {
      "needs_background": "light"
     },
     "output_type": "display_data"
    },
    {
     "name": "stdout",
     "output_type": "stream",
     "text": [
      "The lower quartile of averaged child education is: 56.120418125\n",
      "The upper quartile of averaged child education is: 73.66726819078946\n",
      "The interquartile range of averaged child education is: 17.546850065789457\n",
      "Values below 29.800143026315816 could be outliers.\n",
      "Values above 99.98754328947365 could be outliers.\n",
      "There are outliers for child education:\n",
      "Country\n",
      "burkina faso    25.206404\n",
      "chad            25.401568\n",
      "guinea          28.705602\n",
      "mali            29.714138\n",
      "niger           24.506163\n",
      "somalia         10.034673\n",
      "Name: Averaged Education Value, dtype: float64\n"
     ]
    }
   ],
   "source": [
    "# Boxplot for child education \n",
    "fig1, ax1 = plt.subplots()\n",
    "ax1.set_title('Child Education')\n",
    "ax1.set_ylabel('Averaged Child Education')\n",
    "value=childmarriage_and_education[\"Averaged Education Value\"]\n",
    "ax1.boxplot(value)\n",
    "plt.show()\n",
    "# Give quartile calculations\n",
    "quartiles = value.quantile([.25,.5,.75])\n",
    "lowerq = quartiles[0.25]\n",
    "upperq = quartiles[0.75]\n",
    "iqr = upperq-lowerq\n",
    "# Print result for Campomulin\n",
    "print(f\"The lower quartile of averaged child education is: {lowerq}\")\n",
    "print(f\"The upper quartile of averaged child education is: {upperq}\")\n",
    "print(f\"The interquartile range of averaged child education is: {iqr}\")\n",
    "\n",
    "lower_bound = lowerq - (1.5*iqr)\n",
    "upper_bound = upperq + (1.5*iqr)\n",
    "print(f\"Values below {lower_bound} could be outliers.\")\n",
    "print(f\"Values above {upper_bound} could be outliers.\")\n",
    "outliers=value.loc[value < 29.800143026315816]\n",
    "print(f\"There are outliers for child education:\")\n",
    "print(outliers)"
   ]
  },
  {
   "cell_type": "code",
   "execution_count": null,
   "metadata": {},
   "outputs": [],
   "source": []
  },
  {
   "cell_type": "code",
   "execution_count": null,
   "metadata": {},
   "outputs": [],
   "source": []
  },
  {
   "cell_type": "code",
   "execution_count": null,
   "metadata": {},
   "outputs": [],
   "source": []
  },
  {
   "cell_type": "code",
   "execution_count": null,
   "metadata": {},
   "outputs": [],
   "source": []
  },
  {
   "cell_type": "code",
   "execution_count": null,
   "metadata": {},
   "outputs": [],
   "source": []
  },
  {
   "cell_type": "code",
   "execution_count": null,
   "metadata": {},
   "outputs": [],
   "source": [
    "# Question 3: What is the geographical impact on child marriage and education? (heat map one for education and one for child marriage)"
   ]
  },
  {
   "cell_type": "code",
   "execution_count": null,
   "metadata": {},
   "outputs": [],
   "source": [
    "# Question 4: Is one gender more susceptible to child marriage than the other? (pie graph)"
   ]
  },
  {
   "cell_type": "code",
   "execution_count": null,
   "metadata": {},
   "outputs": [],
   "source": [
    "# Conclusion: our null hypothesis is that education has no impact on child marriage rates."
   ]
  },
  {
   "cell_type": "code",
   "execution_count": null,
   "metadata": {},
   "outputs": [],
   "source": []
  },
  {
   "cell_type": "code",
   "execution_count": null,
   "metadata": {},
   "outputs": [],
   "source": []
  },
  {
   "cell_type": "code",
   "execution_count": null,
   "metadata": {},
   "outputs": [],
   "source": []
  },
  {
   "cell_type": "code",
   "execution_count": null,
   "metadata": {},
   "outputs": [],
   "source": []
  },
  {
   "cell_type": "code",
   "execution_count": null,
   "metadata": {},
   "outputs": [],
   "source": []
  },
  {
   "cell_type": "code",
   "execution_count": null,
   "metadata": {},
   "outputs": [],
   "source": []
  },
  {
   "cell_type": "code",
   "execution_count": null,
   "metadata": {},
   "outputs": [],
   "source": []
  },
  {
   "cell_type": "code",
   "execution_count": null,
   "metadata": {},
   "outputs": [],
   "source": []
  },
  {
   "cell_type": "code",
   "execution_count": null,
   "metadata": {},
   "outputs": [],
   "source": []
  },
  {
   "cell_type": "code",
   "execution_count": null,
   "metadata": {},
   "outputs": [],
   "source": []
  },
  {
   "cell_type": "code",
   "execution_count": null,
   "metadata": {},
   "outputs": [],
   "source": [
    "list1 = list(clean_childmarriage[\"Country\"].unique())\n",
    "list2 = list(clean_countries[\"Country\"].unique())\n",
    "\n",
    "print(len(list1), len(list2))"
   ]
  },
  {
   "cell_type": "code",
   "execution_count": null,
   "metadata": {},
   "outputs": [],
   "source": [
    "clean_childmarriage[\"Country\"] = clean_childmarriage[\"Country\"].map(lambda x: x.lower())\n",
    "clean_childmarriage.head()"
   ]
  },
  {
   "cell_type": "code",
   "execution_count": null,
   "metadata": {},
   "outputs": [],
   "source": [
    "clean_countries[\"Country\"] = clean_countries[\"Country\"].map(lambda x: x.lower())\n",
    "clean_countries.head()"
   ]
  },
  {
   "cell_type": "code",
   "execution_count": null,
   "metadata": {
    "scrolled": true
   },
   "outputs": [],
   "source": [
    "df_merge = pd.merge(clean_childmarriage, clean_countries, how=\"left\", on=\"Country\")\n",
    "df_merge.head()"
   ]
  },
  {
   "cell_type": "code",
   "execution_count": null,
   "metadata": {},
   "outputs": [],
   "source": [
    "df_merge[\"Country\"].unique()"
   ]
  },
  {
   "cell_type": "code",
   "execution_count": null,
   "metadata": {},
   "outputs": [],
   "source": [
    "df_merge.loc[df_merge.isnull().any(axis=1)]"
   ]
  },
  {
   "cell_type": "code",
   "execution_count": null,
   "metadata": {},
   "outputs": [],
   "source": [
    "df_merge.dtypes"
   ]
  },
  {
   "cell_type": "code",
   "execution_count": null,
   "metadata": {},
   "outputs": [],
   "source": [
    "df_merge = df_merge.rename(columns={\n",
    "    \"Time Period\":\"TIME\"\n",
    "})\n",
    "df_merge = df_merge.drop(columns=['The period of time for which data are provided'])\n",
    "df_merge.head(1)\n"
   ]
  },
  {
   "cell_type": "code",
   "execution_count": null,
   "metadata": {},
   "outputs": [],
   "source": [
    "filtered_education.head(1)"
   ]
  },
  {
   "cell_type": "code",
   "execution_count": null,
   "metadata": {},
   "outputs": [],
   "source": [
    "filtered_education = filtered_education.drop(columns=\"LOCATION\")\n",
    "filtered_education.head(1)"
   ]
  },
  {
   "cell_type": "code",
   "execution_count": null,
   "metadata": {},
   "outputs": [],
   "source": [
    "filtered_education[\"Country\"] = filtered_education[\"Country\"].map(lambda z: z.lower())\n",
    "filtered_education.head(1)"
   ]
  },
  {
   "cell_type": "code",
   "execution_count": null,
   "metadata": {},
   "outputs": [],
   "source": [
    "df_merge.shape"
   ]
  },
  {
   "cell_type": "code",
   "execution_count": null,
   "metadata": {},
   "outputs": [],
   "source": [
    "filtered_education.shape"
   ]
  },
  {
   "cell_type": "code",
   "execution_count": null,
   "metadata": {},
   "outputs": [],
   "source": [
    "df_merge[[\"Country\", \"TIME\"]].nunique()"
   ]
  },
  {
   "cell_type": "code",
   "execution_count": null,
   "metadata": {},
   "outputs": [],
   "source": [
    "filtered_education[[\"Country\", \"TIME\"]].nunique()"
   ]
  },
  {
   "cell_type": "code",
   "execution_count": null,
   "metadata": {},
   "outputs": [],
   "source": [
    "quick_merge_df = pd.merge(df_merge, filtered_education, on=[\"Country\", \"TIME\"])\n",
    "quick_merge_df"
   ]
  },
  {
   "cell_type": "code",
   "execution_count": null,
   "metadata": {},
   "outputs": [],
   "source": [
    "quick_merge_df"
   ]
  },
  {
   "cell_type": "code",
   "execution_count": null,
   "metadata": {},
   "outputs": [],
   "source": [
    "quick_merge_df = pd.merge(df_merge, filtered_education, on=[\"Country\", \"TIME\"], how=\"outer\")\n",
    "quick_merge_df.shape"
   ]
  },
  {
   "cell_type": "code",
   "execution_count": null,
   "metadata": {},
   "outputs": [],
   "source": [
    "quick_merge_df.loc[quick_merge_df.isnull().any(axis=1)]"
   ]
  },
  {
   "cell_type": "code",
   "execution_count": null,
   "metadata": {},
   "outputs": [],
   "source": []
  },
  {
   "cell_type": "code",
   "execution_count": null,
   "metadata": {},
   "outputs": [],
   "source": []
  },
  {
   "cell_type": "code",
   "execution_count": null,
   "metadata": {
    "scrolled": false
   },
   "outputs": [],
   "source": [
    "filtered_education.dtypes"
   ]
  },
  {
   "cell_type": "code",
   "execution_count": null,
   "metadata": {},
   "outputs": [],
   "source": []
  },
  {
   "cell_type": "code",
   "execution_count": null,
   "metadata": {
    "scrolled": true
   },
   "outputs": [],
   "source": [
    "df_merge.shape"
   ]
  },
  {
   "cell_type": "code",
   "execution_count": null,
   "metadata": {},
   "outputs": [],
   "source": [
    "df_merge = df_merge.dropna(axis=0)\n",
    "df_merge.shape"
   ]
  },
  {
   "cell_type": "code",
   "execution_count": null,
   "metadata": {},
   "outputs": [],
   "source": []
  },
  {
   "cell_type": "code",
   "execution_count": null,
   "metadata": {},
   "outputs": [],
   "source": []
  },
  {
   "cell_type": "code",
   "execution_count": null,
   "metadata": {},
   "outputs": [],
   "source": []
  },
  {
   "cell_type": "code",
   "execution_count": null,
   "metadata": {
    "scrolled": true
   },
   "outputs": [],
   "source": [
    "df_merge.shape"
   ]
  },
  {
   "cell_type": "code",
   "execution_count": null,
   "metadata": {},
   "outputs": [],
   "source": [
    "df_merge = df_merge.dropna(axis=0)\n",
    "df_merge.shape"
   ]
  },
  {
   "cell_type": "code",
   "execution_count": null,
   "metadata": {},
   "outputs": [],
   "source": []
  },
  {
   "cell_type": "code",
   "execution_count": null,
   "metadata": {},
   "outputs": [],
   "source": []
  },
  {
   "cell_type": "code",
   "execution_count": null,
   "metadata": {},
   "outputs": [],
   "source": []
  },
  {
   "cell_type": "code",
   "execution_count": null,
   "metadata": {},
   "outputs": [],
   "source": [
    "clean_countries[\"Country\"].unique()"
   ]
  },
  {
   "cell_type": "code",
   "execution_count": null,
   "metadata": {},
   "outputs": [],
   "source": []
  },
  {
   "cell_type": "code",
   "execution_count": null,
   "metadata": {},
   "outputs": [],
   "source": []
  },
  {
   "cell_type": "code",
   "execution_count": null,
   "metadata": {},
   "outputs": [],
   "source": []
  },
  {
   "cell_type": "code",
   "execution_count": null,
   "metadata": {},
   "outputs": [],
   "source": []
  },
  {
   "cell_type": "code",
   "execution_count": null,
   "metadata": {},
   "outputs": [],
   "source": []
  },
  {
   "cell_type": "code",
   "execution_count": null,
   "metadata": {},
   "outputs": [],
   "source": []
  },
  {
   "cell_type": "code",
   "execution_count": null,
   "metadata": {},
   "outputs": [],
   "source": []
  },
  {
   "cell_type": "code",
   "execution_count": null,
   "metadata": {},
   "outputs": [],
   "source": []
  },
  {
   "cell_type": "code",
   "execution_count": null,
   "metadata": {},
   "outputs": [],
   "source": [
    "# Merge the child marriage dataframe with the education dataframe\n",
    "new_df = pd.merge(A_df, B_df,  how='left', left_on=['A_c1','c2'], right_on = ['B_c1','c2'])\n",
    "\n",
    "\n",
    "merge_df=pd.merge(pd.merge(clean_childmarriage,clean_countries,on='Country',),filtered_education,on='Country')\n",
    "merge_df.dropna()\n",
    "merge_df = merge_df.drop(columns=['The period of time for which data are provided'])\n",
    "merge_df\n",
    "#clean_df=merge_df.drop_duplicates('SN')"
   ]
  },
  {
   "cell_type": "code",
   "execution_count": null,
   "metadata": {},
   "outputs": [],
   "source": [
    "print(merge_df[\"views\"].max())\n",
    "print(merge_df[\"views\"].min())"
   ]
  },
  {
   "cell_type": "code",
   "execution_count": null,
   "metadata": {},
   "outputs": [],
   "source": [
    "# Create bins in which to place values based upon TED Talk views\n",
    "bins = [0, 199999, 399999, 599999, 799999, 999999,\n",
    "        1999999, 2999999, 3999999, 4999999, 50000000]\n",
    "\n",
    "# Create labels for these bins\n",
    "group_labels = [\"0 to 199k\", \"200k to 399k\", \"400k to 599k\", \"600k to 799k\", \"800k to 999k\", \"1mil to 2mil\",\n",
    "                \"2mil to 3mil\", \"3mil to 4mil\", \"4mil to 5mil\", \"5mil to 50mil\"]\n",
    "\n",
    "pd.cut(ted_df[\"views\"], bins, labels=group_labels).head()\n",
    "\n",
    "# Place the data series into a new column inside of the DataFrame\n",
    "ted_df[\"View Group\"] = pd.cut(ted_df[\"views\"], bins, labels=group_labels)\n",
    "ted_df.head()"
   ]
  },
  {
   "cell_type": "code",
   "execution_count": null,
   "metadata": {},
   "outputs": [],
   "source": []
  },
  {
   "cell_type": "code",
   "execution_count": null,
   "metadata": {},
   "outputs": [],
   "source": []
  },
  {
   "cell_type": "code",
   "execution_count": null,
   "metadata": {},
   "outputs": [],
   "source": []
  },
  {
   "cell_type": "code",
   "execution_count": null,
   "metadata": {},
   "outputs": [],
   "source": []
  },
  {
   "cell_type": "code",
   "execution_count": null,
   "metadata": {},
   "outputs": [],
   "source": []
  }
 ],
 "metadata": {
  "anaconda-cloud": {},
  "kernelspec": {
   "display_name": "Python 3",
   "language": "python",
   "name": "python3"
  },
  "language_info": {
   "codemirror_mode": {
    "name": "ipython",
    "version": 3
   },
   "file_extension": ".py",
   "mimetype": "text/x-python",
   "name": "python",
   "nbconvert_exporter": "python",
   "pygments_lexer": "ipython3",
   "version": "3.7.4"
  }
 },
 "nbformat": 4,
 "nbformat_minor": 2
}
